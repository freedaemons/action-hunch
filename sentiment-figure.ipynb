{
 "cells": [
  {
   "cell_type": "code",
   "execution_count": 1,
   "metadata": {},
   "outputs": [
    {
     "name": "stderr",
     "output_type": "stream",
     "text": [
      "C:\\Users\\friedemann.ang\\AppData\\Local\\Continuum\\anaconda3\\lib\\site-packages\\h5py\\__init__.py:36: FutureWarning: Conversion of the second argument of issubdtype from `float` to `np.floating` is deprecated. In future, it will be treated as `np.float64 == np.dtype(float).type`.\n",
      "  from ._conv import register_converters as _register_converters\n"
     ]
    },
    {
     "name": "stdout",
     "output_type": "stream",
     "text": [
      "1.10.0\n"
     ]
    }
   ],
   "source": [
    "import numpy as np\n",
    "import pandas as pd\n",
    "import os\n",
    "import string\n",
    "import tensorflow as tf\n",
    "print(tf.__version__)\n",
    "\n",
    "import matplotlib.pyplot as plt"
   ]
  },
  {
   "cell_type": "code",
   "execution_count": 2,
   "metadata": {},
   "outputs": [],
   "source": [
    "pd.set_option('display.max_colwidth', -1)"
   ]
  },
  {
   "cell_type": "markdown",
   "metadata": {},
   "source": [
    "https://99bitcoins.com/price-chart-history/\n",
    "\n",
    "https://www.oreilly.com/learning/perform-sentiment-analysis-with-lstms-using-tensorflow\n",
    "\n",
    "https://nlp.stanford.edu/projects/glove/"
   ]
  },
  {
   "cell_type": "markdown",
   "metadata": {},
   "source": [
    "First let's look at the data. I've had to manually label the data crawlled from 99bitcoin because it seems that this approach requires a labelled training set."
   ]
  },
  {
   "cell_type": "code",
   "execution_count": 3,
   "metadata": {},
   "outputs": [],
   "source": [
    "train_filepath = os.path.join('input', '99bitcoins', '99bitcoins_main.csv')"
   ]
  },
  {
   "cell_type": "code",
   "execution_count": 4,
   "metadata": {},
   "outputs": [],
   "source": [
    "train_df = pd.read_csv(train_filepath, encoding='UTF-8')"
   ]
  },
  {
   "cell_type": "code",
   "execution_count": 5,
   "metadata": {
    "scrolled": true
   },
   "outputs": [
    {
     "data": {
      "text/html": [
       "<div>\n",
       "<style scoped>\n",
       "    .dataframe tbody tr th:only-of-type {\n",
       "        vertical-align: middle;\n",
       "    }\n",
       "\n",
       "    .dataframe tbody tr th {\n",
       "        vertical-align: top;\n",
       "    }\n",
       "\n",
       "    .dataframe thead th {\n",
       "        text-align: right;\n",
       "    }\n",
       "</style>\n",
       "<table border=\"1\" class=\"dataframe\">\n",
       "  <thead>\n",
       "    <tr style=\"text-align: right;\">\n",
       "      <th></th>\n",
       "      <th>event_id</th>\n",
       "      <th>event_title</th>\n",
       "      <th>event_date</th>\n",
       "      <th>bitcoin_value</th>\n",
       "      <th>bitcoin_value_10_days_later</th>\n",
       "      <th>event_maintext</th>\n",
       "      <th>title_label</th>\n",
       "      <th>maintext_label</th>\n",
       "    </tr>\n",
       "  </thead>\n",
       "  <tbody>\n",
       "    <tr>\n",
       "      <th>81</th>\n",
       "      <td>10</td>\n",
       "      <td>Gawker Publishes Article About The Silk Road</td>\n",
       "      <td>1/6/2011</td>\n",
       "      <td>9.21</td>\n",
       "      <td>17.61</td>\n",
       "      <td>Titled “The Underground Website Where You Can Buy Any Drug Imaginable,” Adrian Chen's piece on Gawker is as provocative as it is popular. To many people reading it, the sudden realization that Bitcoin has a useful value – one that's entirely unique - hits home. With a link to Mt. Gox in the text, the article starts an enormous upswing in price that beats all previous records, reaching over $31 per bitcoin just one week after publication.</td>\n",
       "      <td>1</td>\n",
       "      <td>1</td>\n",
       "    </tr>\n",
       "    <tr>\n",
       "      <th>82</th>\n",
       "      <td>9</td>\n",
       "      <td>Three New Exchanges Open Supporting More Fiat Currencies</td>\n",
       "      <td>27/3/2011</td>\n",
       "      <td>0.83</td>\n",
       "      <td>0.72</td>\n",
       "      <td>On March 27, 2011, Britcoin launches the first exchange to trade bitcoin and British Pound Sterling (GBP). Just days later, on March 31, Bitcoin Brazil opens a service for face-to-face exchange in Brazilian Reals (BRL) and U.S. Dollars. On April 5, BitMarket.eu begins facilitating trades in Euros (EUR) and other currencies. Together, they simplify bitcoin ownership and trading for hundreds of millions of new users and the market is expanded enormously.</td>\n",
       "      <td>1</td>\n",
       "      <td>1</td>\n",
       "    </tr>\n",
       "    <tr>\n",
       "      <th>83</th>\n",
       "      <td>8</td>\n",
       "      <td>Bitcoin Price Hits $1.00 USD</td>\n",
       "      <td>9/2/2011</td>\n",
       "      <td>0.96</td>\n",
       "      <td>0.91</td>\n",
       "      <td>Just two years old, Bitcoin achieves parity with the U.S. Dollar on the Mt. Gox exchange. The following day, some popular news outlets feature stories on the symbolic milestone, causing such a surge of interest in the growing currency that the official Bitcoin website is temporarily hobbled.</td>\n",
       "      <td>1</td>\n",
       "      <td>1</td>\n",
       "    </tr>\n",
       "    <tr>\n",
       "      <th>84</th>\n",
       "      <td>7</td>\n",
       "      <td>Bitcoin Protocol Bug Causes Hard Fork</td>\n",
       "      <td>15/8/2010</td>\n",
       "      <td>0.07</td>\n",
       "      <td>0.07</td>\n",
       "      <td>Using a peculiar quirk of the way computers process numbers, an unknown person creates a fraudulent transaction that generates 184,467,440,737.08554078 bitcoins – nearly nine-thousand times as many as can legitimately exist in the entire system. The oddity is quickly spotted by Bitcoin developers and community members, and a fixed version of the Bitcoin software is released within hours. By the next day, the corrected blockchain overtakes the exploited one, and Bitcoin is back in normal operation – but not before the market is badly shaken.</td>\n",
       "      <td>0</td>\n",
       "      <td>0</td>\n",
       "    </tr>\n",
       "    <tr>\n",
       "      <th>85</th>\n",
       "      <td>6</td>\n",
       "      <td>Mt. Gox Opens For Business</td>\n",
       "      <td>18/7/2010</td>\n",
       "      <td>0.07</td>\n",
       "      <td>0.06</td>\n",
       "      <td>Jed McCaleb, a programmer best known for creating the successful eDonkey peer-to-peer network in 2000, announces the launch of Mt. Gox, a new full-time bitcoin exchange. Based on a prior, abandoned project of McCaleb's to create an online exchange for Magic: The Gathering cards, he soon struggles to keep up with the demands of the business and sells mtgox.com to Mark Karpelès on March 6, 2011. Mt. Gox would slowly grow to dominate the world of bitcoin trading over the next three years.</td>\n",
       "      <td>1</td>\n",
       "      <td>1</td>\n",
       "    </tr>\n",
       "    <tr>\n",
       "      <th>86</th>\n",
       "      <td>5</td>\n",
       "      <td>Bitcoin Posted on Slashdot</td>\n",
       "      <td>11/7/2010</td>\n",
       "      <td>NaN</td>\n",
       "      <td>NaN</td>\n",
       "      <td>The release of Bitcoin version 0.3 is featured on slashdot.org, a popular news and technology website. Reaching a large audience of technophiles, the article brings many newly-interested people on board, driving the exchange value of a single bitcoin up nearly tenfold, from approximately $0.008 to $0.08 in just five days.</td>\n",
       "      <td>1</td>\n",
       "      <td>1</td>\n",
       "    </tr>\n",
       "    <tr>\n",
       "      <th>87</th>\n",
       "      <td>4</td>\n",
       "      <td>Two Pizzas Are First Material Item Purchased Using Bitcoin</td>\n",
       "      <td>22/5/2010</td>\n",
       "      <td>NaN</td>\n",
       "      <td>NaN</td>\n",
       "      <td>BitcoinTalk user laszlo (Laszlo Hanyecz) pays 10,000 BTC for two pizzas delivered to their house (valued at about $25), ordered and paid for by another user, jercos. This assigns the first concrete valuation to bitcoin - about $0.0025 per coin.</td>\n",
       "      <td>1</td>\n",
       "      <td>1</td>\n",
       "    </tr>\n",
       "    <tr>\n",
       "      <th>88</th>\n",
       "      <td>3</td>\n",
       "      <td>The First Bitcoin-to-Fiat Exchange Occurs</td>\n",
       "      <td>12/10/2009</td>\n",
       "      <td>NaN</td>\n",
       "      <td>NaN</td>\n",
       "      <td>Using PayPal, NewLibertyStandard buys 5,050 BTC from Sirius for $5.02, equating to roughly one tenth of a cent per bitcoin.</td>\n",
       "      <td>1</td>\n",
       "      <td>1</td>\n",
       "    </tr>\n",
       "    <tr>\n",
       "      <th>89</th>\n",
       "      <td>2</td>\n",
       "      <td>New Liberty Standard Publishes First Exchange Rate</td>\n",
       "      <td>5/10/2009</td>\n",
       "      <td>NaN</td>\n",
       "      <td>NaN</td>\n",
       "      <td>New Liberty Standard opens a service to buy and sell bitcoin, with an initial exchange rate of 1,309.03 BTC to one U.S. Dollar, or about eight hundredths of a cent per bitcoin. The rate is derived from the cost of electricity used by a computer to generate, or “mine” the currency.</td>\n",
       "      <td>1</td>\n",
       "      <td>1</td>\n",
       "    </tr>\n",
       "    <tr>\n",
       "      <th>90</th>\n",
       "      <td>1</td>\n",
       "      <td>Genesis Block Established</td>\n",
       "      <td>3/1/2009</td>\n",
       "      <td>NaN</td>\n",
       "      <td>NaN</td>\n",
       "      <td>The first Bitcoin transaction record, or genesis block, kicks off the Bitcoin blockchain and includes a reference to a  pertinent newspaper headline of that day: The Times 03/Jan/2009 Chancellor on brink of second bailout for banks.The initial Bitcoin program and its source code are released by Satoshi Nakamoto six days later.</td>\n",
       "      <td>1</td>\n",
       "      <td>1</td>\n",
       "    </tr>\n",
       "  </tbody>\n",
       "</table>\n",
       "</div>"
      ],
      "text/plain": [
       "    event_id                                                 event_title  \\\n",
       "81  10        Gawker Publishes Article About The Silk Road                 \n",
       "82  9         Three New Exchanges Open Supporting More Fiat Currencies     \n",
       "83  8         Bitcoin Price Hits $1.00 USD                                 \n",
       "84  7         Bitcoin Protocol Bug Causes Hard Fork                        \n",
       "85  6         Mt. Gox Opens For Business                                   \n",
       "86  5         Bitcoin Posted on Slashdot                                   \n",
       "87  4         Two Pizzas Are First Material Item Purchased Using Bitcoin   \n",
       "88  3         The First Bitcoin-to-Fiat Exchange Occurs                    \n",
       "89  2         New Liberty Standard Publishes First Exchange Rate           \n",
       "90  1         Genesis Block Established                                    \n",
       "\n",
       "    event_date  bitcoin_value  bitcoin_value_10_days_later  \\\n",
       "81  1/6/2011    9.21           17.61                         \n",
       "82  27/3/2011   0.83           0.72                          \n",
       "83  9/2/2011    0.96           0.91                          \n",
       "84  15/8/2010   0.07           0.07                          \n",
       "85  18/7/2010   0.07           0.06                          \n",
       "86  11/7/2010  NaN            NaN                            \n",
       "87  22/5/2010  NaN            NaN                            \n",
       "88  12/10/2009 NaN            NaN                            \n",
       "89  5/10/2009  NaN            NaN                            \n",
       "90  3/1/2009   NaN            NaN                            \n",
       "\n",
       "                                                                                                                                                                                                                                                                                                                                                                                                                                                                                                                                                        event_maintext  \\\n",
       "81  Titled “The Underground Website Where You Can Buy Any Drug Imaginable,” Adrian Chen's piece on Gawker is as provocative as it is popular. To many people reading it, the sudden realization that Bitcoin has a useful value – one that's entirely unique - hits home. With a link to Mt. Gox in the text, the article starts an enormous upswing in price that beats all previous records, reaching over $31 per bitcoin just one week after publication.                                                                                                            \n",
       "82  On March 27, 2011, Britcoin launches the first exchange to trade bitcoin and British Pound Sterling (GBP). Just days later, on March 31, Bitcoin Brazil opens a service for face-to-face exchange in Brazilian Reals (BRL) and U.S. Dollars. On April 5, BitMarket.eu begins facilitating trades in Euros (EUR) and other currencies. Together, they simplify bitcoin ownership and trading for hundreds of millions of new users and the market is expanded enormously.                                                                                             \n",
       "83  Just two years old, Bitcoin achieves parity with the U.S. Dollar on the Mt. Gox exchange. The following day, some popular news outlets feature stories on the symbolic milestone, causing such a surge of interest in the growing currency that the official Bitcoin website is temporarily hobbled.                                                                                                                                                                                                                                                                 \n",
       "84  Using a peculiar quirk of the way computers process numbers, an unknown person creates a fraudulent transaction that generates 184,467,440,737.08554078 bitcoins – nearly nine-thousand times as many as can legitimately exist in the entire system. The oddity is quickly spotted by Bitcoin developers and community members, and a fixed version of the Bitcoin software is released within hours. By the next day, the corrected blockchain overtakes the exploited one, and Bitcoin is back in normal operation – but not before the market is badly shaken.   \n",
       "85  Jed McCaleb, a programmer best known for creating the successful eDonkey peer-to-peer network in 2000, announces the launch of Mt. Gox, a new full-time bitcoin exchange. Based on a prior, abandoned project of McCaleb's to create an online exchange for Magic: The Gathering cards, he soon struggles to keep up with the demands of the business and sells mtgox.com to Mark Karpelès on March 6, 2011. Mt. Gox would slowly grow to dominate the world of bitcoin trading over the next three years.                                                           \n",
       "86  The release of Bitcoin version 0.3 is featured on slashdot.org, a popular news and technology website. Reaching a large audience of technophiles, the article brings many newly-interested people on board, driving the exchange value of a single bitcoin up nearly tenfold, from approximately $0.008 to $0.08 in just five days.                                                                                                                                                                                                                                  \n",
       "87  BitcoinTalk user laszlo (Laszlo Hanyecz) pays 10,000 BTC for two pizzas delivered to their house (valued at about $25), ordered and paid for by another user, jercos. This assigns the first concrete valuation to bitcoin - about $0.0025 per coin.                                                                                                                                                                                                                                                                                                                 \n",
       "88  Using PayPal, NewLibertyStandard buys 5,050 BTC from Sirius for $5.02, equating to roughly one tenth of a cent per bitcoin.                                                                                                                                                                                                                                                                                                                                                                                                                                          \n",
       "89  New Liberty Standard opens a service to buy and sell bitcoin, with an initial exchange rate of 1,309.03 BTC to one U.S. Dollar, or about eight hundredths of a cent per bitcoin. The rate is derived from the cost of electricity used by a computer to generate, or “mine” the currency.                                                                                                                                                                                                                                                                            \n",
       "90  The first Bitcoin transaction record, or genesis block, kicks off the Bitcoin blockchain and includes a reference to a  pertinent newspaper headline of that day: The Times 03/Jan/2009 Chancellor on brink of second bailout for banks.The initial Bitcoin program and its source code are released by Satoshi Nakamoto six days later.                                                                                                                                                                                                                             \n",
       "\n",
       "    title_label  maintext_label  \n",
       "81  1            1               \n",
       "82  1            1               \n",
       "83  1            1               \n",
       "84  0            0               \n",
       "85  1            1               \n",
       "86  1            1               \n",
       "87  1            1               \n",
       "88  1            1               \n",
       "89  1            1               \n",
       "90  1            1               "
      ]
     },
     "execution_count": 5,
     "metadata": {},
     "output_type": "execute_result"
    }
   ],
   "source": [
    "train_df.tail(10)"
   ]
  },
  {
   "cell_type": "code",
   "execution_count": 6,
   "metadata": {},
   "outputs": [
    {
     "data": {
      "text/plain": [
       "<matplotlib.axes._subplots.AxesSubplot at 0x25c406597f0>"
      ]
     },
     "execution_count": 6,
     "metadata": {},
     "output_type": "execute_result"
    },
    {
     "data": {
      "image/png": "[encoded data removed]",
      "text/plain": [
       "<Figure size 432x288 with 2 Axes>"
      ]
     },
     "metadata": {},
     "output_type": "display_data"
    }
   ],
   "source": [
    "fig, axes = plt.subplots(1,2)\n",
    "train_df.groupby('title_label').agg('count').iloc[:,0:1].plot(kind='bar', ax=axes[0])\n",
    "train_df.groupby('maintext_label').agg('count').iloc[:,0:1].plot(kind='bar', ax=axes[1])"
   ]
  },
  {
   "cell_type": "code",
   "execution_count": 7,
   "metadata": {},
   "outputs": [],
   "source": [
    "datadir = os.path.join('input', '99bitcoins')\n",
    "glove_wordvectors = os.path.join('input', 'glove.6B', 'glove.6B.50d.txt')"
   ]
  },
  {
   "cell_type": "markdown",
   "metadata": {},
   "source": [
    "I'm trying to recreate https://github.com/adeshpande3/LSTM-Sentiment-Analysis/blob/master/Oriole%20LSTM.ipynb\n",
    "using the trained word vector files from https://nlp.stanford.edu/projects/glove/. It's not clear where or what 'wordsList.npy', used in the first link, is, so I'm recreating the numpy arrays from the available txt file."
   ]
  },
  {
   "cell_type": "code",
   "execution_count": null,
   "metadata": {
    "scrolled": true
   },
   "outputs": [],
   "source": [
    "\"\"\"\n",
    "np.loadtext and np.genfromtxt handle special characters poorly (most likely quotation marks), and fail\n",
    "to skip over columns even when they are excluded using the usecols parameter. This causes rows to be wrongly delimited\n",
    "\n",
    "The workaround, in the following cell, uses pandas.read_csv to work around this problem, by specifying an obscure quotechar\n",
    "parameter, so that quotation marks and other characters are not mistaken for quotechars, interrupting parsing.\n",
    "\"\"\"\n",
    "wordvectors = np.genfromtxt(glove_wordvectors, \n",
    "                            usecols=tuple(range(1,51)), \n",
    "                            encoding='UTF=8', \n",
    "                            dtype=None)"
   ]
  },
  {
   "cell_type": "code",
   "execution_count": 8,
   "metadata": {},
   "outputs": [],
   "source": [
    "wordvectors_df = pd.read_csv(glove_wordvectors, names=list(range(0,51)), sep=' ', engine='python', quotechar='\\x07')"
   ]
  },
  {
   "cell_type": "code",
   "execution_count": 9,
   "metadata": {
    "scrolled": false
   },
   "outputs": [
    {
     "data": {
      "text/plain": [
       "(400000, 51)"
      ]
     },
     "execution_count": 9,
     "metadata": {},
     "output_type": "execute_result"
    }
   ],
   "source": [
    "wordvectors_df.shape"
   ]
  },
  {
   "cell_type": "code",
   "execution_count": 10,
   "metadata": {},
   "outputs": [],
   "source": [
    "wordvectors = wordvectors_df.iloc[:,1:51].values.astype('float32')\n",
    "wordlist = list(wordvectors_df.iloc[:,0].values)"
   ]
  },
  {
   "cell_type": "code",
   "execution_count": 11,
   "metadata": {
    "scrolled": true
   },
   "outputs": [
    {
     "data": {
      "text/plain": [
       "array([], shape=(0, 50), dtype=float32)"
      ]
     },
     "execution_count": 11,
     "metadata": {},
     "output_type": "execute_result"
    }
   ],
   "source": [
    "wordvectors[np.where(wordlist == 'fried')]"
   ]
  },
  {
   "cell_type": "code",
   "execution_count": 12,
   "metadata": {},
   "outputs": [],
   "source": [
    "count_df= pd.DataFrame([len(x.split(' ')) for x in train_df['event_maintext']], columns=['wordcount'])"
   ]
  },
  {
   "cell_type": "code",
   "execution_count": 13,
   "metadata": {
    "scrolled": true
   },
   "outputs": [
    {
     "data": {
      "text/html": [
       "<div>\n",
       "<style scoped>\n",
       "    .dataframe tbody tr th:only-of-type {\n",
       "        vertical-align: middle;\n",
       "    }\n",
       "\n",
       "    .dataframe tbody tr th {\n",
       "        vertical-align: top;\n",
       "    }\n",
       "\n",
       "    .dataframe thead th {\n",
       "        text-align: right;\n",
       "    }\n",
       "</style>\n",
       "<table border=\"1\" class=\"dataframe\">\n",
       "  <thead>\n",
       "    <tr style=\"text-align: right;\">\n",
       "      <th></th>\n",
       "      <th>index</th>\n",
       "    </tr>\n",
       "    <tr>\n",
       "      <th>wordcount</th>\n",
       "      <th></th>\n",
       "    </tr>\n",
       "  </thead>\n",
       "  <tbody>\n",
       "    <tr>\n",
       "      <th>137</th>\n",
       "      <td>2</td>\n",
       "    </tr>\n",
       "    <tr>\n",
       "      <th>138</th>\n",
       "      <td>1</td>\n",
       "    </tr>\n",
       "    <tr>\n",
       "      <th>141</th>\n",
       "      <td>2</td>\n",
       "    </tr>\n",
       "    <tr>\n",
       "      <th>153</th>\n",
       "      <td>1</td>\n",
       "    </tr>\n",
       "    <tr>\n",
       "      <th>169</th>\n",
       "      <td>1</td>\n",
       "    </tr>\n",
       "  </tbody>\n",
       "</table>\n",
       "</div>"
      ],
      "text/plain": [
       "           index\n",
       "wordcount       \n",
       "137        2    \n",
       "138        1    \n",
       "141        2    \n",
       "153        1    \n",
       "169        1    "
      ]
     },
     "execution_count": 13,
     "metadata": {},
     "output_type": "execute_result"
    }
   ],
   "source": [
    "count_df.reset_index().groupby('wordcount').agg('count').tail()"
   ]
  },
  {
   "cell_type": "code",
   "execution_count": 14,
   "metadata": {},
   "outputs": [],
   "source": [
    "max_sentence_len = 170\n",
    "num_dimensions = 50"
   ]
  },
  {
   "cell_type": "code",
   "execution_count": 15,
   "metadata": {},
   "outputs": [],
   "source": [
    "def get_word_index(word, word_index_list):\n",
    "    try:\n",
    "        return word_index_list.index(word.lower())\n",
    "    except Exception as e:\n",
    "        return 0"
   ]
  },
  {
   "cell_type": "code",
   "execution_count": 17,
   "metadata": {
    "scrolled": true
   },
   "outputs": [
    {
     "name": "stdout",
     "output_type": "stream",
     "text": [
      "['The', 'U.S.', 'Commodity', 'Futures', 'Trading', 'Commission', '(CFTC)', 'has', 'sent', 'subpoenas', 'to', 'four', 'crypto-exchanges—Bitstamp,', 'Kraken,', 'ItBit,', 'and', 'Coinbase—demanding', 'answers', 'on', 'the', 'subject', 'of', 'market', 'price', 'distortion.']\n",
      "[0, 99, 7059, 3081, 857, 627, 0, 31, 688, 19976, 4, 133, 0, 0, 0, 5, 0, 5319, 13, 0, 1698, 3, 211, 626, 0, 0, 0, 0, 0, 0, 0, 0, 0, 0, 0, 0, 0, 0, 0, 0, 0, 0, 0, 0, 0, 0, 0, 0, 0, 0, 0, 0, 0, 0, 0, 0, 0, 0, 0, 0, 0, 0, 0, 0, 0, 0, 0, 0, 0, 0, 0, 0, 0, 0, 0, 0, 0, 0, 0, 0, 0, 0, 0, 0, 0, 0, 0, 0, 0, 0, 0, 0, 0, 0, 0, 0, 0, 0, 0, 0, 0, 0, 0, 0, 0, 0, 0, 0, 0, 0, 0, 0, 0, 0, 0, 0, 0, 0, 0, 0, 0, 0, 0, 0, 0, 0, 0, 0, 0, 0, 0, 0, 0, 0, 0, 0, 0, 0, 0, 0, 0, 0, 0, 0, 0, 0, 0, 0, 0, 0, 0, 0, 0, 0, 0, 0, 0, 0, 0, 0, 0, 0, 0, 0, 0, 0, 0, 0, 0, 0]\n"
     ]
    }
   ],
   "source": [
    "first_sentence = train_df['event_maintext'][0].split(' ')\n",
    "print(first_sentence)\n",
    "padding = [0] * (max_sentence_len - len(first_sentence))\n",
    "first_sentence_integerized = [get_word_index(x, wordlist) for x in first_sentence] + padding\n",
    "print(first_sentence_integerized)"
   ]
  },
  {
   "cell_type": "code",
   "execution_count": 21,
   "metadata": {},
   "outputs": [
    {
     "name": "stdout",
     "output_type": "stream",
     "text": [
      "(170, 50)\n"
     ]
    }
   ],
   "source": [
    "with tf.Session() as sess:\n",
    "    print(tf.nn.embedding_lookup(wordvectors, first_sentence_integerized).eval().shape)"
   ]
  },
  {
   "cell_type": "code",
   "execution_count": 22,
   "metadata": {},
   "outputs": [],
   "source": [
    "def build_ids(sentence):\n",
    "    lowercase_no_punctuation = ''.join([x.lower() for x in sentence if x not in string.punctuation])\n",
    "    s_list = lowercase_no_punctuation.split(' ')\n",
    "    \n",
    "    padding = [0] * (max_sentence_len - len(sentence))\n",
    "    sentence_integerized = [get_word_index(x, wordlist) for x in s_list] + padding\n",
    "    \n",
    "    return sentence_integerized"
   ]
  },
  {
   "cell_type": "code",
   "execution_count": 23,
   "metadata": {},
   "outputs": [],
   "source": [
    "ids = np.array([np.array(build_ids(sentence)).astype('int32') for sentence in list(train_df['event_maintext'])])"
   ]
  },
  {
   "cell_type": "code",
   "execution_count": 38,
   "metadata": {},
   "outputs": [],
   "source": [
    "#helper functions\n",
    "dataset_size = len(train_df)\n",
    "\n",
    "from random import randint\n",
    "\n",
    "def getTrainBatch():\n",
    "    labels = []\n",
    "    arr = np.zeros([batch_size, max_sentence_len])\n",
    "    for i in range(batch_size):\n",
    "        if (i % 2 == 0): \n",
    "            num = randint(1,dataset_size//2)\n",
    "            labels.append([1,0])\n",
    "        else:\n",
    "            num = randint(dataset_size//2 + 1, dataset_size - 1)\n",
    "            labels.append([0,1])\n",
    "        arr[i] = ids[num-1:num]\n",
    "    return arr, labels\n",
    "\n",
    "def getTestBatch():\n",
    "    labels = []\n",
    "    arr = np.zeros([batch_size, max_sentence_len])\n",
    "    for i in range(batch_size):\n",
    "        num = randint(11499,13499)\n",
    "        if (num <= 12499):\n",
    "            labels.append([1,0])\n",
    "        else:\n",
    "            labels.append([0,1])\n",
    "        arr[i] = ids[num-1:num]\n",
    "    return arr, labels"
   ]
  },
  {
   "cell_type": "code",
   "execution_count": 24,
   "metadata": {},
   "outputs": [],
   "source": [
    "# hyperparameters\n",
    "batch_size = 24\n",
    "lstm_units = 64\n",
    "num_classes = 2\n",
    "iterations = 100000"
   ]
  },
  {
   "cell_type": "code",
   "execution_count": 25,
   "metadata": {},
   "outputs": [],
   "source": [
    "tf.reset_default_graph()\n",
    "\n",
    "labels = tf.placeholder(tf.float32, [batch_size, num_classes])\n",
    "input_data = tf.placeholder(tf.int32, [batch_size, max_sentence_len])"
   ]
  },
  {
   "cell_type": "code",
   "execution_count": 26,
   "metadata": {},
   "outputs": [],
   "source": [
    "data = tf.Variable(tf.zeros([batch_size, max_sentence_len, num_dimensions]), dtype=tf.float32)\n",
    "data = tf.nn.embedding_lookup(wordvectors, input_data)"
   ]
  },
  {
   "cell_type": "code",
   "execution_count": 27,
   "metadata": {},
   "outputs": [],
   "source": [
    "lstmCell = tf.contrib.rnn.BasicLSTMCell(lstm_units)\n",
    "lstmCell = tf.contrib.rnn.DropoutWrapper(cell=lstmCell, output_keep_prob=0.75)\n",
    "value, _ = tf.nn.dynamic_rnn(lstmCell, data, dtype=tf.float32)"
   ]
  },
  {
   "cell_type": "code",
   "execution_count": 28,
   "metadata": {},
   "outputs": [
    {
     "data": {
      "text/plain": [
       "dtype('float32')"
      ]
     },
     "execution_count": 28,
     "metadata": {},
     "output_type": "execute_result"
    }
   ],
   "source": [
    "wordvectors.dtype"
   ]
  },
  {
   "cell_type": "code",
   "execution_count": 29,
   "metadata": {},
   "outputs": [],
   "source": [
    "weight = tf.Variable(tf.truncated_normal([lstm_units, num_classes]))\n",
    "bias = tf.Variable(tf.constant(0.1, shape=[num_classes]))\n",
    "value = tf.transpose(value, [1, 0, 2])\n",
    "last = tf.gather(value, int(value.get_shape()[0]) - 1)\n",
    "prediction = (tf.matmul(last, weight) + bias)"
   ]
  },
  {
   "cell_type": "code",
   "execution_count": 31,
   "metadata": {},
   "outputs": [],
   "source": [
    "correctPred = tf.equal(tf.argmax(prediction,1), tf.argmax(labels,1))\n",
    "accuracy = tf.reduce_mean(tf.cast(correctPred, tf.float32))"
   ]
  },
  {
   "cell_type": "code",
   "execution_count": 32,
   "metadata": {},
   "outputs": [
    {
     "name": "stdout",
     "output_type": "stream",
     "text": [
      "WARNING:tensorflow:From <ipython-input-32-773132a4e1b5>:1: softmax_cross_entropy_with_logits (from tensorflow.python.ops.nn_ops) is deprecated and will be removed in a future version.\n",
      "Instructions for updating:\n",
      "\n",
      "Future major versions of TensorFlow will allow gradients to flow\n",
      "into the labels input on backprop by default.\n",
      "\n",
      "See @{tf.nn.softmax_cross_entropy_with_logits_v2}.\n",
      "\n"
     ]
    }
   ],
   "source": [
    "loss = tf.reduce_mean(tf.nn.softmax_cross_entropy_with_logits(logits=prediction, labels=labels))\n",
    "optimizer = tf.train.AdamOptimizer().minimize(loss)"
   ]
  },
  {
   "cell_type": "code",
   "execution_count": 39,
   "metadata": {},
   "outputs": [
    {
     "name": "stderr",
     "output_type": "stream",
     "text": [
      "C:\\Users\\friedemann.ang\\AppData\\Local\\Continuum\\anaconda3\\lib\\site-packages\\tensorflow\\python\\client\\session.py:1645: UserWarning: An interactive session is already active. This can cause out-of-memory errors in some cases. You must explicitly call `InteractiveSession.close()` to release resources held by the other session(s).\n",
      "  warnings.warn('An interactive session is already active. This can '\n"
     ]
    },
    {
     "ename": "ValueError",
     "evalue": "setting an array element with a sequence.",
     "output_type": "error",
     "traceback": [
      "\u001b[1;31m---------------------------------------------------------------------------\u001b[0m",
      "\u001b[1;31mValueError\u001b[0m                                Traceback (most recent call last)",
      "\u001b[1;32m<ipython-input-39-18121826a3a6>\u001b[0m in \u001b[0;36m<module>\u001b[1;34m()\u001b[0m\n\u001b[0;32m      5\u001b[0m \u001b[1;32mfor\u001b[0m \u001b[0mi\u001b[0m \u001b[1;32min\u001b[0m \u001b[0mrange\u001b[0m\u001b[1;33m(\u001b[0m\u001b[0miterations\u001b[0m\u001b[1;33m)\u001b[0m\u001b[1;33m:\u001b[0m\u001b[1;33m\u001b[0m\u001b[0m\n\u001b[0;32m      6\u001b[0m    \u001b[1;31m#Next Batch of reviews\u001b[0m\u001b[1;33m\u001b[0m\u001b[1;33m\u001b[0m\u001b[0m\n\u001b[1;32m----> 7\u001b[1;33m    \u001b[0mnextBatch\u001b[0m\u001b[1;33m,\u001b[0m \u001b[0mnextBatchLabels\u001b[0m \u001b[1;33m=\u001b[0m \u001b[0mgetTrainBatch\u001b[0m\u001b[1;33m(\u001b[0m\u001b[1;33m)\u001b[0m\u001b[1;33m;\u001b[0m\u001b[1;33m\u001b[0m\u001b[0m\n\u001b[0m\u001b[0;32m      8\u001b[0m    \u001b[0msess\u001b[0m\u001b[1;33m.\u001b[0m\u001b[0mrun\u001b[0m\u001b[1;33m(\u001b[0m\u001b[0moptimizer\u001b[0m\u001b[1;33m,\u001b[0m \u001b[1;33m{\u001b[0m\u001b[0minput_data\u001b[0m\u001b[1;33m:\u001b[0m \u001b[0mnextBatch\u001b[0m\u001b[1;33m,\u001b[0m \u001b[0mlabels\u001b[0m\u001b[1;33m:\u001b[0m \u001b[0mnextBatchLabels\u001b[0m\u001b[1;33m}\u001b[0m\u001b[1;33m)\u001b[0m\u001b[1;33m\u001b[0m\u001b[0m\n\u001b[0;32m      9\u001b[0m \u001b[1;33m\u001b[0m\u001b[0m\n",
      "\u001b[1;32m<ipython-input-38-60354a00dd12>\u001b[0m in \u001b[0;36mgetTrainBatch\u001b[1;34m()\u001b[0m\n\u001b[0;32m     14\u001b[0m             \u001b[0mnum\u001b[0m \u001b[1;33m=\u001b[0m \u001b[0mrandint\u001b[0m\u001b[1;33m(\u001b[0m\u001b[0mdataset_size\u001b[0m\u001b[1;33m//\u001b[0m\u001b[1;36m2\u001b[0m \u001b[1;33m+\u001b[0m \u001b[1;36m1\u001b[0m\u001b[1;33m,\u001b[0m \u001b[0mdataset_size\u001b[0m \u001b[1;33m-\u001b[0m \u001b[1;36m1\u001b[0m\u001b[1;33m)\u001b[0m\u001b[1;33m\u001b[0m\u001b[0m\n\u001b[0;32m     15\u001b[0m             \u001b[0mlabels\u001b[0m\u001b[1;33m.\u001b[0m\u001b[0mappend\u001b[0m\u001b[1;33m(\u001b[0m\u001b[1;33m[\u001b[0m\u001b[1;36m0\u001b[0m\u001b[1;33m,\u001b[0m\u001b[1;36m1\u001b[0m\u001b[1;33m]\u001b[0m\u001b[1;33m)\u001b[0m\u001b[1;33m\u001b[0m\u001b[0m\n\u001b[1;32m---> 16\u001b[1;33m         \u001b[0marr\u001b[0m\u001b[1;33m[\u001b[0m\u001b[0mi\u001b[0m\u001b[1;33m]\u001b[0m \u001b[1;33m=\u001b[0m \u001b[0mids\u001b[0m\u001b[1;33m[\u001b[0m\u001b[0mnum\u001b[0m\u001b[1;33m-\u001b[0m\u001b[1;36m1\u001b[0m\u001b[1;33m:\u001b[0m\u001b[0mnum\u001b[0m\u001b[1;33m]\u001b[0m\u001b[1;33m\u001b[0m\u001b[0m\n\u001b[0m\u001b[0;32m     17\u001b[0m     \u001b[1;32mreturn\u001b[0m \u001b[0marr\u001b[0m\u001b[1;33m,\u001b[0m \u001b[0mlabels\u001b[0m\u001b[1;33m\u001b[0m\u001b[0m\n\u001b[0;32m     18\u001b[0m \u001b[1;33m\u001b[0m\u001b[0m\n",
      "\u001b[1;31mValueError\u001b[0m: setting an array element with a sequence."
     ]
    }
   ],
   "source": [
    "sess = tf.InteractiveSession()\n",
    "saver = tf.train.Saver()\n",
    "sess.run(tf.global_variables_initializer())\n",
    "\n",
    "for i in range(iterations):\n",
    "   #Next Batch of reviews\n",
    "   nextBatch, nextBatchLabels = getTrainBatch();\n",
    "   sess.run(optimizer, {input_data: nextBatch, labels: nextBatchLabels})\n",
    "\n",
    "   #Write summary to Tensorboard\n",
    "   if (i % 50 == 0):\n",
    "       summary = sess.run(merged, {input_data: nextBatch, labels: nextBatchLabels})\n",
    "       writer.add_summary(summary, i)\n",
    "\n",
    "   #Save the network every 10,000 training iterations\n",
    "   if (i % 10000 == 0 and i != 0):\n",
    "       save_path = saver.save(sess, \"models/pretrained_lstm.ckpt\", global_step=i)\n",
    "       print(\"saved to %s\" % save_path)\n",
    "writer.close()"
   ]
  }
 ],
 "metadata": {
  "kernelspec": {
   "display_name": "Python 3",
   "language": "python",
   "name": "python3"
  },
  "language_info": {
   "codemirror_mode": {
    "name": "ipython",
    "version": 3
   },
   "file_extension": ".py",
   "mimetype": "text/x-python",
   "name": "python",
   "nbconvert_exporter": "python",
   "pygments_lexer": "ipython3",
   "version": "3.6.5"
  }
 },
 "nbformat": 4,
 "nbformat_minor": 2
}
