{
 "cells": [
  {
   "cell_type": "code",
   "execution_count": 1,
   "metadata": {
    "scrolled": true
   },
   "outputs": [],
   "source": [
    "import random\n",
    "import os\n",
    "import pandas as pd\n",
    "\n",
    "from sklearn import metrics\n",
    "\n",
    "import torch\n",
    "import torch.nn as nn\n",
    "import torch.optim as optim\n",
    "import torch.nn.functional as F\n",
    "\n",
    "from torchtext import data\n",
    "from torchtext import datasets"
   ]
  },
  {
   "cell_type": "code",
   "execution_count": 2,
   "metadata": {
    "scrolled": true
   },
   "outputs": [],
   "source": [
    "SEED = 1234\n",
    "\n",
    "torch.manual_seed(SEED)\n",
    "torch.cuda.manual_seed(SEED)"
   ]
  },
  {
   "cell_type": "code",
   "execution_count": 3,
   "metadata": {
    "scrolled": true
   },
   "outputs": [],
   "source": [
    "def generate_bigrams(x):\n",
    "    n_grams = set(zip(*[x[i:] for i in range(2)]))\n",
    "    for n_gram in n_grams:\n",
    "        x.append(' '.join(n_gram))\n",
    "    return x"
   ]
  },
  {
   "cell_type": "code",
   "execution_count": 4,
   "metadata": {
    "scrolled": true
   },
   "outputs": [
    {
     "data": {
      "text/plain": [
       "['This',\n",
       " 'is',\n",
       " 'the',\n",
       " 'worst',\n",
       " 'basmati',\n",
       " 'ever',\n",
       " 'worst basmati',\n",
       " 'This is',\n",
       " 'is the',\n",
       " 'the worst',\n",
       " 'basmati ever']"
      ]
     },
     "execution_count": 4,
     "metadata": {},
     "output_type": "execute_result"
    }
   ],
   "source": [
    "generate_bigrams('This is the worst basmati ever'.split(\" \"))"
   ]
  },
  {
   "cell_type": "code",
   "execution_count": null,
   "metadata": {
    "scrolled": true
   },
   "outputs": [],
   "source": [
    "TEXT = data.Field(tokenize='spacy', preprocessing=generate_bigrams)\n",
    "LABEL = data.LabelField(tensor_type=torch.FloatTensor)"
   ]
  },
  {
   "cell_type": "code",
   "execution_count": null,
   "metadata": {
    "scrolled": true
   },
   "outputs": [],
   "source": [
    "train, test = datasets.IMDB.splits(TEXT, LABEL)\n",
    "\n",
    "train, valid = train.split(random_state=random.seed(SEED))"
   ]
  },
  {
   "cell_type": "code",
   "execution_count": null,
   "metadata": {
    "scrolled": true
   },
   "outputs": [],
   "source": [
    "TEXT.build_vocab(train, max_size=25000, vectors=\"glove.6B.100d\")\n",
    "LABEL.build_vocab(train)"
   ]
  },
  {
   "cell_type": "code",
   "execution_count": null,
   "metadata": {
    "scrolled": true
   },
   "outputs": [],
   "source": [
    "BATCH_SIZE = 64\n",
    "\n",
    "train_iterator, valid_iterator, test_iterator = data.BucketIterator.splits(\n",
    "    (train, valid, test), \n",
    "    batch_size=BATCH_SIZE, \n",
    "    sort_key=lambda x: len(x.text), \n",
    "    repeat=False)"
   ]
  },
  {
   "cell_type": "code",
   "execution_count": 5,
   "metadata": {
    "scrolled": true
   },
   "outputs": [],
   "source": [
    "class FastText(nn.Module):\n",
    "    def __init__(self, vocab_size, embedding_dim, output_dim):\n",
    "        super().__init__()\n",
    "        \n",
    "        self.embedding = nn.Embedding(vocab_size, embedding_dim)\n",
    "        self.fc = nn.Linear(embedding_dim, output_dim)\n",
    "        \n",
    "    def forward(self, x):\n",
    "        \n",
    "        #x = [sent len, batch size]\n",
    "        \n",
    "        embedded = self.embedding(x)\n",
    "                \n",
    "        #embedded = [sent len, batch size, emb dim]\n",
    "        \n",
    "        embedded = embedded.permute(1, 0, 2)\n",
    "        \n",
    "        #embedded = [batch size, sent len, emb dim]\n",
    "        \n",
    "        pooled = F.avg_pool2d(embedded, (embedded.shape[1], 1)).squeeze(1) \n",
    "        \n",
    "        #pooled = [batch size, embedding_dim]\n",
    "                \n",
    "        return self.fc(pooled)"
   ]
  },
  {
   "cell_type": "code",
   "execution_count": null,
   "metadata": {
    "scrolled": true
   },
   "outputs": [],
   "source": [
    "INPUT_DIM = len(TEXT.vocab)\n",
    "EMBEDDING_DIM = 100\n",
    "OUTPUT_DIM = 1\n",
    "\n",
    "model = FastText(INPUT_DIM, EMBEDDING_DIM, OUTPUT_DIM)"
   ]
  },
  {
   "cell_type": "code",
   "execution_count": null,
   "metadata": {
    "scrolled": true
   },
   "outputs": [],
   "source": [
    "pretrained_embeddings  = TEXT.vocab.vectors\n",
    "model.embedding.weight.data.copy_(pretrained_embeddings)"
   ]
  },
  {
   "cell_type": "code",
   "execution_count": null,
   "metadata": {
    "scrolled": true
   },
   "outputs": [],
   "source": [
    "optimizer = optim.Adam(model.parameters())\n",
    "\n",
    "criterion = nn.BCEWithLogitsLoss()\n",
    "\n",
    "device = torch.device('cuda' if torch.cuda.is_available() else 'cpu')\n",
    "\n",
    "model = model.to(device)\n",
    "criterion = criterion.to(device)\n",
    "print(model)"
   ]
  },
  {
   "cell_type": "code",
   "execution_count": 6,
   "metadata": {
    "scrolled": true
   },
   "outputs": [],
   "source": [
    "def binary_accuracy(preds, y):\n",
    "    \"\"\"\n",
    "    Returns accuracy per batch, i.e. if you get 8/10 right, this returns 0.8, NOT 8\n",
    "    \"\"\"\n",
    "\n",
    "    #round predictions to the closest integer\n",
    "    rounded_preds = torch.round(F.sigmoid(preds))\n",
    "    correct = (rounded_preds == y).float() #convert into float for division \n",
    "    acc = correct.sum()/len(correct)\n",
    "    return acc"
   ]
  },
  {
   "cell_type": "code",
   "execution_count": 7,
   "metadata": {
    "scrolled": true
   },
   "outputs": [],
   "source": [
    "def train(model, iterator, optimizer, criterion):\n",
    "    \n",
    "    epoch_loss = 0\n",
    "    epoch_acc = 0\n",
    "    \n",
    "    model.train()\n",
    "    \n",
    "    for batch in iterator:\n",
    "\n",
    "        optimizer.zero_grad()\n",
    "        \n",
    "        predictions = model(batch.text).squeeze(1)\n",
    "        \n",
    "        loss = criterion(predictions, batch.label)\n",
    "        \n",
    "        acc = binary_accuracy(predictions, batch.label)\n",
    "        \n",
    "        loss.backward()\n",
    "        \n",
    "        optimizer.step()\n",
    "        \n",
    "        epoch_loss += loss.item()\n",
    "        epoch_acc += acc.item()\n",
    "        \n",
    "    return epoch_loss / len(iterator), epoch_acc / len(iterator)"
   ]
  },
  {
   "cell_type": "code",
   "execution_count": 8,
   "metadata": {
    "scrolled": true
   },
   "outputs": [],
   "source": [
    "def evaluate(model, iterator, criterion):\n",
    "    \n",
    "    epoch_loss = 0\n",
    "    epoch_acc = 0\n",
    "    \n",
    "    model.eval()\n",
    "    \n",
    "    with torch.no_grad():\n",
    "    \n",
    "        for batch in iterator:\n",
    "\n",
    "            predictions = model(batch.text).squeeze(1)\n",
    "            \n",
    "            loss = criterion(predictions, batch.label)\n",
    "            \n",
    "            acc = binary_accuracy(predictions, batch.label)\n",
    "\n",
    "            epoch_loss += loss.item()\n",
    "            epoch_acc += acc.item()\n",
    "        \n",
    "    return epoch_loss / len(iterator), epoch_acc / len(iterator)"
   ]
  },
  {
   "cell_type": "code",
   "execution_count": null,
   "metadata": {
    "scrolled": true
   },
   "outputs": [],
   "source": [
    "N_EPOCHS = 5\n",
    "\n",
    "for epoch in range(N_EPOCHS):\n",
    "\n",
    "    train_loss, train_acc = train(model, train_iterator, optimizer, criterion)\n",
    "    valid_loss, valid_acc = evaluate(model, valid_iterator, criterion)\n",
    "    \n",
    "    print(f'Epoch: {epoch+1:02}, Train Loss: {train_loss:.3f}, Train Acc: {train_acc*100:.2f}%, Val. Loss: {valid_loss:.3f}, Val. Acc: {valid_acc*100:.2f}%')"
   ]
  },
  {
   "cell_type": "code",
   "execution_count": null,
   "metadata": {
    "scrolled": true
   },
   "outputs": [],
   "source": [
    "test_loss, test_acc = evaluate(model, test_iterator, criterion)\n",
    "\n",
    "print(f'Test Loss: {test_loss:.3f}, Test Acc: {test_acc*100:.2f}%')"
   ]
  },
  {
   "cell_type": "code",
   "execution_count": 20,
   "metadata": {},
   "outputs": [],
   "source": [
    "def gensim_stoi(word):\n",
    "    try:\n",
    "        return googlenews_kv.vocab[word].index\n",
    "    except KeyError:\n",
    "        return 0"
   ]
  },
  {
   "cell_type": "code",
   "execution_count": 21,
   "metadata": {
    "scrolled": true
   },
   "outputs": [],
   "source": [
    "import spacy\n",
    "nlp = spacy.load('en')\n",
    "\n",
    "def predict_sentiment (sentence, keyedvector=False):\n",
    "    tokenized = [tok.text for tok in nlp.tokenizer(sentence)]\n",
    "    indexed = []\n",
    "    if keyedvector:\n",
    "        indexed = [gensim_stoi(t) for t in tokenized]\n",
    "    else:\n",
    "        indexed = [TEXT.vocab.stoi[t] for t in tokenized]\n",
    "    print(indexed)\n",
    "    tensor = torch.LongTensor(indexed).to(device)\n",
    "    tensor = tensor.unsqueeze(1)\n",
    "    prediction = F.sigmoid(model(tensor))\n",
    "    return prediction.item()"
   ]
  },
  {
   "cell_type": "code",
   "execution_count": null,
   "metadata": {
    "scrolled": false
   },
   "outputs": [],
   "source": [
    "predict_sentiment('U.S. regulator demands trading data from Bitcoin exchanges in manipulation probe')"
   ]
  },
  {
   "cell_type": "code",
   "execution_count": null,
   "metadata": {
    "scrolled": false
   },
   "outputs": [],
   "source": [
    "predict_sentiment('Twitter announces ban on cryptocurrency ads')"
   ]
  },
  {
   "cell_type": "code",
   "execution_count": 10,
   "metadata": {
    "scrolled": true
   },
   "outputs": [],
   "source": [
    "modeldir = os.path.join('output', 'models')\n",
    "\n",
    "trainset = 'IMDB'\n",
    "modeltype = 'fasttext'"
   ]
  },
  {
   "cell_type": "code",
   "execution_count": null,
   "metadata": {
    "scrolled": true
   },
   "outputs": [],
   "source": [
    "netstatename = trainset + '-' + modeltype + '-epoch' + str(epoch) + '-fullstate.pth'\n",
    "\n",
    "state = { \n",
    "    'epoch': epoch,\n",
    "    'state_dict': model.state_dict(),\n",
    "    'optimizer': optimizer.state_dict()\n",
    "}\n",
    "\n",
    "torch.save(state, os.path.join(modeldir, 'full_state', netstatename))"
   ]
  },
  {
   "cell_type": "code",
   "execution_count": null,
   "metadata": {
    "scrolled": true
   },
   "outputs": [],
   "source": [
    "%%time\n",
    "epoch = 4\n",
    "netstatename = trainset + '-' + modeltype + '-epoch' + str(epoch) + '-fullstate.pth'\n",
    "\n",
    "model = FastText(INPUT_DIM, EMBEDDING_DIM, OUTPUT_DIM)\n",
    "model.load_state_dict(torch.load(os.path.join(modeldir, 'full_state', netstatename))['state_dict'])\n",
    "model.eval()"
   ]
  },
  {
   "cell_type": "code",
   "execution_count": 11,
   "metadata": {
    "scrolled": true
   },
   "outputs": [],
   "source": [
    "# Load test set\n",
    "_99bitcoin_filepath = os.path.join('input', '99bitcoins', '99bitcoins_main.csv')\n",
    "_99bitcoin_df = pd.read_csv(_99bitcoin_filepath)"
   ]
  },
  {
   "cell_type": "code",
   "execution_count": null,
   "metadata": {
    "scrolled": true
   },
   "outputs": [],
   "source": [
    "# Predict, and round predictions\n",
    "_99bitcoin_df['title_pred'] = _99bitcoin_df['event_title'].apply(lambda x: int(round(predict_sentiment(x))))\n",
    "_99bitcoin_df['maintext_pred'] = _99bitcoin_df['event_maintext'].apply(lambda x: int(round(predict_sentiment(x))))\n",
    "_99bitcoin_df.head()"
   ]
  },
  {
   "cell_type": "code",
   "execution_count": null,
   "metadata": {
    "scrolled": false
   },
   "outputs": [],
   "source": [
    "# Calculate precision and recall\n",
    "title_cm = metrics.confusion_matrix(_99bitcoin_df['title_label'], _99bitcoin_df['title_pred'])\n",
    "print('Title Confusion Matrix')\n",
    "print(pd.DataFrame(title_cm))\n",
    "title_report = metrics.precision_recall_fscore_support(_99bitcoin_df['title_label'], _99bitcoin_df['title_pred'], average='binary')\n",
    "print (\"\\n title precision = %0.2f, title recall = %0.2f, title F1 = %0.2f, title accuracy = %0.2f\\n\" % \n",
    "           (title_report[0], title_report[1], title_report[2], \n",
    "            metrics.accuracy_score(_99bitcoin_df['title_label'], _99bitcoin_df['title_pred'])))\n",
    "\n",
    "maintext_cm = metrics.confusion_matrix(_99bitcoin_df['maintext_label'], _99bitcoin_df['maintext_pred'])\n",
    "print('Maintext Confusion Matrix')\n",
    "print(pd.DataFrame(maintext_cm))\n",
    "title_report = metrics.precision_recall_fscore_support(_99bitcoin_df['maintext_label'], _99bitcoin_df['maintext_pred'], average='binary')\n",
    "print (\"\\n maintext precision = %0.2f, maintext recall = %0.2f, maintext F1 = %0.2f, maintext accuracy = %0.2f\\n\" % \n",
    "           (title_report[0], title_report[1], title_report[2], \n",
    "            metrics.accuracy_score(_99bitcoin_df['maintext_label'], _99bitcoin_df['maintext_pred'])))"
   ]
  },
  {
   "cell_type": "markdown",
   "metadata": {},
   "source": [
    "IMDB reviews aren't great at predicting the sentiment of news feeds. We should try to use the Google News word2vec embeddings, and some related labelled training set instead. I don't have a news-based sentiment-labelled data set now, so let's just try replacing the word embeddings and see if things improve."
   ]
  },
  {
   "cell_type": "code",
   "execution_count": 12,
   "metadata": {
    "scrolled": true
   },
   "outputs": [
    {
     "name": "stderr",
     "output_type": "stream",
     "text": [
      "C:\\Users\\friedemann.ang\\AppData\\Local\\Continuum\\anaconda3\\lib\\site-packages\\gensim\\utils.py:1197: UserWarning: detected Windows; aliasing chunkize to chunkize_serial\n",
      "  warnings.warn(\"detected Windows; aliasing chunkize to chunkize_serial\")\n",
      "C:\\Users\\friedemann.ang\\AppData\\Local\\Continuum\\anaconda3\\lib\\site-packages\\ipykernel_launcher.py:4: DeprecationWarning: Call to deprecated `syn0` (Attribute will be removed in 4.0.0, use self.wv.vectors instead).\n",
      "  after removing the cwd from sys.path.\n"
     ]
    },
    {
     "name": "stdout",
     "output_type": "stream",
     "text": [
      "Wall time: 38.6 s\n"
     ]
    }
   ],
   "source": [
    "%%time\n",
    "import gensim\n",
    "# keyed vectors\n",
    "googlenews_kv = gensim.models.KeyedVectors.load_word2vec_format(os.path.join('input', 'word2vec', 'GoogleNews-vectors-negative300.bin'), binary=True)\n",
    "weights = torch.FloatTensor(googlenews_kv.syn0)"
   ]
  },
  {
   "cell_type": "code",
   "execution_count": 13,
   "metadata": {
    "scrolled": false
   },
   "outputs": [
    {
     "data": {
      "text/plain": [
       "[('cryptographic', 0.5337051749229431),\n",
       " ('Crypto', 0.5129595994949341),\n",
       " ('encryption', 0.5039838552474976),\n",
       " ('encryption_algorithms', 0.49573421478271484),\n",
       " ('cryptography', 0.49152448773384094),\n",
       " ('AES_encryption', 0.48674529790878296),\n",
       " ('symmetric_encryption', 0.48474210500717163),\n",
       " ('cryptographic_algorithm', 0.4823398292064667),\n",
       " ('AES_CCMP', 0.4767687916755676),\n",
       " ('encryption_algorithm', 0.47422072291374207)]"
      ]
     },
     "execution_count": 13,
     "metadata": {},
     "output_type": "execute_result"
    }
   ],
   "source": [
    "googlenews_kv.most_similar('crypto')"
   ]
  },
  {
   "cell_type": "code",
   "execution_count": 14,
   "metadata": {},
   "outputs": [
    {
     "data": {
      "text/plain": [
       "122230"
      ]
     },
     "execution_count": 14,
     "metadata": {},
     "output_type": "execute_result"
    }
   ],
   "source": [
    "googlenews_kv.vocab['crypto'].index"
   ]
  },
  {
   "cell_type": "code",
   "execution_count": null,
   "metadata": {
    "scrolled": true
   },
   "outputs": [],
   "source": [
    "# Rebuild the model to accommodate the new dimensionality of the Google News word2vec dictionary\n",
    "INPUT_DIM = len(weights)\n",
    "EMBEDDING_DIM = 300\n",
    "OUTPUT_DIM = 1\n",
    "\n",
    "model = FastText(INPUT_DIM, EMBEDDING_DIM, OUTPUT_DIM)"
   ]
  },
  {
   "cell_type": "code",
   "execution_count": null,
   "metadata": {
    "scrolled": true
   },
   "outputs": [],
   "source": [
    "# Copy the Google News word2vec weights into the model\n",
    "# googlenews_pretrained_embeddings = nn.Embedding.from_pretrained(weights)\n",
    "model.embedding.weight.data.copy_(weights)"
   ]
  },
  {
   "cell_type": "code",
   "execution_count": null,
   "metadata": {
    "scrolled": true
   },
   "outputs": [],
   "source": [
    "optimizer = optim.Adam(model.parameters())\n",
    "\n",
    "criterion = nn.BCEWithLogitsLoss()\n",
    "\n",
    "device = torch.device('cuda' if torch.cuda.is_available() else 'cpu')\n",
    "\n",
    "model = model.to(device)\n",
    "criterion = criterion.to(device)\n",
    "print(model)"
   ]
  },
  {
   "cell_type": "code",
   "execution_count": null,
   "metadata": {
    "scrolled": false
   },
   "outputs": [],
   "source": [
    "# Train the model with new embeddings\n",
    "N_EPOCHS = 5\n",
    "\n",
    "for epoch in range(N_EPOCHS):\n",
    "\n",
    "    train_loss, train_acc = train(model, train_iterator, optimizer, criterion)\n",
    "    valid_loss, valid_acc = evaluate(model, valid_iterator, criterion)\n",
    "    \n",
    "    state = { \n",
    "    'epoch': epoch,\n",
    "    'state_dict': model.state_dict(),\n",
    "    'optimizer': optimizer.state_dict()\n",
    "    }\n",
    "    netstatename = trainset + '-googlenewsembeddings-' + modeltype + '-epoch' + str(epoch) + '-fullstate.pth'\n",
    "    torch.save(state, os.path.join(modeldir, 'full_state', netstatename))\n",
    "    \n",
    "    print(f'Epoch: {epoch+1:02}, Train Loss: {train_loss:.3f}, Train Acc: {train_acc*100:.2f}%, Val. Loss: {valid_loss:.3f}, Val. Acc: {valid_acc*100:.2f}%')"
   ]
  },
  {
   "cell_type": "code",
   "execution_count": 17,
   "metadata": {
    "scrolled": true
   },
   "outputs": [
    {
     "name": "stdout",
     "output_type": "stream",
     "text": [
      "FastText(\n",
      "  (embedding): Embedding(3000000, 300)\n",
      "  (fc): Linear(in_features=300, out_features=1, bias=True)\n",
      ")\n",
      "Wall time: 38.3 s\n"
     ]
    }
   ],
   "source": [
    "%%time\n",
    "# Load the serialized model\n",
    "INPUT_DIM = 3000000\n",
    "EMBEDDING_DIM = 300\n",
    "OUTPUT_DIM = 1\n",
    "\n",
    "model = FastText(INPUT_DIM, EMBEDDING_DIM, OUTPUT_DIM)\n",
    "\n",
    "epoch = 3\n",
    "googlenews_netstatename = trainset + '-googlenewsembeddings-' + modeltype + '-epoch' + str(epoch) + '-fullstate.pth'\n",
    "\n",
    "model = FastText(INPUT_DIM, EMBEDDING_DIM, OUTPUT_DIM)\n",
    "model.load_state_dict(torch.load(os.path.join(modeldir, 'full_state', googlenews_netstatename))['state_dict'])\n",
    "\n",
    "optimizer = optim.Adam(model.parameters())\n",
    "\n",
    "criterion = nn.BCEWithLogitsLoss()\n",
    "\n",
    "device = torch.device('cuda' if torch.cuda.is_available() else 'cpu')\n",
    "\n",
    "model = model.to(device)\n",
    "criterion = criterion.to(device)\n",
    "print(model)\n",
    "\n",
    "model.eval()"
   ]
  },
  {
   "cell_type": "code",
   "execution_count": null,
   "metadata": {
    "scrolled": true
   },
   "outputs": [],
   "source": [
    "from torchtext.vocab import Vectors\n",
    "model_name = 'GoogleNews-vectors-negative300.bin'\n",
    "word2vec_path = os.path.join('input', 'word2vec')\n",
    "vectors = Vectors(name=model_name, cache=word2vec_path) # model_name + path = path_to_embeddings_file"
   ]
  },
  {
   "cell_type": "code",
   "execution_count": null,
   "metadata": {
    "scrolled": true
   },
   "outputs": [],
   "source": [
    "test_loss, test_acc = evaluate(model, test_iterator, criterion)\n",
    "\n",
    "print(f'Test Loss: {test_loss:.3f}, Test Acc: {test_acc*100:.2f}%')"
   ]
  },
  {
   "cell_type": "code",
   "execution_count": 22,
   "metadata": {
    "scrolled": true
   },
   "outputs": [
    {
     "name": "stdout",
     "output_type": "stream",
     "text": [
      "[79, 8104, 2839, 832, 440, 17, 1021827, 6286, 1, 14292, 4030]\n"
     ]
    },
    {
     "name": "stderr",
     "output_type": "stream",
     "text": [
      "C:\\Users\\friedemann.ang\\AppData\\Local\\Continuum\\anaconda3\\lib\\site-packages\\torch\\nn\\functional.py:1006: UserWarning: nn.functional.sigmoid is deprecated. Use torch.sigmoid instead.\n",
      "  warnings.warn(\"nn.functional.sigmoid is deprecated. Use torch.sigmoid instead.\")\n"
     ]
    },
    {
     "data": {
      "text/plain": [
       "0.958014726638794"
      ]
     },
     "execution_count": 22,
     "metadata": {},
     "output_type": "execute_result"
    }
   ],
   "source": [
    "predict_sentiment('U.S. regulator demands trading data from Bitcoin exchanges in manipulation probe', keyedvector=True)"
   ]
  },
  {
   "cell_type": "code",
   "execution_count": 23,
   "metadata": {
    "scrolled": true
   },
   "outputs": [
    {
     "name": "stdout",
     "output_type": "stream",
     "text": [
      "[3320, 5513, 1839, 5, 0, 3465]\n"
     ]
    },
    {
     "name": "stderr",
     "output_type": "stream",
     "text": [
      "C:\\Users\\friedemann.ang\\AppData\\Local\\Continuum\\anaconda3\\lib\\site-packages\\torch\\nn\\functional.py:1006: UserWarning: nn.functional.sigmoid is deprecated. Use torch.sigmoid instead.\n",
      "  warnings.warn(\"nn.functional.sigmoid is deprecated. Use torch.sigmoid instead.\")\n"
     ]
    },
    {
     "data": {
      "text/plain": [
       "4.441506462171674e-06"
      ]
     },
     "execution_count": 23,
     "metadata": {},
     "output_type": "execute_result"
    }
   ],
   "source": [
    "predict_sentiment('Twitter announces ban on cryptocurrency ads', keyedvector=True)"
   ]
  },
  {
   "cell_type": "code",
   "execution_count": 25,
   "metadata": {
    "scrolled": true
   },
   "outputs": [
    {
     "name": "stdout",
     "output_type": "stream",
     "text": [
      "[79, 8104, 2839, 832, 440, 17, 1021827, 6286, 1, 14292, 4030]\n"
     ]
    },
    {
     "name": "stderr",
     "output_type": "stream",
     "text": [
      "C:\\Users\\friedemann.ang\\AppData\\Local\\Continuum\\anaconda3\\lib\\site-packages\\torch\\nn\\functional.py:1006: UserWarning: nn.functional.sigmoid is deprecated. Use torch.sigmoid instead.\n",
      "  warnings.warn(\"nn.functional.sigmoid is deprecated. Use torch.sigmoid instead.\")\n"
     ]
    },
    {
     "name": "stdout",
     "output_type": "stream",
     "text": [
      "[564, 4100, 122230, 1367, 0, 0, 24, 42, 18227]\n",
      "[0, 423, 6695, 1739, 4030, 69, 1021827, 422, 14292]\n",
      "[4529, 5015, 578, 564, 4100, 1367]\n",
      "[7820, 34654, 5513, 0, 341, 0, 1021827, 832, 1342]\n",
      "[1106, 5507, 0, 11863, 149, 34, 0, 7619, 1021827, 26849]\n",
      "[3320, 5513, 1839, 5, 0, 3465]\n",
      "[1641, 9527, 122230, 10310]\n",
      "[2448, 55614, 2582, 115, 122230, 6286, 336, 2631, 8, 840]\n",
      "[2538, 9527, 52, 3465, 3880, 0]\n",
      "[1759, 0, 5507, 30680, 19342, 55, 120, 18227]\n",
      "[0, 146, 0, 11, 531, 1021827, 1465, 24, 42, 21262]\n",
      "[0, 6114, 564, 4452, 435, 17, 0, 1033, 0, 8104, 43141, 0, 761, 2160, 0]\n",
      "[3170, 115, 282, 2538, 3609, 1918, 50052, 4, 1717, 1877, 3237]\n",
      "[564, 4452, 8415, 0, 2233, 119, 0, 6286]\n",
      "[1021827, 422, 271, 52, 59, 144, 76, 988, 34, 0]\n",
      "[48948, 1021827, 14604, 19, 1332]\n",
      "[1021827, 422, 3853, 34, 0, 2, 11, 56, 59]\n",
      "[0, 94130]\n",
      "[24105, 5513, 0, 1319, 1021827, 3247]\n",
      "[1021827, 0, 0, 1021827, 3011, 1047, 588]\n",
      "[1021827, 422, 3853, 34, 0, 2, 11, 56, 59]\n",
      "[367, 1732, 85772, 6644, 427, 1021827, 0, 0, 53768]\n",
      "[6100, 49284, 0, 374, 0, 18306, 3765, 926, 1021827, 14, 2417]\n",
      "[367, 9527, 285, 17, 1989, 237, 108, 0]\n",
      "[1021827, 0, 18221, 0, 69, 1021827, 0, 47654, 0, 0, 1021827, 5589, 0, 186595, 0]\n",
      "[922, 52422, 1021827, 14, 544658, 48973]\n",
      "[2582, 6732, 110, 1021827, 13817, 1454]\n",
      "[2582, 6732, 0, 13817]\n",
      "[1021827, 422, 3853, 34, 0, 2, 11, 56, 59, 1, 234, 77]\n",
      "[6117, 13034, 29672, 14, 446, 0, 2492, 325776]\n",
      "[0, 158573]\n",
      "[3208, 428063, 1346]\n",
      "[3531, 3103, 15981, 0, 16, 1021827, 0, 29082]\n",
      "[31939, 95345, 1021827]\n",
      "[0, 18953]\n",
      "[1021827, 30588, 39318]\n",
      "[1148, 36081, 72869, 1021827, 0, 0, 7, 0, 0]\n",
      "[0, 0, 157856, 31228, 3531, 3103, 4, 10791, 188550, 192671]\n",
      "[1021827, 7769, 63533, 69, 123616]\n",
      "[1021827, 21920, 5, 9728, 6671, 0, 7, 21906]\n",
      "[1611, 52422, 622, 12402, 5, 1021827, 41104]\n",
      "[34185, 5507, 18953]\n",
      "[1021827, 2241, 14, 0, 6433, 18, 11, 2448, 8104]\n",
      "[1021827, 69116, 19309, 18900]\n",
      "[1258, 724717, 19236]\n",
      "[200, 2206, 16661, 223607, 37615, 0, 37299, 972, 26849]\n",
      "[442, 5353, 268, 18381, 11, 0]\n",
      "[3833, 395612, 37963, 0, 2458, 1, 11170]\n",
      "[0, 11038, 2448, 46863, 5507]\n",
      "[0, 158573]\n",
      "[5321, 1144261, 37963, 0, 200, 8193, 1, 11170]\n",
      "[1360, 95345, 1021827]\n",
      "[7, 69619, 0, 0]\n",
      "[71761, 44295, 35790, 0, 51252, 1021827]\n",
      "[5619, 95345, 1021827]\n",
      "[442, 5353, 61147, 18381, 21595, 0, 0, 0]\n",
      "[2448, 34080, 1673, 42919, 0, 77602, 1755246]\n",
      "[9666, 10841, 0, 47378, 0, 146]\n",
      "[1035, 53768, 0, 669, 27489, 24524]\n",
      "[7194, 52422, 1021827, 382, 3123, 336969, 232, 6628]\n",
      "[18233, 15981, 44991, 192671, 4, 1021827, 0, 29082]\n",
      "[254932, 0, 26748]\n",
      "[5168, 53768, 11863, 316, 139689, 22700]\n",
      "[1035, 1104, 64872, 2545, 33255, 1244, 5242, 1021827]\n",
      "[5507, 15944, 61364, 12, 34, 0, 5, 254932, 0]\n",
      "[1060, 0, 669, 0, 367, 3162, 0, 1021827]\n",
      "[2448, 824, 38817, 17198, 312, 1021827]\n",
      "[129008, 25255, 3413, 19236]\n",
      "[0, 187937, 6644, 0, 5274, 0]\n",
      "[16920, 126834, 31579, 6329, 254932, 0]\n",
      "[16432, 7692, 13021, 43270, 254932, 0]\n",
      "[9719, 27157, 0, 70]\n",
      "[1021827, 0, 45260, 23394, 12033, 19309]\n",
      "[428063, 1346]\n",
      "[127895, 95345, 1021827]\n",
      "[1755246, 17323, 287, 3432, 99620, 23279]\n",
      "[0, 158573, 0, 1906, 0, 47654, 31152]\n",
      "[0, 0, 0, 15018, 1021827]\n",
      "[0, 7, 3505, 20794, 0, 108482, 0, 1021827, 2, 57597, 0, 722, 23359]\n",
      "[254932, 0, 158573]\n",
      "[54057, 83486, 9421, 1523, 7, 37299, 972]\n",
      "[1689, 442, 53768, 1501, 24093, 978, 12037, 76894]\n",
      "[1021827, 3918, 19652, 34, 0, 5803]\n",
      "[1021827, 28892, 42235, 45260, 12033, 19309]\n",
      "[254932, 0, 15449, 192, 1320]\n",
      "[1021827, 6278, 5, 93348]\n",
      "[893, 164989, 3105, 1108, 29279, 29427, 54055, 5242, 1021827]\n",
      "[7, 1108, 1021827, 0, 0, 0, 12037, 5507, 360899]\n",
      "[442, 5151, 6230, 83486, 1108, 5507, 15944]\n",
      "[17947, 9328, 15015]\n",
      "[7, 79, 27092, 14604, 7692, 1380, 0, 31588, 0, 24, 742, 20498, 0, 134, 122230, 0, 6286, 0, 0, 0, 148076, 0, 0, 0, 0, 0, 0, 3691, 3953, 5, 11, 1255, 0, 175, 422, 25614, 0]\n",
      "[564, 4100, 122230, 1367, 0, 6971, 63, 34, 0, 2370, 1, 35542, 486, 0, 19787, 0]\n",
      "[7, 1925, 423, 24, 1046, 0, 1739, 4030, 69, 369, 4183, 19, 21142, 11, 422, 0, 1021827, 0, 66, 1677, 5570, 0, 7, 915, 4, 1478, 5, 2039, 2240, 3, 50, 2309, 435, 0, 136, 14, 68945, 0, 29, 4479, 11, 175, 8, 5479, 2288, 0, 7951, 66, 4183, 69, 1717, 29, 1220, 0]\n",
      "[4529, 9967, 0, 0, 11, 578, 0, 1367, 1, 564, 4452, 5, 5866, 0, 2417, 0]\n",
      "[400, 0, 11, 578, 615, 761, 340, 0, 7820, 4, 46, 0, 994, 527, 44, 250, 237, 0, 664, 8, 1418, 1, 0, 2003, 0, 1997, 2425, 0, 11, 422, 0, 1021827, 0]\n",
      "[400, 0, 563, 0, 724, 0, 832, 4723, 24, 377, 46, 0, 1755246, 1069, 78, 0, 81, 10402, 0, 34, 234, 81, 0, 0, 2112, 485, 0, 0, 15005, 2019, 0, 0, 10364, 0, 9777, 484, 17, 764, 918, 0]\n",
      "[3320, 340, 15, 47, 1839, 1827, 2, 0, 0, 486, 1641, 0, 2538, 0, 6580, 3, 3862, 0, 1339, 786, 17, 2417, 0]\n",
      "[1641, 9, 15, 4, 9250, 590, 10310, 3880, 0, 0, 1720, 12968, 4323, 17, 365, 0, 1641, 0, 4342, 651, 256, 8, 11, 640, 0, 44, 678, 0, 706, 3465, 0, 243, 0, 0, 1081, 0, 11, 246, 0, 12619, 0, 18830, 0, 3435, 3465, 1641, 48528, 17, 44, 1877, 1100, 0, 2033, 0, 739, 751, 0]\n",
      "[2448, 2498, 0, 5507, 1380, 6551, 3, 131, 590, 832, 4723, 2, 1677, 1146, 130, 2631, 8, 11, 840, 14, 6286, 0, 2582, 489, 5409, 1525, 3, 9625, 3171, 137, 2162, 832, 0]\n",
      "[2538, 24, 3063, 68, 3635, 17, 1827, 0, 0, 66, 0, 0, 2538, 9, 15, 35, 231, 0, 1004, 246, 0, 68, 527, 11, 504, 0, 11758, 8597, 0, 2056, 947, 0, 51, 9, 15, 47, 97, 1839, 3465, 3, 19, 734, 0, 0, 0, 1720, 12968, 4323, 0, 29, 42522, 1353, 0, 2538, 1229, 3, 52, 0, 133, 337, 50, 16, 233, 26235, 0, 33, 3, 0, 67180, 557, 907, 0, 3465, 1087, 82, 37, 905, 76, 16628, 0]\n",
      "[400, 0, 922, 0, 578, 0, 1367, 0, 0, 24, 7446, 52, 19342, 16600, 4807, 0, 0, 557, 0, 2316, 19787, 0, 92125, 1069, 34, 0, 81, 10, 8044, 17, 44, 10952, 5, 210, 606, 0, 406, 8, 0, 649, 5268, 0, 0, 81, 113327, 0]\n",
      "[4429, 0, 11, 531, 0, 0, 5, 606, 0, 0, 0, 0, 0, 47654, 21, 42, 21262, 0, 72, 0, 89, 0, 90, 196, 2, 7300, 0, 3847, 0]\n",
      "[0, 2076, 435, 17, 564, 4100, 6286, 17, 44, 11522, 0, 0, 1033, 294, 101, 2274, 0, 3228, 1, 0, 7963, 1223, 1, 52, 435, 0, 4828, 0, 4452, 0, 302, 892, 5, 1358, 464, 1332, 27, 915, 69, 0, 0, 734, 269, 868, 18, 290, 1030, 2250, 2911, 3, 386, 121, 1448, 19, 460, 286, 816, 5, 7697, 11, 650, 0]\n",
      "[1918, 50052, 0, 29535, 2454, 24, 1741, 1645, 0, 1067, 1, 0, 0, 7, 7750, 1041, 3467, 343, 0, 3546, 1496, 2634, 8, 11, 768, 0, 1352, 6836, 19, 1069, 1488, 0, 1645, 0, 1067, 0, 11, 1355, 115, 0, 51, 10, 198990, 645, 369, 29535, 35, 924, 101, 0, 44, 6836, 0, 11, 243, 115, 0]\n",
      "[1021827, 422, 8542, 55, 564, 4452, 340, 39, 1448, 0, 8745, 0, 832, 0, 143, 0, 648, 8975, 0, 6286, 0, 2250, 6154, 2324, 1, 11, 157, 0, 194, 0, 578, 0, 175, 0, 0, 0, 3612, 24, 42, 110041, 30965, 1, 4452, 0, 0, 11, 121, 9, 1, 0, 489, 0, 0, 62, 50, 13, 785, 11, 16632, 768, 0, 3612, 101, 951, 0, 0]\n",
      "[1021827, 1017, 0, 65, 342, 144, 0, 33, 4437, 585, 0, 34, 0]\n",
      "[14604, 5, 11, 157, 0, 106, 1141, 0, 5846, 14, 150, 14, 0, 90, 17, 11, 798, 422, 1, 30, 2158, 1207, 5, 0, 2438, 6643, 414, 0, 1367, 0, 13184, 54, 3145, 832, 30680, 1097, 0, 4509, 11, 175, 0]\n",
      "[1021827, 24, 1302, 117183, 11, 2694, 7720, 6538, 0, 52, 0, 2201, 34, 0, 0]\n",
      "[1021827, 10, 908, 0, 4177, 187, 1442, 0, 486, 0, 1357, 266, 0, 0, 48, 47, 21, 2550, 11, 1677, 2325, 1, 54, 0, 499, 0, 39, 0, 39, 338, 0, 3161, 1066, 30, 240, 2, 11, 4177, 1, 11, 64, 278, 245, 0, 16115, 474, 0, 340, 32, 19, 1351, 104, 383, 2, 11, 4177, 296, 72, 4, 39, 729, 1, 11, 0, 339, 0]\n",
      "[24105, 708, 340, 3, 15, 383, 0, 4216, 832, 1, 0, 3247, 18, 11, 178, 0, 11, 36, 0, 89, 0, 212, 55, 16244, 136, 0, 326, 0, 1562, 4774, 3198, 23740, 12736, 2841, 661, 2262, 687, 14, 0, 562, 933, 2, 11, 426, 0, 1252, 0, 232, 0, 610, 0, 11, 1021827, 422, 271, 0, 144, 0, 34, 0, 76, 507, 55, 2329, 108, 11, 34, 0, 6538, 0, 0, 0, 1029, 55, 1005, 262, 11, 34, 0, 1526, 0, 291, 0, 440, 17, 0, 0, 1946, 175, 21702, 0, 29, 11, 531, 667, 0, 0, 1, 9134, 0, 271, 34, 0, 214, 0]\n",
      "[717, 0, 11, 1021827, 3011, 1924, 0, 2286, 0, 124, 960, 23, 634, 4250, 1462, 44635, 0, 1149, 1021827, 3011, 10, 1044, 0, 44, 422, 24, 6562, 63, 0, 90, 405, 11, 56, 698, 0, 507, 0, 7, 983, 0, 104, 10, 485, 0, 786, 10482, 11, 0, 0, 1771, 11427, 0, 1383, 0, 2605, 1, 11, 3372, 0, 1088, 12968, 0]\n",
      "[7, 422, 0, 0, 24, 8395, 108, 34, 0, 0, 27, 52, 0, 59, 144, 0, 7, 0, 720, 18, 39, 60, 464, 146, 0, 34, 0, 460, 443, 11, 36, 12, 34, 0, 0]\n"
     ]
    },
    {
     "name": "stdout",
     "output_type": "stream",
     "text": [
      "[1035, 892, 21, 1679, 2364, 0, 191, 0, 6286, 0, 10974, 832, 0, 1045, 6946, 960, 0, 30, 4778, 0, 11427, 0, 10835, 6580, 18, 892, 5, 11, 313, 0, 3143, 302, 1546, 0, 53768, 37, 53, 162, 0, 677, 1527, 65, 1928, 17835, 0, 291, 0, 0, 121, 2432, 955, 18, 11, 2364, 219, 229, 1, 874, 0, 8854, 2973, 1916, 1546, 3, 37, 13628, 590, 0, 11373, 18, 0, 121, 1178, 0, 1524, 0]\n",
      "[13651, 5677, 287, 1729, 1562, 4774, 3198, 6100, 49284, 9, 22, 47, 544, 101, 2019, 832, 0, 2, 120, 0, 6762, 0, 0, 7, 0, 0, 80409, 0, 178, 112, 0, 0, 22, 162, 27, 3609, 566, 1, 442, 5353, 0, 8646, 15, 23, 1702, 3252, 41, 0, 0, 51, 0, 0, 2417, 0, 0, 0, 2058, 60, 93062, 19781, 0, 0]\n",
      "[19768, 443, 0, 25271, 367, 0, 1720, 12968, 4323, 14, 340, 18, 0, 290, 9298, 0, 445467, 343, 3, 0, 2432, 0, 1044, 18, 0, 345, 956, 3, 7732, 629, 1, 11, 198, 0, 2973, 1916, 938, 0, 9, 65, 881, 1989, 812, 29, 66, 4640, 5570, 108, 0, 19, 3063, 0, 51, 264, 3, 892, 19, 11393, 119, 5, 734, 9935, 2240, 0, 7, 2630, 3716, 1720, 12968, 4323, 0, 0, 0, 14, 27, 10168, 5407, 2984, 3, 137, 3767, 302, 16628, 0, 11, 445467, 243, 1229, 0, 7, 956, 868, 0, 711, 0, 0, 338, 51202, 4723, 2, 290, 302, 3147, 2386, 0, 12296, 0]\n",
      "[361, 77, 0, 13507, 46, 139, 1021827, 130, 2316, 11, 4444, 760, 69, 598, 0, 7, 1021827, 2735, 2550, 1, 54, 397, 6729, 0, 400, 2108, 2353, 11, 12530, 0, 1021827, 3386, 108, 0, 0, 118, 11, 66, 2108, 2961, 2110, 3386, 0, 41, 0, 1233047, 0, 7, 2110, 1484, 229, 266, 30, 2325, 1021827, 5589, 0, 2745, 3695, 11, 6836, 0, 976, 31, 1361, 1021827, 99, 766, 4857, 0, 192, 1026, 0, 88, 43, 21, 0, 1755246, 99, 766, 4857, 0, 43, 47, 97, 21, 0, 1755246, 0, 0, 1021827, 5589, 0]\n",
      "[922, 6868, 0, 14, 0, 885, 4075, 0, 2314, 0, 7, 198, 0, 6476, 1126, 0, 0, 404, 0, 486, 245, 0, 1539, 0, 3, 841, 0, 6286, 163, 1399, 0, 237, 38854, 0, 177, 0, 122, 0, 1270, 1079, 0, 118, 53, 84157, 0, 14, 0, 626, 0, 15270, 2314, 7466, 0]\n",
      "[7, 79, 2498, 0, 5507, 1380, 5, 215, 1837, 2, 11, 110, 59, 1, 0, 0, 212, 0, 1592, 0, 634, 0, 175, 0, 56, 0, 0, 0, 44, 0, 626, 684, 4676, 0, 0, 11, 1677, 2325, 0, 7, 2582, 340, 1, 0, 3295, 44, 402, 7809, 43125, 5507, 5602, 0, 3959, 100510, 1367, 11, 899, 0, 711, 0, 664, 11, 0, 1021827, 3432, 0, 27, 1367, 0, 2406, 684, 0, 85982, 0, 3, 47, 664, 87, 0, 559, 0, 850, 11, 1677, 2786, 0, 422, 0]\n",
      "[11, 2448, 121, 1837, 11, 1454, 0, 4456, 0, 3815, 481851, 0, 11, 3709, 31, 505, 1479, 0, 16, 1212, 0, 29178, 0, 2538, 0, 0, 2571, 27, 1367, 0, 2406, 1043, 0, 13817, 0, 0, 109, 15, 2200, 2, 786, 0, 753, 1021827, 0]\n",
      "[361, 11874, 2, 106, 0, 11, 110, 242, 0, 0, 1021827, 13385, 11, 34, 0, 1526, 2, 11, 56, 59, 1, 234, 77, 0, 8644, 538, 1648, 2275, 1, 27, 11685, 0, 65, 960, 3, 9157, 23, 1139, 11, 422, 155, 503, 0]\n",
      "[70, 0, 7817, 749, 0, 696, 6117, 13034, 9990, 11234, 1820, 0, 411, 11, 0, 348, 0, 11, 1217, 5729, 0, 7, 2448, 175, 6114, 18, 63, 165, 146, 0, 11, 3538, 140533, 0, 24, 89598, 342, 7464, 0, 0, 4, 97, 119, 0, 146, 205, 12, 0, 23488, 0, 11, 1075, 0, 922, 0, 0, 10871, 0, 6562, 0, 146, 118, 26158, 31724, 0, 30935, 70910, 1542, 377, 0, 146, 0, 7, 4681, 36486, 1542, 377, 0, 146, 0, 5318, 3247, 37, 119, 0, 146, 0, 0, 0, 3247, 37, 0, 146, 686, 0, 5495, 3247, 377, 0, 146, 12, 187, 0, 0, 243344, 0, 650, 1046, 4320, 686, 99, 34788, 44, 1295, 0, 0, 1420, 0, 0, 41463, 1542, 10, 104, 187, 165, 146, 55, 798, 119, 534, 234, 146, 0, 1251, 0, 20060, 0, 10, 1, 1057, 3224, 18, 0, 146, 55, 27, 479, 1686, 0, 0, 146, 0, 1503, 0, 9350, 0, 1066, 0, 3837, 69, 6826, 46476, 0, 136, 14, 1422, 0, 48, 4, 41, 0, 34, 0, 27, 5932, 0, 29, 0, 146, 0, 0, 34, 0, 24, 468, 0, 3266, 366, 1, 667, 135, 28, 221, 125, 41, 293, 146, 1, 76, 0, 507, 0, 713, 334, 897, 11, 113, 11, 422, 14825, 5, 0, 531, 366, 0, 0, 146, 0]\n",
      "[0, 0, 11, 578, 1021827, 1367, 18, 2092, 0, 340, 3, 0, 0, 0, 1270, 918, 35, 42, 2924, 1634, 0, 371, 5680, 0, 0, 667, 3245, 3967, 0, 34, 0, 81, 5803, 0, 0, 0, 10, 1328, 11, 1270, 918, 1, 2626, 0, 5207, 5263, 1, 6351, 8, 44, 371, 1428, 0, 0, 0, 51, 4, 18166, 3, 11, 10446, 3135, 654, 0, 11, 679, 7540, 2, 534, 52, 0, 1270, 2160, 0, 14, 112, 14, 654, 0, 11, 0, 15744, 2, 11, 0, 1201, 0, 51, 986, 3980, 88, 11, 1270, 918, 37, 10988, 18, 0, 0, 88, 484, 23, 16, 1573, 18323, 0, 7, 422, 0, 1021827, 6562, 534, 0, 146, 0, 34, 0, 5803, 3, 113, 99, 1120, 0, 11906, 1470, 0, 4221, 1, 11, 1021827, 339, 1802, 3, 1467, 1909, 0, 11, 2482, 19787, 10, 233, 18, 3955, 6658, 2, 10954, 832, 14, 11, 422, 35, 3347, 0, 1223, 2348, 99, 0, 0, 1744, 0]\n",
      "[7, 1484, 4916, 10, 4541, 2, 11, 110, 59, 1, 1021827, 0, 576, 0, 3228, 1, 0, 65, 4916, 0, 0, 0, 279, 21262, 1484, 0, 0, 7, 5745, 0, 146, 1223, 836, 1021827, 0, 1412, 1112, 0, 6354, 3476, 11, 246, 0, 3372, 1088, 0, 296, 11, 1484, 4916, 2478, 1881, 0, 48, 4, 1296, 0, 3625, 1, 11, 36, 0, 1484, 4916, 45777, 7282, 274, 0, 3386, 0, 11, 147, 0, 428063, 1346, 0, 4, 265, 0, 3625, 1, 444, 0, 0]\n",
      "[3360, 0, 161, 212, 3717, 17, 11, 208, 2050, 0, 3531, 3103, 3047, 340, 22, 10, 188550, 192671, 18, 728, 0, 0, 3174, 731, 0, 0, 7, 3174, 731, 2723, 0, 39148, 5474, 0, 0, 679, 562, 2707, 0, 48, 1617, 0, 16, 27, 1476, 0, 8799, 3103, 10, 1, 2408, 0, 192671, 0, 679, 1021827, 7540, 0, 0, 105, 10279, 10, 334, 47571, 18, 11, 1021827, 339, 0, 3103, 0, 1430, 10, 2306, 41, 18, 1021827, 3463, 13447, 121492, 1, 26, 250, 3174, 731, 479, 11, 207, 113, 0, 0, 121492, 1750, 3, 22, 1007, 8, 3103, 1, 0, 571, 1, 791, 0, 0, 9223, 5467, 3103, 962, 27, 16349, 1237, 527, 45, 0, 192671, 0, 679, 1021827, 7540, 0, 121492, 334, 1750, 3, 22, 137, 21, 42, 27819, 18, 3103, 0]\n",
      "[7, 1141, 4331, 1699, 31939, 548, 5536, 1021827, 14, 2314, 2, 739, 239, 0, 66, 590, 538, 0, 0, 39311, 0, 11, 100, 3, 2459, 31939, 0, 12416, 0, 14, 11, 2314, 8055, 0, 6258, 1021827, 2149, 0, 173, 1226, 490, 484, 117, 912, 2042, 2149, 37, 198990, 14, 15556, 0]\n",
      "[7, 1720, 620, 1405, 0, 11, 56, 34596, 5194, 845, 0, 0, 0, 10, 582, 0, 11, 580, 208, 0, 0, 7, 432, 0, 11, 455, 10, 0, 6258, 7584, 0, 0, 0, 7584, 664, 294, 0, 41717, 0, 1824, 0, 29, 3514, 5, 664, 0, 0, 7, 845, 1487, 960, 0, 811, 4640, 1483, 117, 2933, 50, 1299, 2574, 527, 1021827, 0, 7, 0, 455, 47, 334, 2721, 15, 510, 34, 165, 81, 1, 1074, 17, 5306, 652, 1942, 1745, 5434, 13442, 0, 135128, 0, 27502, 0, 0, 16590, 3609, 2293, 0, 0]\n",
      "[69798, 280, 0, 11, 1021827, 339, 1007, 1, 26158, 31724, 0, 1410, 0, 357, 326, 0, 11282, 2, 16177, 1021827, 0, 0, 7, 866, 0, 1329, 349, 759, 63, 0, 7300, 0, 277, 2426, 0, 0, 1021827, 11709, 3161, 0, 10, 2040, 0, 991, 1011, 0, 11, 1484, 1326, 1539, 0, 7, 349, 3002, 8, 0, 208, 489, 8899, 11, 229, 0, 240, 2, 11, 65, 259882, 21127, 6437, 0, 0, 321, 0, 387, 18318, 1, 11, 1021827, 8781, 319, 3, 47, 366, 11, 1484, 1326, 2162, 171, 200, 18942, 0, 304, 18942, 18, 444, 0, 1, 11, 1021827, 339, 11413, 11, 349, 14, 120, 41833, 14, 11, 1239, 668, 2918, 0, 428, 4366, 0, 1021827, 285, 0, 605, 558, 756, 0]\n",
      "[70, 0, 208, 3174, 731, 0, 1148, 36081, 2241, 3, 1021827, 35, 964, 0, 3, 22, 23, 0, 86, 951, 16, 452, 186, 1, 1021827, 357, 0, 0, 0, 36081, 10, 27, 3116, 0, 1641, 3463, 31, 35, 42, 3846, 668, 1, 11, 1021827, 339, 0, 734, 881, 140, 11, 282, 255, 0, 11, 0, 0, 0, 553, 106, 1141, 455, 10, 0, 0, 0, 9202, 3516, 0, 11, 1021827, 8781, 0, 36081, 0, 731, 3397, 1021827, 0, 1661, 1990, 5, 0, 246, 0, 1657, 0, 14428, 1, 11, 1021827, 339, 0, 11, 55037, 0, 3096, 0, 0, 4366, 0, 1035, 7300, 0, 0, 11, 25243, 0, 1021827, 11709, 3161, 0, 366, 11, 2162, 5, 1021827, 0, 1484, 1326, 0, 0, 6091, 0, 507, 0, 11, 731, 120, 1377, 0, 1021827, 0, 422, 1066, 63, 34, 0, 0, 1, 11, 1021827, 339, 1064, 36081, 0, 25228, 4619, 1021827, 1, 555, 0, 2307, 26, 65, 5009, 0, 56409, 148140, 0, 0, 12860, 1478, 5, 527, 0, 454, 0, 989, 11, 656, 0, 11, 568, 2082, 313, 0]\n"
     ]
    },
    {
     "name": "stdout",
     "output_type": "stream",
     "text": [
      "[2799, 6974, 0, 2483, 0, 0, 991481, 0, 1377, 27, 1581, 1, 157856, 2504, 3506, 3, 27, 1300, 251, 945, 1084, 3531, 3333, 3103, 10, 799, 188550, 192671, 29, 0, 0, 5269, 239663, 0, 0, 0, 0, 2841, 0, 246, 0, 3103, 0, 13167, 3174, 4091, 0, 8507, 9451, 0, 0, 19098, 3, 1617, 0, 2808, 3103, 4, 1021827, 0, 9480, 0, 0, 70, 45, 8507, 13702, 3103, 806, 1059, 0, 20, 92, 126, 201, 0, 627, 0, 5784, 11, 593, 3, 20, 0, 42, 587, 0, 140, 0, 0, 0, 1439, 2630, 2967, 3, 3103, 35, 654, 0, 0, 1021827, 2071, 1069, 0, 81, 0, 0, 499, 0, 2561, 0, 11, 8507, 1629, 0, 1479, 0, 10544, 37, 1377, 0, 3103, 92, 13, 380, 157856, 8, 101, 6279, 3, 22, 10, 3857, 188550, 192671, 0, 0, 6091, 507, 0, 11, 1581, 120, 1377, 0, 3103, 0, 1259, 590, 1777, 10, 1766, 2076, 17, 11, 1985, 0]\n",
      "[7, 123616, 956, 2253, 11, 1021827, 2325, 6035, 0, 305603, 2146, 8, 200, 9758, 5023, 125, 108, 15, 0, 33, 89, 5357, 12, 11, 213, 0, 1583, 0, 0, 16, 1, 0, 352, 1405, 0, 11, 123616, 1558, 0, 0, 7, 316598, 23, 16, 482, 11, 6011, 0, 0, 0, 113522, 0, 0, 1702, 23, 14889, 8, 1558, 273, 41213, 0]\n",
      "[7, 21906, 0, 0, 6112, 1141, 882, 4132, 1478, 5, 418, 31639, 0, 107, 15, 0, 1581, 0, 7, 3432, 16154, 0, 11, 2723, 1287, 550, 0, 15, 0, 2960, 3472, 3658, 0, 0, 7, 1581, 1478, 2863, 5, 11, 3519, 0, 0, 454, 0, 3880, 11, 931, 3, 1030, 0, 121, 2187, 137, 3711, 30, 250, 0, 0, 811, 0, 4240, 0, 46447, 0, 4197, 208, 11488, 0, 0]\n",
      "[7, 802, 1557, 0, 1925, 2140, 3, 11, 1367, 0, 1021827, 0, 0, 4640, 5570, 0, 4, 13, 1255, 0, 667, 0, 264, 0, 392, 0, 12402, 0, 1, 11, 802, 1745, 0, 0, 7, 1625, 3262, 0, 26545, 1021827, 0, 734, 50526, 0, 12579, 14, 2325, 0, 1092, 0, 2574, 29, 676, 0, 105, 1625, 4, 1, 4461, 0, 11, 1217, 5729, 0, 12993, 0, 1021827, 14, 184, 0, 2325, 0, 291, 0, 0, 0, 0, 6433, 0, 291, 0, 31588, 0, 7194, 0, 0]\n",
      "[3815, 0, 4456, 481851, 582, 30, 250, 2448, 191, 1021827, 1367, 7146, 0, 34185, 0, 0, 0, 10129, 1319, 0, 11, 1367, 10, 5315, 0, 2571, 1, 0, 744, 0, 10, 346, 0, 0, 277, 184, 1246, 0, 6949, 484, 0, 485, 0, 44, 268389, 1272, 2351, 0, 0, 34185, 10, 53, 346, 0, 516, 11954, 974, 5, 1270, 4945, 2243, 0, 0, 2088, 8, 0, 442, 5353, 191, 761, 0, 7, 1367, 3862, 0, 16, 1573, 12304, 8, 2448, 404, 8, 0, 651, 0, 56, 0, 1111, 2, 3869, 0, 13, 15405, 0, 0]\n",
      "[7, 27092, 14604, 7692, 1380, 0, 31588, 0, 0, 0, 340, 15, 35, 0, 1003, 0, 3439, 662, 0, 103, 0, 1021827, 1367, 2, 15794, 11, 832, 0, 1494, 1997, 5, 44, 1699, 0, 128, 111, 0, 0, 0, 70, 28, 555, 0, 11, 31588, 2, 11, 56, 59, 3617, 3, 1021827, 0, 66, 4640, 5570, 19, 3556, 3716, 14, 5651, 0, 0, 0]\n",
      "[1021827, 11709, 3161, 1148, 36081, 0, 13447, 121492, 582, 0, 1754, 1405, 0, 11, 1021827, 2262, 845, 0, 266, 1021827, 69116, 0, 0, 7, 640, 14248, 27, 2010, 4444, 1, 11, 1021827, 357, 339, 0, 83, 2162, 130, 16, 1400, 5, 11, 1326, 0, 1021827, 0, 3386, 0, 0, 1021827, 69116, 22465, 203427, 0, 0, 48, 10243, 0, 5226, 11, 2649, 45, 73007, 2865, 1484, 1326, 8, 0, 2865, 1326, 3, 7221, 63, 59, 12, 0, 10754, 0, 640, 0, 1021827, 69116, 17289, 2838, 3, 11, 1021827, 339, 137, 13, 16, 346, 0, 965, 0, 4408, 5, 11, 458, 0, 0, 11, 0, 137, 387, 18318, 0, 3228, 1, 54, 1754, 4611, 0, 1021827, 0, 568, 32635, 0]\n",
      "[1258, 724717, 0, 11, 1010, 0, 11, 964, 1021827, 1367, 254932, 0, 0, 10, 849, 1, 922, 5, 662, 0, 2417, 0, 21773, 1, 6612, 0, 3450, 0, 11, 1367, 0, 0, 724717, 1608, 2335, 0, 5545, 21142, 664, 2092, 0, 11, 764, 204, 0, 2262, 4945, 0, 0, 48, 137, 21, 363, 0, 11, 1367, 0, 25382, 0, 0, 254932, 0, 4, 572, 0, 21, 2889, 377, 0, 1755246, 0, 1270, 4945, 0]\n",
      "[2210, 2206, 2489, 6975, 7424, 9643, 0, 21979, 0, 0, 12091, 14811, 0, 16003, 1673, 0, 5812, 2601, 0, 6059, 1755246, 2, 30, 764, 1466, 135, 30, 1816, 915, 0, 11, 37299, 972, 5194, 0, 7424, 10, 826, 8, 0, 61400, 395612, 0, 14, 112, 14, 6333, 2417, 0, 4045, 0, 121, 676, 0, 237, 38854, 0, 0, 2358, 0, 558, 0, 1, 26, 625, 1, 38981, 104, 34, 0, 1069, 0, 1021827, 17, 11, 37299, 972, 69, 26, 250, 764, 2160, 0, 0, 14811, 4, 826, 8, 237, 38854, 0, 13724, 0, 2412, 2, 6059, 34, 0, 1069, 0, 1021827, 1, 0, 873, 3598, 0, 7424, 887, 0, 378, 34, 0, 1, 11923, 0, 10, 334, 2433, 0, 381, 77, 1, 1091, 1, 709, 0, 0, 0, 14811, 4, 6257, 6259, 1, 596, 0, 0]\n",
      "[6294, 0, 442, 5353, 268, 423, 0, 2545, 1452, 0, 9164, 513405, 0, 582, 0, 211, 0, 8544, 1079, 2040, 0, 8745, 1021827, 0, 1677, 2325, 765, 3, 1180, 484, 1419, 1, 442, 5353, 111, 0, 0, 665, 2475, 19, 11, 56, 518, 1595, 2709, 12, 1677, 2325, 765, 0, 717, 0, 11, 2475, 0, 1677, 2325, 285, 3, 1180, 4255, 484, 336, 2445, 2, 0, 0, 0, 0, 405, 0, 255, 29, 16, 1071, 1, 0, 5680, 0, 11, 404, 0, 0, 0, 73, 0, 1454, 543, 34, 0, 0, 11, 2475, 389, 0, 246, 160, 2007, 0, 136, 14, 42719, 725, 2, 11, 3138, 0, 8381, 1513, 1669, 0, 52, 65, 160, 1073, 0, 0, 7123, 0, 946, 0, 2235, 0, 11, 100, 50, 89, 16, 4463, 1, 2448, 0, 1051, 0, 442, 5353, 191, 484, 37, 3063, 0, 58634, 18, 0, 246, 0, 1021827, 285, 0, 143, 0, 0, 148076, 0, 0, 0, 0, 0, 0]\n",
      "[361, 0, 212, 0, 180, 2522, 854, 3, 628, 1, 395612, 0, 4383, 0, 2795, 11140, 15561, 2433, 395612, 0, 258, 1, 1091, 294, 7037, 0, 0, 395612, 35, 42, 231, 2601, 5, 399, 662, 0, 237, 38854, 0, 1279, 17060, 0, 0, 4624, 0, 1147, 13601, 1, 782, 485, 0, 26, 625, 14, 0, 11, 3412, 0, 11, 37299, 972, 5194, 0, 0, 0, 129008, 25255, 3413, 0, 0, 0, 0, 70, 0, 1243, 0, 2795, 11140, 15561, 1467, 0, 26, 6259, 0, 395612, 1843, 0, 587, 11, 37299, 972, 0, 107, 0, 4499, 2, 26195, 0, 0, 7, 1070, 0, 6259, 489, 10209, 3, 11, 76498, 0, 11, 2303, 10, 0, 109, 27, 1026, 0, 395612, 0, 280, 0, 11, 208, 1941, 486, 1, 26, 12956, 130, 177, 0, 3, 88, 43, 843, 11, 404, 28, 132, 0, 72, 23, 16, 138, 981, 0, 395612, 47, 334, 1676, 11, 1625, 5, 365, 293, 0, 0, 0]\n",
      "[7, 21456, 2306, 12860, 0, 414, 0, 0, 1141, 1021827, 9298, 0, 2314, 8055, 0, 340, 11, 640, 0, 44, 250, 1021827, 832, 1699, 0, 0, 7, 100, 11585, 1750, 32, 35, 704, 2, 245, 0, 3534, 1068, 4826, 17, 111, 302, 4042, 0, 1527, 82, 0, 6486, 2013, 484, 17, 0, 397, 2448, 744, 0, 7, 65, 1699, 23, 2571, 87, 0, 1519, 1367, 0, 484, 50, 5058, 918, 0, 220, 4820, 0, 5416, 5, 27, 555, 829, 0, 0, 23, 16, 826, 0, 428, 1892, 2222, 5, 5673, 5448, 0, 7, 1367, 1699, 4, 0, 872, 1754, 17, 30, 1021827, 9298, 1342, 0, 48, 1, 4461, 0, 1487, 484, 0, 753, 0, 983, 1755246, 1595, 17, 0, 0]\n",
      "[33910, 13677, 37, 346, 0, 5358, 0, 0, 17, 0, 0, 3736, 1705, 10952, 0, 1069, 3245, 34, 0, 81, 1067, 0, 0, 7, 9259, 233, 1022, 2673, 103, 0, 273, 5500, 96199, 0, 0, 1466, 654, 0, 200, 0, 0, 0, 5984, 0, 6774, 11, 1705, 10952, 0, 679, 7540, 0, 0, 7, 10952, 10, 1881, 12947, 0, 52, 0, 2722, 13639, 0, 10129, 3923, 0, 11, 5680, 0, 0, 1045, 8975, 11, 1367, 0, 656, 2, 464, 255, 14, 15, 18663, 44, 921, 0, 12977, 44, 832, 1699, 0, 7, 4045, 2918, 0, 0, 428, 9473, 0, 0, 0, 531, 0, 3137, 0, 14, 11, 1368, 0, 11, 100, 0, 1021827, 918, 1671, 17377, 1, 15230, 0, 2312, 0, 2398, 0, 0, 622, 1270, 1201, 10203, 37, 1602, 0, 0, 499, 0, 291, 0, 0, 8507, 2699, 0, 243, 5, 11, 1291, 0, 11, 1248, 0, 11, 100, 0, 2996, 0, 1270, 1282, 353, 6863, 44, 8109, 1021827, 417, 0]\n",
      "[151865, 1021827, 0, 0, 1108, 168627, 0, 0, 5321, 1144261, 0, 11, 1010, 0, 0, 1367, 0, 0, 10, 2433, 0, 200, 77, 1, 1091, 2, 26, 625, 1, 38854, 237, 2, 960, 0, 11, 37299, 972, 0, 27, 590, 5194, 3, 24039, 0, 15207, 2574, 0, 269, 0, 1144261, 35, 1725, 0, 4499, 9780, 48, 668, 17982, 34, 0, 0, 11, 2448, 121, 0, 0, 16184, 2601, 0, 14902, 0, 31603, 11, 1342, 0, 27, 20803, 237, 27115, 160, 0]\n",
      "[1360, 1797, 15, 23, 2013, 1021827, 17, 2448, 484, 2, 0, 8120, 0, 239, 0, 66, 1677, 1013, 0, 1015, 5, 11, 3694, 0, 6752, 590, 1483, 0, 7, 1744, 10, 107, 1634, 0, 731, 5, 11, 3814, 2455, 0, 3174, 0, 1750, 3, 1360, 35, 10380, 8, 0, 2, 1021827, 2314, 3092, 0]\n",
      "[741, 3955, 8209, 1624, 534, 0, 47654, 2, 969, 5, 11, 0, 1367, 12, 0, 2162, 422, 0, 34, 0, 279, 0, 0, 1069, 3245, 34, 528, 81, 5803, 0, 7, 555, 10, 7146, 11, 0, 0, 0, 18, 11, 1021827, 339, 485, 0, 44, 4344, 1326, 0, 1906, 11, 147, 0, 507, 0, 11, 1107, 0, 555, 4, 12932, 5, 11, 1367, 1634, 753, 2288, 0]\n"
     ]
    },
    {
     "name": "stdout",
     "output_type": "stream",
     "text": [
      "[35790, 0, 0, 3740, 0, 71761, 0, 5513, 3, 15, 4, 10546, 8, 0, 0, 2013, 1021827, 2149, 5, 30, 1699, 0, 0, 1906, 11, 147, 80, 245, 0, 11, 54, 285, 23, 141, 5, 10877, 1021827, 2314, 3092, 2, 35790, 9006, 0, 0, 7, 1021827, 2314, 1494, 23, 16, 15546, 5378, 2, 52, 9006, 5, 11, 1699, 0, 0, 35790, 9006, 199, 89, 962, 41, 2, 0, 0, 1201, 0, 2137, 15, 0, 30, 35790, 1201, 0, 7, 303, 2701, 0, 3612, 3, 71761, 4, 1724, 39, 5245, 1716, 1021827, 0, 0, 137, 1702, 7002, 15, 69, 30, 250, 2314, 3092, 273, 0]\n",
      "[13194, 740, 5619, 5513, 5, 3320, 3, 801464, 97, 10732, 1021827, 0, 0, 6794, 1, 11, 1217, 5729, 0, 89, 0, 50, 1299, 101, 684, 1964, 5, 5619, 0, 590, 5194, 527, 1021827, 0, 427, 1021827, 3753, 19, 0, 16, 4402, 18, 0, 0, 0, 1021827, 2314, 8055, 0, 0, 332, 0, 9139, 718, 0, 34, 0, 214, 0, 5619, 2540, 11, 578, 100, 0, 2013, 1021827, 0, 105, 1744, 3120, 0, 246, 0, 66, 338, 590, 3013, 0, 6109, 0, 1021827, 2149, 1, 0, 0, 93461, 5, 0, 0, 0, 0, 0, 1634, 8055, 0, 0, 6132, 9381, 5, 0, 0, 0, 0, 0, 0, 0, 127576, 5, 0, 0, 0, 0, 0, 1634, 8055, 0, 0, 0]\n",
      "[9164, 3604, 513405, 0, 6294, 0, 442, 5353, 0, 423, 0, 2545, 1452, 0, 5513, 0, 1048, 211, 0, 2475, 2, 765, 3, 8451, 8, 1021827, 0, 0, 0, 7, 432, 0, 11, 65, 2475, 0, 291, 0, 513405, 0, 19, 0, 173, 0, 1339, 1153, 0, 7267, 49, 2039, 1394, 0, 294, 23963, 7694, 3698, 0, 0, 0, 7, 2475, 47, 1692, 6658, 3, 354, 1, 1021827, 0, 209, 3292, 3865, 0, 16032, 2, 52, 725, 0, 91, 1513, 1669, 2, 65, 160, 1073, 18, 11, 111, 0, 0, 0, 1045, 6058, 101, 1021827, 896, 0, 2448, 1067, 0, 0, 44484, 6658, 47, 16, 6286, 0, 3096, 10033, 0, 5395, 1021827, 7113, 0, 0, 0, 845, 13815, 191, 1, 442, 5353, 111, 0, 29, 3, 21, 484, 1, 442, 5353, 111, 0, 0, 688, 0, 166, 2475, 19, 2265, 42147, 18, 11, 0, 339, 0]\n",
      "[5048, 0, 121, 3684, 1755246, 0, 3135, 18, 11, 2448, 34080, 1673, 135, 11, 709, 0, 8642, 0, 11, 37299, 972, 1042, 0, 19, 15147, 104, 1, 16125, 0, 0, 0, 0, 0, 54171, 19, 982, 0, 5058, 34, 0, 5803, 1634, 761, 6333, 1, 555, 0, 3741, 2, 11, 3056, 0, 0, 73, 649, 12916, 0, 5306, 20312, 2690, 22503, 0, 301, 274, 3056, 0, 6352, 3, 26, 663, 1254, 435, 37, 353, 503, 60, 11, 403, 175, 422, 0]\n",
      "[6822, 0, 0, 0, 4816, 0, 2088, 8, 0, 0, 983, 3096, 535, 0, 30, 250, 3096, 3914, 0, 11, 3096, 2832, 2455, 1982, 0, 6715, 1368, 0, 11, 1021827, 751, 90752, 325, 0, 0, 11, 899, 0, 1319, 0, 1119, 0, 146, 700, 5, 11, 1021827, 751, 0, 0, 316, 0, 1368, 0, 11, 1021827, 751, 90752, 325, 0, 0, 75, 5726, 4861, 3753, 3, 32, 1257, 0, 950, 789, 0, 0, 1559, 66, 3753, 17, 120, 1398, 0, 0, 12689, 18, 7180, 32, 0, 21, 0, 292, 23, 2252, 1, 101, 0, 146, 700, 0, 0, 7, 2832, 53, 542, 0, 1262, 489, 9063, 3, 15, 23, 1476, 0, 2162, 44, 90752, 325, 0, 0, 146, 18, 0, 5541, 1707, 7300, 0, 142, 30, 3914, 309, 17, 0, 0, 56065, 0, 2747, 5, 66, 10033, 0, 0, 14, 112, 14, 815, 0, 956, 0, 2441, 1021827, 1937, 3161, 1, 11093, 11, 0, 146, 700, 600, 0]\n",
      "[7, 1060, 0, 669, 0, 367, 0, 4000, 4342, 3514, 103, 1021827, 1302, 869, 78, 1035, 1030, 0, 458, 0, 2781, 103, 307, 0, 6286, 0, 4530, 82, 0, 398, 30, 2160, 18, 394, 0, 0, 1160, 78, 19, 11612, 11, 5995, 0, 11, 5624, 3147, 1150, 2237, 78, 4070, 19442, 3, 4057, 52, 1035, 6286, 966, 4922, 0, 5242, 5459, 1030, 0, 4098, 93325, 17280, 921, 0, 66, 1011, 0, 166, 832, 4723, 395, 0, 2571, 0, 33, 12, 5634, 1823, 5284, 17, 30, 1266466, 1, 0, 0]\n",
      "[7, 7194, 651, 2630, 15156, 1021827, 0, 16, 676, 0, 13, 2325, 0, 1255, 0, 652, 1982, 392, 0, 8, 3, 392, 7120, 103, 274, 426, 1, 1717, 325, 2, 0, 482, 907, 0, 0, 0, 17, 11, 59, 15, 0, 2573, 0, 11, 59, 15, 0, 794, 0, 7, 402, 4, 2976, 27414, 14, 39946, 0, 11660, 1854, 0, 4530, 960, 0, 11, 2325, 0, 342, 1021827, 0, 175, 422, 8, 274, 2771, 0, 1255, 0, 27, 6537, 0, 2224, 14880, 11522, 0, 4221, 0, 713, 0, 13244, 3, 11, 658, 392, 810, 137, 639, 16, 373, 60, 88, 1021827, 37, 2107, 14, 2325, 3195, 0, 33, 0, 0, 175, 3, 3405, 1, 392, 0, 308, 10559, 0, 15, 4, 0, 808, 3252, 0, 18204, 0]\n",
      "[70, 27, 1581, 5988, 0, 7, 12331, 9142, 1021827, 0, 0, 5030, 19212, 13617, 11867, 4073, 3, 27, 7068, 4982, 1, 7574, 355, 0, 767, 4, 1, 593, 1021827, 0, 9480, 0, 0, 3890, 5, 33233, 0, 3631, 8, 44991, 0, 244, 0, 11867, 0, 1581, 2889, 6134, 27, 566939, 907, 0, 1511, 1144, 0, 44991, 192671, 0, 31, 6732, 101, 3327, 1, 1021827, 0, 4820, 2, 3748, 17, 11, 538, 0, 7, 1021827, 339, 47, 334, 152, 5, 0, 1139, 46, 34, 0, 2, 44991, 192671, 0]\n",
      "[361, 1529, 27, 20164, 4957, 0, 19342, 5, 782, 381, 0, 3506, 3, 0, 20931, 35, 12258, 30, 250, 7457, 0, 4186, 845, 108, 11, 204, 0, 2771, 263965, 1020, 0, 21356, 0, 1367, 254932, 0, 0, 1042, 0, 832, 2861, 152, 10930, 294, 581, 646, 0, 1230, 6286, 0, 1021827, 765, 458, 0, 2295, 489, 17183, 11, 17124, 0, 17224, 0, 0, 7781, 3450, 36914, 18, 11, 2362, 0, 11, 922, 0, 191, 1367, 0, 55, 27, 1661, 8507, 2699, 2630, 784, 3, 63, 0, 47654, 37, 377, 18, 11, 100, 0]\n",
      "[254932, 0, 0, 0, 0, 0, 47654, 0, 4211, 52, 2121, 0, 13169, 0, 832, 485, 0, 1877, 139689, 1020, 3, 37, 2226, 2327, 12, 16687, 2771, 0, 1, 11, 6286, 0, 845, 0, 254932, 0, 7446, 19342, 56, 0, 5, 782, 381, 0, 20766, 5849, 0, 0, 3266, 1223, 1, 47654, 422, 0, 11, 139689, 700, 10, 7632, 5, 782, 0, 0, 0, 0, 0, 1110, 0, 601, 12, 254932, 0, 0, 15, 137, 13, 16, 645, 3, 11, 139689, 700, 10, 2515, 1293, 2, 11, 601, 32, 2121, 5, 782, 8086, 0, 0, 165, 0]\n",
      "[16457, 44, 56, 22787, 5, 1021827, 0, 9751, 4816, 0, 11, 1060, 0, 669, 0, 367, 15156, 188550, 192671, 0, 4098, 14597, 13, 0, 16, 0, 2325, 0, 7, 651, 426, 11620, 101, 302, 4457, 0, 664, 0, 16343, 0, 29, 2357, 516, 269, 734, 0, 1021827, 0, 1906, 11, 486, 436, 0, 498, 3514, 3991, 37778, 11, 1035, 0, 650, 0, 14, 6286, 3285, 627, 0, 359, 2480, 0, 6508, 1143, 0, 820, 1, 1342, 0, 0, 435, 187, 11, 5300, 9695, 4739, 0]\n",
      "[90358, 878, 1021827, 615, 17, 367, 7243, 4012, 435, 503, 0, 503, 0, 2770, 0, 3650, 5, 670, 0, 0, 25584, 0, 6188, 3585, 4655, 11, 1895, 0, 237, 391, 11, 198, 0, 5486, 0, 1035, 1680, 6597, 11, 2431, 868, 18, 1021827, 8, 341, 2486, 0, 1240, 27, 2169, 0, 11, 111, 0, 36391, 581, 2325, 0, 11, 108423, 0, 7, 7730, 0, 5326, 1035, 558, 1, 1021827, 4, 2224, 6406, 0, 16997, 9810, 0, 400, 2124, 0, 48, 16211, 0, 1021827, 991, 2, 3419, 1, 11, 3167, 0, 11, 394, 0, 0, 0, 557104, 4116, 0, 510, 63, 0, 47654, 1, 76, 54, 255, 0, 2027, 2976, 1, 11, 413, 538, 0]\n",
      "[3754, 1, 1035, 12, 27, 418, 3351, 0, 524, 29345, 115, 3, 0, 68, 19, 308, 0, 2252, 1, 11, 1021827, 175, 0, 0, 0, 3, 22, 47, 0, 4185, 4922, 0, 180, 0, 487, 3678, 5, 11, 2325, 0, 0, 688, 0, 26, 1203, 28384, 11, 311, 1816, 1035, 0, 650, 0, 8, 11, 578, 0, 47654, 367, 0, 1642, 664, 5284, 39, 60, 1378, 133, 0, 11, 157, 0, 110, 0, 578, 1367, 0, 254932, 0, 0]\n",
      "[23291, 163, 11, 758, 0, 7962, 37299, 972, 0, 15660, 24596, 0, 33928, 0, 0, 39667, 0, 14847, 76894, 0, 0, 683, 2, 11, 79, 1104, 1723, 0, 2060, 4, 22712, 364, 11, 1021827, 339, 457, 41, 0, 11, 1113, 0, 232, 11, 5114, 11054, 0, 713, 0, 131, 0, 11, 21104, 0, 7269, 1841, 3, 1021827, 2237, 267, 3102, 0, 7, 580, 4408, 4, 16380, 41, 18, 4917, 760241, 408038, 0, 1769, 0, 11, 79, 1104, 0, 2545, 41357, 21630, 2599, 0, 222759, 0, 0, 31, 3831, 0, 0, 62, 189, 0, 2571, 1, 0, 132, 3, 183, 13, 17114, 3698, 0, 0]\n",
      "[3360, 0, 4181, 0, 9618, 196, 53745, 391, 11, 2973, 0, 11, 79, 2206, 3805, 0, 11191, 0, 1, 6351, 8, 66, 1517, 0, 5845, 0, 2292, 11, 1661, 3412, 0, 11, 2853, 1985, 5194, 0, 48, 653, 106, 0, 44, 295, 1, 15207, 1543, 0, 3833, 395612, 0, 1479, 18, 11, 3138, 0, 16, 11, 504, 0, 3326, 0, 129008, 25255, 3413, 0, 4, 849, 1, 0, 16540, 15812, 2552, 4628, 0, 826, 8, 13601, 10708, 0, 1279, 17060, 0, 237, 38854, 0, 6335, 1, 0, 0, 1795, 1739, 2800, 0, 0, 1523, 0, 47654, 0, 11, 37299, 972, 0, 1661, 0, 6836, 19, 3684, 12, 11, 59, 0, 0, 27, 780, 0, 47654, 17, 68924, 0, 679, 6836, 19, 4515, 41, 80, 436, 334, 0]\n",
      "[7, 160, 0, 0, 0, 160, 0, 1367, 35, 42, 21342, 5, 11, 2576, 65, 880, 27480, 2206, 7389, 1745, 0, 748, 44, 1418, 0, 4945, 1, 3171, 0, 12304, 0, 10988, 2160, 0, 305, 11, 0, 13550, 3, 15, 50, 13, 9633, 2491, 11, 13088, 3147, 542, 3007, 1021827, 0, 0, 4, 1123, 0, 4957, 656, 0, 495, 484, 0, 918, 0]\n"
     ]
    },
    {
     "name": "stdout",
     "output_type": "stream",
     "text": [
      "[305, 254932, 0, 1046, 27, 259, 761, 1201, 8, 5734, 12830, 0, 446, 0, 1010, 1258, 0, 4141, 0, 86, 0, 0, 11, 992, 0, 0, 847, 43, 354, 1, 29, 1367, 2325, 2, 122, 1270, 0, 0, 0, 0, 4875, 122, 160, 2013, 918, 17, 484, 0, 1257, 11, 918, 191, 5, 0, 6365, 0, 5952, 183954, 0, 0, 0, 7, 79, 1104, 2752, 2357, 0, 316, 11, 4872, 955, 0, 42480, 2799, 22157, 48191, 34, 0, 17, 27, 1201, 1361, 18, 0, 254932, 0, 3740, 3, 10, 233, 0, 472, 2149, 0, 0, 17, 79, 484, 0, 0, 11, 352, 0, 1021827, 0, 885, 1873, 2540, 518, 39, 5624, 0]\n",
      "[12489, 572, 0, 16, 0, 18804, 54880, 0, 0, 0, 1673, 0, 139689, 0, 700, 5, 11, 578, 0, 1367, 0, 11, 267, 11685, 0, 4183, 5, 11, 6989, 0, 9719, 0, 4818, 1744, 64702, 254932, 0, 0, 5984, 0, 2733, 5448, 0, 53187, 0, 3842, 0, 95812, 1093, 46, 11, 1367, 0, 35755, 3390, 0, 1793, 6724, 0, 983, 3, 181449, 11, 175, 0, 4012, 435, 119, 0, 1600, 0, 1908, 934, 0, 99, 1545, 333, 0, 278, 255, 334, 0]\n",
      "[388953, 18, 9719, 446, 311462, 869402, 0, 11, 92018, 0, 11, 802, 1380, 0, 11, 802, 1116, 669, 0, 11, 886, 39421, 2454, 0, 11, 4284, 0, 214, 4818, 4, 2794, 0, 43986, 11, 22221, 34305, 491, 0, 2117, 44, 858, 0, 713, 0, 4, 0, 13936, 8528, 3010, 17, 106, 761, 2160, 8, 6836, 63, 11, 4284, 0, 22686, 0, 0, 981, 1525, 13, 76, 2, 6162, 93728, 33, 131, 18528, 0, 14, 11, 603, 0, 5245, 1695, 35, 107, 15, 0, 1141, 568, 392, 15669, 0, 1165, 1, 1188, 0, 19144, 1011, 0, 4894, 30, 6836, 99, 11, 4818, 0, 858, 142, 1219, 0, 131, 0, 166, 1201, 5835, 994, 1717, 0, 25887, 650054, 0, 1105, 0, 422, 1908, 108, 282, 394, 3, 841, 11, 667, 0, 45, 0, 17, 46, 34, 0, 0, 63, 34, 0, 0]\n",
      "[75600, 1282, 1, 1021827, 0, 11, 14748, 0, 78, 3753, 0, 11, 422, 4846, 66176, 0, 11, 254932, 0, 1367, 5726, 29346, 0, 4945, 0, 5138, 0, 0, 10549, 0, 8210, 1051, 18, 1021827, 3161, 0, 7300, 0, 0, 339, 280, 0, 11, 18318, 4, 5127, 405, 507, 55, 11, 3130, 0, 54, 557, 3096, 10033, 0, 740, 428812, 0, 0, 47654, 18775, 0, 0, 43795, 2891776, 0, 0, 43589, 0, 2832, 0, 0, 60728, 22260, 78, 0, 30, 10823, 3096, 8039, 1, 555, 0, 13489, 0, 11, 721, 0, 8911, 1405, 0, 741, 4342, 1405, 0, 0, 0, 4, 582, 2722, 55, 0, 4712, 13810, 0, 1559, 11, 1412, 600, 0]\n",
      "[70, 318, 8, 11, 1412, 1112, 2, 1021827, 0, 40504, 0, 11, 246, 0, 12579, 1088, 0, 4916, 7300, 31007, 44, 56, 2565, 0, 1120, 11, 180, 0, 11906, 472, 0, 55931, 11, 907, 0, 65, 2325, 2975, 11, 491, 0, 665, 0, 428063, 7438, 0, 19, 908, 0, 3625, 274, 134, 77, 0, 6443, 119, 11, 246, 0, 65, 0, 3205, 296, 11, 4916, 6523, 3203, 1, 11, 36, 0, 0, 0, 3487, 0, 2649, 237, 1465, 0, 0, 47654, 0, 105, 1600, 0, 18255, 2162, 0, 1812, 4, 0, 338, 1172, 0, 11, 2325, 0, 418, 4444, 0, 667, 6110, 0, 3612, 0]\n",
      "[70, 0, 3316, 0, 10938, 640, 0, 127895, 4107, 11, 402, 0, 0, 18026, 1436, 3386, 654, 17, 63, 0, 523, 0, 0, 131, 912, 2042, 285, 21, 873, 3514, 0, 38, 58, 0, 153, 27, 1246, 13013, 17, 4266, 0, 9711, 0, 29, 4808, 130, 21, 12182, 654, 0, 11, 27696, 96, 0, 2314, 542, 32, 55119, 0, 509, 0, 719, 432, 4, 0, 2651, 68, 0, 13, 1484, 82, 0, 0, 232, 45, 0, 11, 0, 106, 1141, 20299, 5, 11, 1985, 0, 127895, 0, 408, 33301, 11, 132, 2, 334, 1443, 12652, 1, 1021827, 0]\n",
      "[44311, 2956, 2960, 0, 558, 0, 2181, 0, 399, 146, 0, 44, 8156, 0, 0, 7186, 137503, 0, 515, 5, 0, 14, 0, 0, 5845, 11, 18032, 1342, 2, 46, 439, 245, 0, 5536, 89, 557, 4945, 0, 0, 0, 0, 3255, 47654, 0, 0, 1767, 49, 0, 558, 0, 2960, 0, 312, 766, 0, 0, 0, 0, 0, 5513, 0, 4957, 0, 11, 1342, 0, 0, 369602, 8, 4945, 1296, 171, 0, 0, 0, 47654, 0, 312, 444, 0, 0, 0, 0, 11, 79, 2498, 0, 5507, 1380, 4082, 662, 103, 137503, 2, 28907, 786, 1, 0, 83849, 2537, 0]\n",
      "[741, 3955, 20931, 13385, 0, 0, 4690, 751, 0, 1045, 3786, 49, 2160, 734, 0, 0, 0, 966, 25842, 11, 18645, 0, 439, 484, 0, 0, 0, 0, 557, 590, 0, 1367, 0, 4, 6447, 271, 0, 1429, 39, 60, 0, 47654, 0, 118, 66, 4070, 1370, 389, 1021827, 0, 257, 3463, 13447, 121492, 14, 112, 14, 43795, 2891776, 0, 53, 515, 14, 43589, 0, 0, 11, 3412, 0, 0, 557, 3096, 2832, 0, 1151, 0, 0, 43589, 0, 2832, 4007, 11, 4045, 0, 1295, 5, 2842, 0, 30, 484, 0]\n",
      "[312, 782, 0, 0, 0, 0, 0, 0, 27, 590, 2314, 277, 0, 1141, 728, 2, 19340, 0, 5513, 15, 23, 10974, 52, 12025, 734, 0, 11, 2325, 485, 0, 1093, 0, 44, 17817, 0, 893, 255, 334, 0, 3147, 542, 3007, 237, 5383, 20377, 11, 1141, 0, 1367, 0, 269, 823, 0, 0, 14206, 44, 160, 0, 1045, 994, 1220, 44, 0, 1146, 0, 9313, 44, 484, 0, 8156, 0, 7, 486, 113, 0, 2913, 0, 0, 515, 5, 0, 14, 0, 0, 320131, 44348, 0, 5612, 12056, 1, 139, 47654, 0, 3129, 0, 197, 590, 1367, 0, 25091, 44, 1418, 0, 2160, 0, 918, 0]\n",
      "[361, 11, 1720, 1744, 0, 28, 2482, 0, 1021827, 0, 9723, 3947, 0, 786, 4492, 276, 5, 11, 261, 0, 39127, 435, 0, 65, 5397, 0, 1523, 0, 81, 3589, 5698, 1, 0, 1228, 0, 1021827, 2, 57597, 0, 5, 606, 0, 0, 0, 0, 11, 550, 4449, 0, 121, 24736, 2, 11, 9480, 0, 1021827, 0, 31, 4, 826, 8, 1849, 0, 2325, 1, 936, 8, 11, 79, 9795, 0, 1548, 11, 1877, 3431, 0, 435, 872, 17441, 486, 11, 261, 0, 10772, 0]\n",
      "[149, 5429, 654, 0, 11, 8481, 0, 27, 581, 11894, 345, 2, 11, 254932, 0, 0, 1367, 0, 0, 20931, 10497, 0, 2127, 49, 0, 0, 0, 875, 3191, 0, 11, 1042, 0, 1928, 4434, 0, 143, 2227, 5263, 0, 549857, 69954, 18113, 0, 5242, 30, 21570, 5500, 0, 416, 654, 0, 11, 504, 0, 32, 220, 8006, 947, 0, 983, 0, 3, 58, 198990, 4192, 0, 18992, 49359, 435, 296, 11, 125, 511, 6523, 76, 34, 0, 279, 12968, 0, 254932, 0, 29829, 11, 9935, 3753, 0, 30680, 832, 2, 375, 255, 0, 1235, 0, 1903, 30, 921, 0, 0, 54, 66, 557, 6286, 458, 3145, 30680, 118, 30, 250, 371, 4, 4399, 0, 8169, 55, 0, 0, 3191, 0, 11, 4434, 4, 8507, 0, 4, 233, 0, 1319, 1020, 103, 2160, 322, 18, 960, 0, 11, 0, 590, 10952, 277, 31, 306, 11, 207, 9407, 5, 184, 1345, 0, 3228, 1, 13331, 0, 63, 0, 47654, 17, 3245, 0, 18645, 0]\n",
      "[44979, 0, 7, 24135, 12085, 3638, 228, 3210, 7158, 2921, 8949, 1611555, 0, 0, 10008, 8345, 0, 1868, 5, 54057, 4, 14, 13738, 14, 15, 4, 1141, 0, 382, 131, 68, 1772, 15, 0, 11, 4970, 11721, 3, 1021827, 24, 0, 4139, 667, 0, 45, 3, 0, 3635, 1533, 0, 1017, 124, 0, 316, 0, 2137, 0, 254932, 0, 1, 11, 2986, 0, 11, 1581, 1369, 27, 4694, 22656, 1, 422, 3, 7266, 52, 721, 1431, 0, 2770, 63, 34, 0, 279, 0, 76, 45, 116, 55, 4132, 0]\n",
      "[312, 351, 0, 0, 0, 0, 0, 6695, 11, 56, 1367, 0, 664, 0, 0, 882, 21513, 9513, 0, 18057, 0, 0, 1435, 255, 334, 0, 5, 351, 0, 0, 1021827, 2568, 3466, 0, 277, 2, 501, 0, 0, 0, 501, 1367, 1, 4862, 505846, 0, 109194, 0, 0, 79, 21024, 0, 312, 394, 293, 0, 0, 2219, 15794, 5448, 1, 23274, 0, 7251, 0, 0, 66, 5570, 0, 7280, 0, 32, 12923, 0, 3311, 0, 832, 2, 1488, 0, 1645, 0, 65, 960, 0, 11, 175, 4, 2994, 18990, 0]\n",
      "[1435, 54, 77, 154, 0, 1021827, 20601, 16233, 8, 11, 79, 9795, 5, 11, 254932, 0, 1367, 0, 7, 486, 113, 0, 78, 1141, 303, 7527, 1504, 1531, 5, 11, 11563, 6186, 0, 2733, 136, 0, 3961, 0, 558, 1, 11, 878, 2325, 3, 11, 581, 1021827, 1042, 4, 5726, 22464, 0]\n",
      "[5242, 0, 20786, 50390, 0, 11, 132, 3276, 472, 1052, 0, 27, 3955, 571, 4631, 0, 9935, 2771, 3, 10466, 0, 0, 0, 534, 595, 0, 4583, 360, 14, 131, 14, 50, 26235, 4192, 1, 11, 1107, 273, 0, 7, 51201, 4, 966, 5066, 18, 1021827, 3161, 0, 339, 280, 0, 0, 0, 2649, 1405, 0, 11, 1021827, 845, 4, 582, 405, 507, 0, 149, 11, 147, 113, 0, 11, 12156, 0, 76795, 11, 12258, 45, 0, 0, 1021827, 4, 95, 1, 1845, 1342, 0, 33, 13, 99, 11, 175, 4, 4644, 10850, 0]\n",
      "[40880, 146594, 0, 0, 30318, 201, 515, 2, 1849, 11, 1119, 204641, 7584, 0, 0, 0, 7584, 751, 1, 0, 0, 5513, 11, 1319, 0, 254932, 0, 0, 0, 65, 335, 0, 59, 0, 1367, 0, 3890, 5, 0, 1467, 0, 4375, 455, 0, 146594, 0, 0, 811, 27, 590, 1367, 2, 6019, 0, 7, 30422, 2807, 0, 22, 774, 5957, 0, 350, 41, 8, 11, 2839, 0, 11, 160, 0, 4572, 0, 0, 1258, 0, 5, 351, 381, 0, 0, 0, 254932, 0, 47, 3991, 1532, 0, 7494, 11, 157, 0, 0, 832, 63, 11, 147, 80, 77, 0]\n",
      "[7, 640, 0, 1021827, 1405, 0, 4, 2723, 5, 399462, 0, 0, 1141, 303, 0, 454, 1042, 0, 30966, 0, 557, 1615, 0, 210525, 0, 11, 1581, 2275, 131, 3372, 0, 1579, 68, 5, 429, 0, 1105, 11, 1367, 667, 0, 0, 649, 0, 41, 534, 41558, 0, 17, 1297, 34, 0, 0, 34, 0, 1, 76, 161, 255, 0]\n",
      "[0, 1928, 0, 0, 70799, 0, 0, 5259, 0, 47654, 2, 54, 28669, 2135, 0, 30, 541, 0, 4520, 12, 46, 34, 0, 0, 0, 1679, 0, 810, 2, 18, 197, 1928, 0, 0, 0, 105, 38516, 11, 56, 4228, 8535, 0, 0, 0, 46, 34, 0, 279, 12968, 0]\n",
      "[5242, 18026, 0, 0, 8204, 0, 47654, 17, 20582, 2, 34, 0, 0, 44080, 0, 3245, 45, 10499, 0, 0, 6297, 279, 0, 0]\n"
     ]
    },
    {
     "name": "stdout",
     "output_type": "stream",
     "text": [
      "[442, 5151, 6230, 3466, 0, 277, 0, 753, 0, 983, 0, 0, 8, 27, 1720, 1367, 511, 0, 0, 47654, 0, 45, 79, 9795, 0, 29, 46, 439, 46782, 0, 0, 6297, 279, 0, 0, 7, 511, 4, 8782, 17, 11, 370, 0, 2460, 233, 18, 0, 1279, 0, 3219, 0, 29, 0, 2747, 0, 11, 2325, 0]\n",
      "[7, 56, 1021827, 2771, 342, 0, 29, 38869, 1484, 0, 5912, 104, 11, 1021827, 0, 0, 730, 0, 3801, 0, 0, 0, 18280, 1355, 5228, 0, 3, 113, 0, 7, 1371, 0, 11651, 5, 10132, 0, 110, 4818, 2, 1030, 0, 7, 1720, 1021827, 241, 0, 44, 1178, 2735, 19, 582, 18, 188550, 192671, 222, 255, 334, 0]\n"
     ]
    },
    {
     "data": {
      "text/html": [
       "<div>\n",
       "<style scoped>\n",
       "    .dataframe tbody tr th:only-of-type {\n",
       "        vertical-align: middle;\n",
       "    }\n",
       "\n",
       "    .dataframe tbody tr th {\n",
       "        vertical-align: top;\n",
       "    }\n",
       "\n",
       "    .dataframe thead th {\n",
       "        text-align: right;\n",
       "    }\n",
       "</style>\n",
       "<table border=\"1\" class=\"dataframe\">\n",
       "  <thead>\n",
       "    <tr style=\"text-align: right;\">\n",
       "      <th></th>\n",
       "      <th>event_id</th>\n",
       "      <th>event_title</th>\n",
       "      <th>event_date</th>\n",
       "      <th>bitcoin_value</th>\n",
       "      <th>bitcoin_value_10_days_later</th>\n",
       "      <th>event_maintext</th>\n",
       "      <th>title_label</th>\n",
       "      <th>maintext_label</th>\n",
       "      <th>title_pred_googlenewsembeddings</th>\n",
       "      <th>maintext_pred_googlenewsembeddings</th>\n",
       "    </tr>\n",
       "  </thead>\n",
       "  <tbody>\n",
       "    <tr>\n",
       "      <th>0</th>\n",
       "      <td>91</td>\n",
       "      <td>U.S. regulator demands trading data from Bitco...</td>\n",
       "      <td>11/6/2018</td>\n",
       "      <td>7158.95</td>\n",
       "      <td>6709.39</td>\n",
       "      <td>The U.S. Commodity Futures Trading Commission ...</td>\n",
       "      <td>0</td>\n",
       "      <td>0</td>\n",
       "      <td>1</td>\n",
       "      <td>1</td>\n",
       "    </tr>\n",
       "    <tr>\n",
       "      <th>1</th>\n",
       "      <td>90</td>\n",
       "      <td>South Korean crypto exchange, CoinRail has bee...</td>\n",
       "      <td>10/6/2018</td>\n",
       "      <td>7638.44</td>\n",
       "      <td>6747.77</td>\n",
       "      <td>South Korean crypto exchange Coinrail loses ov...</td>\n",
       "      <td>0</td>\n",
       "      <td>0</td>\n",
       "      <td>1</td>\n",
       "      <td>1</td>\n",
       "    </tr>\n",
       "    <tr>\n",
       "      <th>2</th>\n",
       "      <td>89</td>\n",
       "      <td>U.S.Justice Department launches criminal probe...</td>\n",
       "      <td>24/5/2018</td>\n",
       "      <td>7818.21</td>\n",
       "      <td>7608.50</td>\n",
       "      <td>The Justice Department has opened a criminal p...</td>\n",
       "      <td>0</td>\n",
       "      <td>0</td>\n",
       "      <td>1</td>\n",
       "      <td>0</td>\n",
       "    </tr>\n",
       "    <tr>\n",
       "      <th>3</th>\n",
       "      <td>88</td>\n",
       "      <td>Prosecutors raid largest South Korean exchange</td>\n",
       "      <td>11/5/2018</td>\n",
       "      <td>9289.09</td>\n",
       "      <td>8371.90</td>\n",
       "      <td>Prosecutors raided UpBit, the largest cryptocu...</td>\n",
       "      <td>0</td>\n",
       "      <td>0</td>\n",
       "      <td>1</td>\n",
       "      <td>1</td>\n",
       "    </tr>\n",
       "    <tr>\n",
       "      <th>4</th>\n",
       "      <td>87</td>\n",
       "      <td>Goldman Sachs announces to open a Bitcoin trad...</td>\n",
       "      <td>2/5/2018</td>\n",
       "      <td>9021.75</td>\n",
       "      <td>8728.95</td>\n",
       "      <td>One of the largest investment bank announced, ...</td>\n",
       "      <td>1</td>\n",
       "      <td>1</td>\n",
       "      <td>1</td>\n",
       "      <td>1</td>\n",
       "    </tr>\n",
       "  </tbody>\n",
       "</table>\n",
       "</div>"
      ],
      "text/plain": [
       "   event_id                                        event_title event_date  \\\n",
       "0        91  U.S. regulator demands trading data from Bitco...  11/6/2018   \n",
       "1        90  South Korean crypto exchange, CoinRail has bee...  10/6/2018   \n",
       "2        89  U.S.Justice Department launches criminal probe...  24/5/2018   \n",
       "3        88     Prosecutors raid largest South Korean exchange  11/5/2018   \n",
       "4        87  Goldman Sachs announces to open a Bitcoin trad...   2/5/2018   \n",
       "\n",
       "   bitcoin_value  bitcoin_value_10_days_later  \\\n",
       "0        7158.95                      6709.39   \n",
       "1        7638.44                      6747.77   \n",
       "2        7818.21                      7608.50   \n",
       "3        9289.09                      8371.90   \n",
       "4        9021.75                      8728.95   \n",
       "\n",
       "                                      event_maintext  title_label  \\\n",
       "0  The U.S. Commodity Futures Trading Commission ...            0   \n",
       "1  South Korean crypto exchange Coinrail loses ov...            0   \n",
       "2  The Justice Department has opened a criminal p...            0   \n",
       "3  Prosecutors raided UpBit, the largest cryptocu...            0   \n",
       "4  One of the largest investment bank announced, ...            1   \n",
       "\n",
       "   maintext_label  title_pred_googlenewsembeddings  \\\n",
       "0               0                                1   \n",
       "1               0                                1   \n",
       "2               0                                1   \n",
       "3               0                                1   \n",
       "4               1                                1   \n",
       "\n",
       "   maintext_pred_googlenewsembeddings  \n",
       "0                                   1  \n",
       "1                                   1  \n",
       "2                                   0  \n",
       "3                                   1  \n",
       "4                                   1  "
      ]
     },
     "execution_count": 25,
     "metadata": {},
     "output_type": "execute_result"
    }
   ],
   "source": [
    "_99bitcoin_df['title_pred_googlenewsembeddings'] = _99bitcoin_df['event_title'].apply(lambda x: int(round(predict_sentiment(x, keyedvector=True))))\n",
    "_99bitcoin_df['maintext_pred_googlenewsembeddings'] = _99bitcoin_df['event_maintext'].apply(lambda x: int(round(predict_sentiment(x, keyedvector=True))))\n",
    "_99bitcoin_df.head()"
   ]
  },
  {
   "cell_type": "code",
   "execution_count": 26,
   "metadata": {
    "scrolled": true
   },
   "outputs": [
    {
     "name": "stdout",
     "output_type": "stream",
     "text": [
      "Title Confusion Matrix (Google News Word Embeddings)\n",
      "    0   1\n",
      "0  20  25\n",
      "1  24  22\n",
      "\n",
      " title precision = 0.47, title recall = 0.48, title F1 = 0.47, title accuracy = 0.46\n",
      "\n",
      "Maintext Confusion Matrix (Google News Word Embeddings)\n",
      "    0   1\n",
      "0  26  25\n",
      "1  25  15\n",
      "\n",
      " maintext precision = 0.38, maintext recall = 0.38, maintext F1 = 0.38, maintext accuracy = 0.45\n",
      "\n"
     ]
    }
   ],
   "source": [
    "# Calculate precision and recall\n",
    "title_cm = metrics.confusion_matrix(_99bitcoin_df['title_label'], _99bitcoin_df['title_pred_googlenewsembeddings'])\n",
    "print('Title Confusion Matrix (Google News Word Embeddings)')\n",
    "print(pd.DataFrame(title_cm))\n",
    "title_report = metrics.precision_recall_fscore_support(_99bitcoin_df['title_label'], _99bitcoin_df['title_pred_googlenewsembeddings'], average='binary')\n",
    "print (\"\\n title precision = %0.2f, title recall = %0.2f, title F1 = %0.2f, title accuracy = %0.2f\\n\" % \n",
    "           (title_report[0], title_report[1], title_report[2], \n",
    "            metrics.accuracy_score(_99bitcoin_df['title_label'], _99bitcoin_df['title_pred_googlenewsembeddings'])))\n",
    "\n",
    "maintext_cm = metrics.confusion_matrix(_99bitcoin_df['maintext_label'], _99bitcoin_df['maintext_pred_googlenewsembeddings'])\n",
    "print('Maintext Confusion Matrix (Google News Word Embeddings)')\n",
    "print(pd.DataFrame(maintext_cm))\n",
    "title_report = metrics.precision_recall_fscore_support(_99bitcoin_df['maintext_label'], _99bitcoin_df['maintext_pred_googlenewsembeddings'], average='binary')\n",
    "print (\"\\n maintext precision = %0.2f, maintext recall = %0.2f, maintext F1 = %0.2f, maintext accuracy = %0.2f\\n\" % \n",
    "           (title_report[0], title_report[1], title_report[2], \n",
    "            metrics.accuracy_score(_99bitcoin_df['maintext_label'], _99bitcoin_df['maintext_pred_googlenewsembeddings'])))"
   ]
  }
 ],
 "metadata": {
  "kernelspec": {
   "display_name": "Python 3",
   "language": "python",
   "name": "python3"
  },
  "language_info": {
   "codemirror_mode": {
    "name": "ipython",
    "version": 3
   },
   "file_extension": ".py",
   "mimetype": "text/x-python",
   "name": "python",
   "nbconvert_exporter": "python",
   "pygments_lexer": "ipython3",
   "version": "3.6.5"
  }
 },
 "nbformat": 4,
 "nbformat_minor": 2
}
