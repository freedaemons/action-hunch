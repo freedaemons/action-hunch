{
 "cells": [
  {
   "cell_type": "code",
   "execution_count": 1,
   "metadata": {},
   "outputs": [],
   "source": [
    "import numpy as np\n",
    "import pandas as pd\n",
    "import os"
   ]
  },
  {
   "cell_type": "code",
   "execution_count": 2,
   "metadata": {},
   "outputs": [],
   "source": [
    "pd.set_option('display.max_colwidth', -1)"
   ]
  },
  {
   "cell_type": "code",
   "execution_count": 3,
   "metadata": {},
   "outputs": [],
   "source": [
    "datadir = os.path.join('input', '99bitcoins')\n",
    "glove_wordvectors = os.path.join('input', 'glove.6B', 'glove.6B.50d.txt')"
   ]
  },
  {
   "cell_type": "code",
   "execution_count": 4,
   "metadata": {},
   "outputs": [],
   "source": [
    "main_df = pd.read_csv(os.path.join(datadir, '99bitcoins_main.csv'))"
   ]
  },
  {
   "cell_type": "code",
   "execution_count": null,
   "metadata": {
    "scrolled": true
   },
   "outputs": [],
   "source": [
    "\"\"\"\n",
    "np.loadtext and np.genfromtxt handle special characters poorly (most likely quotation marks), and fail\n",
    "to skip over columns even when they are excluded using the usecols parameter. This causes rows to be wrongly delimited\n",
    "\n",
    "The workaround, in the following cell, uses pandas.read_csv to work around this problem, by specifying an obscure quotechar\n",
    "parameter, so that quotation marks and other characters are not mistaken for quotechars, interrupting parsing.\n",
    "\"\"\"\n",
    "wordvectors = np.genfromtxt(glove_wordvectors, \n",
    "                            usecols=tuple(range(1,51)), \n",
    "                            encoding='UTF=8', \n",
    "                            dtype=None)"
   ]
  },
  {
   "cell_type": "code",
   "execution_count": 5,
   "metadata": {},
   "outputs": [],
   "source": [
    "wordvectors_df = pd.read_csv(glove_wordvectors, names=list(range(0,51)), sep=' ', engine='python', quotechar='\\x07')"
   ]
  },
  {
   "cell_type": "code",
   "execution_count": 8,
   "metadata": {
    "scrolled": false
   },
   "outputs": [
    {
     "data": {
      "text/plain": [
       "(400000, 51)"
      ]
     },
     "execution_count": 8,
     "metadata": {},
     "output_type": "execute_result"
    }
   ],
   "source": [
    "wordvectors_df.shape"
   ]
  }
 ],
 "metadata": {
  "kernelspec": {
   "display_name": "Python 3",
   "language": "python",
   "name": "python3"
  },
  "language_info": {
   "codemirror_mode": {
    "name": "ipython",
    "version": 3
   },
   "file_extension": ".py",
   "mimetype": "text/x-python",
   "name": "python",
   "nbconvert_exporter": "python",
   "pygments_lexer": "ipython3",
   "version": "3.6.5"
  }
 },
 "nbformat": 4,
 "nbformat_minor": 2
}
