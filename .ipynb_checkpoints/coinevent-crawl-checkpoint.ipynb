{
 "cells": [
  {
   "cell_type": "code",
   "execution_count": 1,
   "metadata": {},
   "outputs": [],
   "source": [
    "import requests as re\n",
    "import pandas as pd\n",
    "import numpy as np\n",
    "import os\n",
    "from bs4 import BeautifulSoup\n",
    "from datetime import datetime"
   ]
  },
  {
   "cell_type": "code",
   "execution_count": 2,
   "metadata": {},
   "outputs": [],
   "source": [
    "pd.set_option('display.max_colwidth', -1)"
   ]
  },
  {
   "cell_type": "code",
   "execution_count": 40,
   "metadata": {},
   "outputs": [],
   "source": [
    "request_header = {'User-Agent': 'Mozilla/5.0 (Windows NT 6.1) AppleWebKit/537.36 (KHTML, like Gecko) Chrome/41.0.2228.0 Safari/537.36'}"
   ]
  },
  {
   "cell_type": "code",
   "execution_count": 3,
   "metadata": {},
   "outputs": [],
   "source": [
    "site_url = 'https://99bitcoins.com/price-chart-history/'"
   ]
  },
  {
   "cell_type": "code",
   "execution_count": 41,
   "metadata": {},
   "outputs": [],
   "source": [
    "r = re.get(site_url, headers=request_header)\n",
    "page = r.text\n",
    "soup = BeautifulSoup(page, 'html.parser')"
   ]
  },
  {
   "cell_type": "code",
   "execution_count": 24,
   "metadata": {},
   "outputs": [],
   "source": [
    "main_table = []\n",
    "url_table = []\n",
    "\n",
    "for event_div in soup.find_all('div', {'class': 'bitcoin_history'}):\n",
    "    event_header = event_div.find('h3').text.split(' - ')\n",
    "    event_date_str = event_header[1].strip(' ')\n",
    "    price_div = event_div.find('div', {'class': 'info'}).find_all('span')\n",
    "    event_body = event_div.find('p').text.replace('Source:', 'Sources:').split('Sources:')\n",
    "    \n",
    "    event_title = event_header[0].strip(' ')\n",
    "    event_date = datetime.strptime(event_date_str, '%B %d, %Y').date()\n",
    "    event_id = event_div['id']\n",
    "    try:\n",
    "        bitcoin_value = float(price_div[1].text.strip('$'))\n",
    "        bitcoin_value_10_days_later = float(price_div[3].text.strip('$'))\n",
    "    except IndexError:\n",
    "        bitcoin_value = None\n",
    "        bitcoin_value_10_days_later = None\n",
    "    event_maintext = event_body[0].replace('\\r','').replace('\\n', '')\n",
    "    \n",
    "    url_list = [url for url in event_body[1].split('\\n') if url.startswith('http')]\n",
    "    \n",
    "    main_table.append({\n",
    "        'event_id': event_id,\n",
    "        'event_title': event_title,\n",
    "        'event_date': event_date,\n",
    "        'bitcoin_value': bitcoin_value,\n",
    "        'bitcoin_value_10_days_later': bitcoin_value_10_days_later\n",
    "    })\n",
    "    \n",
    "    [url_table.append({\n",
    "        'event_id': event_id,\n",
    "        'source_url': url,\n",
    "    }) for url in url_list]"
   ]
  },
  {
   "cell_type": "code",
   "execution_count": 25,
   "metadata": {},
   "outputs": [],
   "source": [
    "maincols = ['event_id', 'event_title', 'event_date', 'bitcoin_value', 'bitcoin_value_10_days_later']\n",
    "urlcols = ['event_id', 'source_url']\n",
    "main_df = pd.DataFrame(main_table)[maincols]\n",
    "url_df = pd.DataFrame(url_table)[urlcols]"
   ]
  },
  {
   "cell_type": "code",
   "execution_count": 42,
   "metadata": {
    "scrolled": true
   },
   "outputs": [],
   "source": [
    "source = re.get(\n",
    "    'https://www.wsj.com/articles/u-s-regulators-demand-trading-data-from-bitcoin-exchanges-in-manipulation-probe-1528492835?mod=searchresults&page=1&pos=1',\n",
    "    headers=request_header)\n",
    "sourcetext = source.text\n",
    "soup = BeautifulSoup(sourcetext, 'html.parser')"
   ]
  },
  {
   "cell_type": "code",
   "execution_count": 22,
   "metadata": {
    "scrolled": true
   },
   "outputs": [
    {
     "data": {
      "text/html": [
       "<div>\n",
       "<style scoped>\n",
       "    .dataframe tbody tr th:only-of-type {\n",
       "        vertical-align: middle;\n",
       "    }\n",
       "\n",
       "    .dataframe tbody tr th {\n",
       "        vertical-align: top;\n",
       "    }\n",
       "\n",
       "    .dataframe thead th {\n",
       "        text-align: right;\n",
       "    }\n",
       "</style>\n",
       "<table border=\"1\" class=\"dataframe\">\n",
       "  <thead>\n",
       "    <tr style=\"text-align: right;\">\n",
       "      <th></th>\n",
       "      <th>event_id</th>\n",
       "      <th>source_url</th>\n",
       "    </tr>\n",
       "  </thead>\n",
       "  <tbody>\n",
       "    <tr>\n",
       "      <th>0</th>\n",
       "      <td>91</td>\n",
       "      <td>https://www.wsj.com/articles/u-s-regulators-demand-trading-data-from-bitcoin-exchanges-in-manipulation-probe-1528492835?mod=searchresults&amp;page=1&amp;pos=1</td>\n",
       "    </tr>\n",
       "    <tr>\n",
       "      <th>1</th>\n",
       "      <td>91</td>\n",
       "      <td>https://uk.news.yahoo.com/bitcoin-price-crypto-crash-blamed-095821221.html</td>\n",
       "    </tr>\n",
       "    <tr>\n",
       "      <th>2</th>\n",
       "      <td>90</td>\n",
       "      <td>https://www.cnbc.com/2018/06/10/bitcoin-tumbles-10-percent-after-news-of-south-korea-crypto-exchange-hack.html</td>\n",
       "    </tr>\n",
       "    <tr>\n",
       "      <th>3</th>\n",
       "      <td>89</td>\n",
       "      <td>https://www.bloomberg.com/news/articles/2018-05-24/bitcoin-manipulation-is-said-to-be-focus-of-u-s-criminal-probe</td>\n",
       "    </tr>\n",
       "    <tr>\n",
       "      <th>4</th>\n",
       "      <td>89</td>\n",
       "      <td>https://www.cnbc.com/2018/05/24/us-opens-criminal-probe-into-bitcoin-price-manipulation-bloomberg.html</td>\n",
       "    </tr>\n",
       "  </tbody>\n",
       "</table>\n",
       "</div>"
      ],
      "text/plain": [
       "  event_id  \\\n",
       "0  91        \n",
       "1  91        \n",
       "2  90        \n",
       "3  89        \n",
       "4  89        \n",
       "\n",
       "                                                                                                                                               source_url  \n",
       "0  https://www.wsj.com/articles/u-s-regulators-demand-trading-data-from-bitcoin-exchanges-in-manipulation-probe-1528492835?mod=searchresults&page=1&pos=1  \n",
       "1  https://uk.news.yahoo.com/bitcoin-price-crypto-crash-blamed-095821221.html                                                                              \n",
       "2  https://www.cnbc.com/2018/06/10/bitcoin-tumbles-10-percent-after-news-of-south-korea-crypto-exchange-hack.html                                          \n",
       "3  https://www.bloomberg.com/news/articles/2018-05-24/bitcoin-manipulation-is-said-to-be-focus-of-u-s-criminal-probe                                       \n",
       "4  https://www.cnbc.com/2018/05/24/us-opens-criminal-probe-into-bitcoin-price-manipulation-bloomberg.html                                                  "
      ]
     },
     "execution_count": 22,
     "metadata": {},
     "output_type": "execute_result"
    }
   ],
   "source": [
    "url_df.head()"
   ]
  }
 ],
 "metadata": {
  "kernelspec": {
   "display_name": "Python 3",
   "language": "python",
   "name": "python3"
  },
  "language_info": {
   "codemirror_mode": {
    "name": "ipython",
    "version": 3
   },
   "file_extension": ".py",
   "mimetype": "text/x-python",
   "name": "python",
   "nbconvert_exporter": "python",
   "pygments_lexer": "ipython3",
   "version": "3.6.5"
  }
 },
 "nbformat": 4,
 "nbformat_minor": 2
}
