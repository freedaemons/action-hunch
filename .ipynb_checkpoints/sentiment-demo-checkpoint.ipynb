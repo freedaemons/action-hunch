{
 "cells": [
  {
   "cell_type": "code",
   "execution_count": 1,
   "metadata": {},
   "outputs": [
    {
     "name": "stderr",
     "output_type": "stream",
     "text": [
      "C:\\Users\\friedemann.ang\\AppData\\Local\\Continuum\\anaconda3\\lib\\site-packages\\gensim\\utils.py:1197: UserWarning: detected Windows; aliasing chunkize to chunkize_serial\n",
      "  warnings.warn(\"detected Windows; aliasing chunkize to chunkize_serial\")\n"
     ]
    }
   ],
   "source": [
    "import sentiment\n",
    "\n",
    "import torch\n",
    "import torch.nn as nn\n",
    "import torch.nn.functional as F\n",
    "\n",
    "from torchtext import data\n",
    "from torchtext import datasets\n",
    "\n",
    "import random\n",
    "import os\n",
    "import pandas as pd\n",
    "\n",
    "import spacy\n",
    "nlp = spacy.load('en')"
   ]
  },
  {
   "cell_type": "markdown",
   "metadata": {},
   "source": [
    "First, we prepare the paths to the serialized, trained models."
   ]
  },
  {
   "cell_type": "code",
   "execution_count": 2,
   "metadata": {},
   "outputs": [],
   "source": [
    "modeldir = os.path.join('output', 'models')\n",
    "IMDB_googlenews_netstatename = 'IMDB-googlenewsembeddings-fasttext-epoch3-fullstate.pth'\n",
    "IMDB_glove_netstatename = 'IMDB-fasttext-epoch4-fullstate.pth'\n",
    "\n",
    "trained_IMDB_googlenews_fasttext = os.path.join(modeldir, 'full_state', IMDB_googlenews_netstatename)\n",
    "trained_IMDB_wiki_fasttext = os.path.join(modeldir, 'full_state', IMDB_glove_netstatename)"
   ]
  },
  {
   "cell_type": "markdown",
   "metadata": {},
   "source": [
    "In this demo, we'll be using IMDB movie reviews to predict sentiment. The other data set we need is one that describes the relationships between words, also called word vectors or word embeddings.\n",
    "\n",
    "Sentiment data is easy enough to understand, it's any body of text and its associated label. Let's talk a bit about word embeddings.\n",
    "* * *"
   ]
  },
  {
   "cell_type": "markdown",
   "metadata": {},
   "source": [
    "Word embeddings essentially are a big table, with each row corresponding to a word in your vocabulary. So, the larger the number of embeddings you have, the bigger your vocabulary. If a word is not available in your vocabulary, when factoring it into the categorization we give it a null value like an <unk\\> token, to indicate that we don't know its relationship to other words.\n",
    "\n",
    "The columns of the word embeddings are the dimensions of the words. The words are 'embdedded' into latent features in the form of real numbers, so that their relationship to one another can be described in dimensional space. There are multiple ways to do this, such as by frequency of co-usage in a corpus of text. GloVe, which stands for Global Vectors for Word Representation, is one such way, created by the Stanford University NLP group. word2vec is another way, created by Google. In this demo, we'll try using each of them.\n",
    "* * *"
   ]
  },
  {
   "cell_type": "markdown",
   "metadata": {},
   "source": [
    "It's important to understand the dimensionality of the word embeddings we're using, as the model needs to be initialize to accept the correct dimensions. Also, you should use the same word embeddings for training and for categorization, or else the prediction won't make sense, since the words in the word embeddings would be different in type and sequence.\n",
    "\n",
    "In this demo, we'll use the word embeddings from GloVe that are available as a predefined option from torchtext. We'll use the version with 6 billion words and 100 dimensions, but only take the most frequently used 25,000 words (the GloVe word embeddings are sorted in order of frequency of use). This set of embeddings was generated from a corpus of WIkipeduia 2014 and Gigaword 5 text. For more information, see https://nlp.stanford.edu/projects/glove/\n",
    "\n",
    "When demonstrating how to use your own word embeddings, we'll load the Google News word embeddings that have a vocabulary of 3 million words and 300 dimensions. When using non-predefined word embeddings, it's difficult to adjust the dimensionality after loading them, so you should ensure that they're in the correct shape before you load them."
   ]
  },
  {
   "cell_type": "code",
   "execution_count": 3,
   "metadata": {},
   "outputs": [],
   "source": [
    "# Loading IMDB dataset\n",
    "\n",
    "\"\"\"\n",
    "We can more accurately represent the relationship between words by looking at them as phrases. \n",
    "For example, the bigram \"new york\" carries a lot more meaning than the two words \"new\" and \"york\".\n",
    "When applying the GloVe model, we'll look at words as bigrams. \n",
    "I'm not entirely sure yet how to do this for word embeddings provided via gensim, so we won't do that for now.\n",
    "\"\"\"\n",
    "def generate_bigrams(x):\n",
    "    n_grams = set(zip(*[x[i:] for i in range(2)]))\n",
    "    for n_gram in n_grams:\n",
    "        x.append(' '.join(n_gram))\n",
    "    return x\n",
    "\n",
    "TEXT = data.Field(tokenize='spacy', preprocessing=generate_bigrams)\n",
    "LABEL = data.LabelField(tensor_type=torch.FloatTensor)\n",
    "\n",
    "# This model was trained on a training set obtained with this seed, \n",
    "# so we'll reuse it to ensure that we have a distinct test set\n",
    "SEED = 1234\n",
    "torch.manual_seed(SEED)\n",
    "torch.cuda.manual_seed(SEED)\n",
    "\n",
    "# We'll split the dataset, including the labels, for model evaluation later on\n",
    "train, test = datasets.IMDB.splits(TEXT, LABEL)\n",
    "\n",
    "train, valid = train.split(random_state=random.seed(SEED))\n",
    "\n",
    "TEXT.build_vocab(train, max_size=25000, vectors=\"glove.6B.100d\")\n",
    "LABEL.build_vocab(train)\n",
    "\n",
    "# We use iterators for consuming the data during each phase. Let's initialize them now together with the data set\n",
    "BATCH_SIZE = 64\n",
    "\n",
    "train_iterator, valid_iterator, test_iterator = data.BucketIterator.splits(\n",
    "    (train, valid, test), \n",
    "    batch_size=BATCH_SIZE, \n",
    "    sort_key=lambda x: len(x.text), \n",
    "    repeat=False)"
   ]
  },
  {
   "cell_type": "markdown",
   "metadata": {},
   "source": [
    "Now, we have to decide which of the word embeddings we want to use. Only run one of the following two cells."
   ]
  },
  {
   "cell_type": "code",
   "execution_count": 4,
   "metadata": {},
   "outputs": [],
   "source": [
    "\"\"\"\n",
    "If we want to use the GloVe word embeddings, we can get them from the TEXT object we just built.\n",
    "\"\"\"\n",
    "weights = TEXT.vocab.vectors"
   ]
  },
  {
   "cell_type": "code",
   "execution_count": 14,
   "metadata": {},
   "outputs": [
    {
     "name": "stderr",
     "output_type": "stream",
     "text": [
      "C:\\Users\\friedemann.ang\\AppData\\Local\\Continuum\\anaconda3\\lib\\site-packages\\ipykernel_launcher.py:7: DeprecationWarning: Call to deprecated `syn0` (Attribute will be removed in 4.0.0, use self.wv.vectors instead).\n",
      "  import sys\n"
     ]
    }
   ],
   "source": [
    "\"\"\"\n",
    "If we want to use the word2vec word embeddings, we have to load them using gensim.\n",
    "\"\"\"\n",
    "\n",
    "import gensim\n",
    "googlenews_kv = gensim.models.KeyedVectors.load_word2vec_format(os.path.join('input', 'word2vec', 'GoogleNews-vectors-negative300.bin'), binary=True)\n",
    "weights = torch.FloatTensor(googlenews_kv.syn0)"
   ]
  },
  {
   "cell_type": "markdown",
   "metadata": {},
   "source": [
    "Gensim keyed vectors allow you to do many other interesting things, such as find similar words of various kinds, \n",
    "including the famous queen = woman + king - man example. For more information, see https://radimrehurek.com/gensim/models/keyedvectors.html\n",
    "***\n",
    "Now, we're finally ready to initialize the model. We just have to provide the serialized, trained model, and the corresponding set of word embeddings. Run only one of the following two cells."
   ]
  },
  {
   "cell_type": "code",
   "execution_count": 5,
   "metadata": {},
   "outputs": [
    {
     "name": "stdout",
     "output_type": "stream",
     "text": [
      "FastText(\n",
      "  (embedding): Embedding(25002, 100)\n",
      "  (fc): Linear(in_features=100, out_features=1, bias=True)\n",
      ")\n"
     ]
    }
   ],
   "source": [
    "model = sentiment.load_fasttext(trained_IMDB_wiki_fasttext, weights)"
   ]
  },
  {
   "cell_type": "code",
   "execution_count": 15,
   "metadata": {},
   "outputs": [
    {
     "name": "stdout",
     "output_type": "stream",
     "text": [
      "FastText(\n",
      "  (embedding): Embedding(3000000, 300)\n",
      "  (fc): Linear(in_features=300, out_features=1, bias=True)\n",
      ")\n"
     ]
    }
   ],
   "source": [
    "model = sentiment.load_fasttext(trained_IMDB_googlenews_fasttext, weights)"
   ]
  },
  {
   "cell_type": "markdown",
   "metadata": {},
   "source": [
    "load_fasttext() initializes a FastText model from a full state file, which contains information about the epoch that training stopped at(how many cycles of training we did), the state of the optimizer at that epoch(so that we can resume training for more epoch if we want), and the state dictionary of the model, which is essentially the parameters the model uses to categorize sentiment. In this scenario, we're only using the last of those three. \n",
    "\n",
    "load_fasttext() also copies the word embeddings we've loaded into the model.\n",
    "***"
   ]
  },
  {
   "cell_type": "markdown",
   "metadata": {},
   "source": [
    "At this point, we're almost ready to use the model! We just need to define a couple helper functions to predict sentiment using the model we've loaded."
   ]
  },
  {
   "cell_type": "markdown",
   "metadata": {},
   "source": [
    "torchtext .vocab objects have a stoi attribute that allows us to retrieve the index of a word in the vocabulary, i.e. convert the string to index. \n",
    "\n",
    "However, gensim's equivalent doesn't automatically assign a 0 when the index cannot be found, so we just have to make a simple function to do that."
   ]
  },
  {
   "cell_type": "code",
   "execution_count": 6,
   "metadata": {},
   "outputs": [],
   "source": [
    "def gensim_stoi(word):\n",
    "    try:\n",
    "        return googlenews_kv.vocab[word].index\n",
    "    except KeyError:\n",
    "        return 0"
   ]
  },
  {
   "cell_type": "code",
   "execution_count": 7,
   "metadata": {},
   "outputs": [],
   "source": [
    "def predict_sentiment (sentence, keyedvector=False):\n",
    "    device = torch.device('cuda' if torch.cuda.is_available() else 'cpu')\n",
    "    \n",
    "    tokenized = [tok.text for tok in nlp.tokenizer(sentence)]\n",
    "    indexed = []\n",
    "    if keyedvector:\n",
    "        indexed = [gensim_stoi(t) for t in tokenized]\n",
    "    else:\n",
    "        indexed = [TEXT.vocab.stoi[t] for t in tokenized]\n",
    "    print(indexed)\n",
    "    tensor = torch.LongTensor(indexed).to(device)\n",
    "    tensor = tensor.unsqueeze(1)\n",
    "    prediction = F.sigmoid(model(tensor))\n",
    "    return prediction.item()"
   ]
  },
  {
   "cell_type": "markdown",
   "metadata": {},
   "source": [
    "predict_sentiment() simply takes a sentence for which we need the sentiment category, converts it from a list of words to a list of word indices, and passes that list to the model. Now we're ready to use it to interprete sentences!"
   ]
  },
  {
   "cell_type": "code",
   "execution_count": 16,
   "metadata": {
    "scrolled": true
   },
   "outputs": [
    {
     "name": "stdout",
     "output_type": "stream",
     "text": [
      "[0, 0, 0, 28, 0, 23180]\n"
     ]
    },
    {
     "name": "stderr",
     "output_type": "stream",
     "text": [
      "C:\\Users\\friedemann.ang\\AppData\\Local\\Continuum\\anaconda3\\lib\\site-packages\\torch\\nn\\functional.py:1006: UserWarning: nn.functional.sigmoid is deprecated. Use torch.sigmoid instead.\n",
      "  warnings.warn(\"nn.functional.sigmoid is deprecated. Use torch.sigmoid instead.\")\n"
     ]
    },
    {
     "data": {
      "text/plain": [
       "6.239748131520173e-07"
      ]
     },
     "execution_count": 16,
     "metadata": {},
     "output_type": "execute_result"
    }
   ],
   "source": [
    "predict_sentiment('Twitter announces ban on cryptocurrency ads')"
   ]
  },
  {
   "cell_type": "markdown",
   "metadata": {},
   "source": [
    "But how accurate is our model actually? We can evaluate this by applying it to our training and test data sets."
   ]
  },
  {
   "cell_type": "code",
   "execution_count": 17,
   "metadata": {
    "scrolled": true
   },
   "outputs": [
    {
     "name": "stderr",
     "output_type": "stream",
     "text": [
      "C:\\Users\\friedemann.ang\\AppData\\Local\\Continuum\\anaconda3\\lib\\site-packages\\torch\\nn\\functional.py:1006: UserWarning: nn.functional.sigmoid is deprecated. Use torch.sigmoid instead.\n",
      "  warnings.warn(\"nn.functional.sigmoid is deprecated. Use torch.sigmoid instead.\")\n",
      "C:\\Users\\friedemann.ang\\AppData\\Local\\Continuum\\anaconda3\\lib\\site-packages\\torchtext\\data\\field.py:322: UserWarning: volatile was removed and now has no effect. Use `with torch.no_grad():` instead.\n",
      "  return Variable(arr, volatile=not train)\n"
     ]
    },
    {
     "name": "stdout",
     "output_type": "stream",
     "text": [
      "Train Loss: 0.350, Train Acc: 89.30%\n",
      "Test Loss: 0.399, Test Acc: 86.52%\n"
     ]
    }
   ],
   "source": [
    "criterion = nn.BCEWithLogitsLoss()\n",
    "\n",
    "train_loss, train_acc = sentiment.evaluate(model, train_iterator, criterion)\n",
    "test_loss, test_acc = sentiment.evaluate(model, test_iterator, criterion)\n",
    "\n",
    "print(f'Train Loss: {train_loss:.3f}, Train Acc: {train_acc*100:.2f}%')\n",
    "print(f'Test Loss: {test_loss:.3f}, Test Acc: {test_acc*100:.2f}%')"
   ]
  },
  {
   "cell_type": "markdown",
   "metadata": {},
   "source": [
    "Well, let's apply the model onto our own data and see how good the results are. IMDB data is movie review sentiment, and when used to predict other kinds of sentiment, such as news sentiment in our case, results are quite different because the type of language used and its relationship to the inherent sentiment is different."
   ]
  },
  {
   "cell_type": "code",
   "execution_count": 10,
   "metadata": {},
   "outputs": [],
   "source": [
    "# Load test set\n",
    "_99bitcoin_filepath = os.path.join('input', '99bitcoins', '99bitcoins_main.csv')\n",
    "_99bitcoin_df = pd.read_csv(_99bitcoin_filepath)"
   ]
  },
  {
   "cell_type": "code",
   "execution_count": 18,
   "metadata": {},
   "outputs": [
    {
     "name": "stdout",
     "output_type": "stream",
     "text": [
      "[5539, 0, 9214, 0, 0, 47, 0, 0, 10, 20984, 0]\n"
     ]
    },
    {
     "name": "stderr",
     "output_type": "stream",
     "text": [
      "C:\\Users\\friedemann.ang\\AppData\\Local\\Continuum\\anaconda3\\lib\\site-packages\\torch\\nn\\functional.py:1006: UserWarning: nn.functional.sigmoid is deprecated. Use torch.sigmoid instead.\n",
      "  warnings.warn(\"nn.functional.sigmoid is deprecated. Use torch.sigmoid instead.\")\n"
     ]
    },
    {
     "name": "stdout",
     "output_type": "stream",
     "text": [
      "[2873, 8468, 0, 15296, 3, 0, 52, 99, 0]\n",
      "[0, 0, 0, 3965, 0, 102, 0, 5925, 20984]\n",
      "[0, 0, 0, 2873, 8468, 15296]\n",
      "[0, 0, 0, 8, 1792, 6, 0, 0, 14279]\n",
      "[2657, 0, 0, 0, 1885, 1523, 0, 24517, 0, 0]\n",
      "[0, 0, 0, 28, 0, 23180]\n",
      "[0, 0, 0, 0]\n",
      "[2128, 0, 0, 944, 0, 0, 303, 0, 21, 17993]\n",
      "[0, 0, 42, 23180, 0, 0]\n",
      "[1673, 0, 0, 0, 0, 157, 144, 0]\n",
      "[1996, 2452, 7, 2, 1801, 0, 17411, 52, 99, 0]\n",
      "[0, 12396, 2873, 21259, 0, 47, 0, 12909, 5, 0, 0, 0, 5075, 19278, 4]\n",
      "[0, 944, 677, 0, 0, 1488, 0, 9, 6162, 5866, 10748]\n",
      "[2873, 21259, 15146, 8, 7569, 274, 0, 0]\n",
      "[0, 5925, 1016, 42, 72, 518, 54, 4713, 1523, 0]\n",
      "[0, 0, 0, 32, 0]\n",
      "[0, 5925, 4200, 1523, 0, 23, 2, 117, 72]\n",
      "[0, 0]\n",
      "[0, 0, 8, 0, 0, 0]\n",
      "[0, 0, 95, 0, 17931, 414, 709]\n",
      "[0, 5925, 4200, 1523, 0, 23, 2, 117, 72]\n",
      "[7586, 1576, 0, 10311, 608, 0, 5, 0, 0]\n",
      "[8467, 0, 3, 706, 7, 0, 4241, 4418, 0, 20, 0]\n",
      "[7586, 0, 13457, 47, 19046, 449, 199, 0]\n",
      "[0, 14, 0, 14, 102, 0, 27, 0, 30, 5, 0, 0, 27, 0, 30]\n",
      "[4473, 0, 0, 20, 0, 0]\n",
      "[0, 0, 580, 0, 0, 0]\n",
      "[0, 0, 0, 0]\n",
      "[0, 5925, 4200, 1523, 21214, 23, 2, 117, 72, 10, 749, 217]\n",
      "[6244, 0, 0, 20, 7881, 3, 0, 0]\n",
      "[0, 0]\n",
      "[7002, 0, 3507]\n",
      "[9920, 23157, 0, 8, 36, 0, 15, 0]\n",
      "[0, 0, 0]\n",
      "[0, 0]\n",
      "[0, 0, 0]\n",
      "[4040, 0, 0, 0, 27, 0, 25, 0, 30]\n",
      "[0, 5, 0, 0, 9920, 23157, 9, 7523, 0, 0]\n",
      "[0, 0, 0, 102, 0]\n",
      "[0, 0, 28, 0, 6758, 7, 25, 0]\n",
      "[0, 0, 675, 0, 28, 0, 0]\n",
      "[0, 0, 0]\n",
      "[0, 0, 20, 6, 0, 40, 2, 2128, 0]\n",
      "[0, 0, 0, 0]\n",
      "[3547, 0, 0]\n",
      "[472, 0, 0, 0, 0, 8, 0, 17954, 0]\n",
      "[834, 1413, 15518, 0, 2, 0]\n",
      "[15224, 0, 0, 8, 3577, 10, 0]\n",
      "[0, 0, 2128, 0, 0]\n",
      "[0, 0]\n",
      "[2716, 0, 0, 8, 472, 11485, 10, 0]\n",
      "[0, 0, 0]\n",
      "[25, 0, 7, 0]\n",
      "[0, 0, 0, 8, 0, 0]\n",
      "[0, 0, 0]\n",
      "[834, 1413, 0, 0, 0, 0, 0, 0]\n",
      "[2128, 0, 23804, 0, 0, 0, 0]\n",
      "[0, 0, 0, 0, 0, 2452]\n",
      "[3489, 0, 53, 0, 0, 0]\n",
      "[0, 0, 0, 750, 6996, 0, 370, 0]\n",
      "[0, 0, 0, 0, 9, 0, 15, 0]\n",
      "[0, 0, 0]\n",
      "[16436, 0, 0, 1051, 0, 0]\n",
      "[3489, 0, 0, 0, 0, 1615, 0, 0]\n",
      "[0, 0, 0, 41, 1523, 0, 28, 0, 0]\n",
      "[2526, 12136, 0, 7, 7586, 1248, 15, 0]\n",
      "[2128, 0, 0, 0, 1364, 0]\n",
      "[0, 0, 7001, 0]\n",
      "[0, 0, 10311, 27, 5287, 30]\n",
      "[0, 0, 0, 0, 0, 0]\n",
      "[0, 0, 0, 0, 0, 0]\n",
      "[0, 0, 17, 192]\n",
      "[0, 0, 0, 0, 10725, 0]\n",
      "[0, 3507]\n",
      "[0, 0, 0]\n",
      "[0, 0, 279, 16802, 0, 0]\n",
      "[0, 0, 3, 6945, 0, 0, 0]\n",
      "[0, 5, 0, 0, 0]\n",
      "[14, 25, 2282, 0, 14, 0, 14, 0, 23, 0, 14, 368, 0]\n",
      "[0, 0, 0]\n",
      "[0, 0, 0, 5896, 25, 0, 17954]\n",
      "[6059, 834, 0, 0, 18794, 5183, 0, 0]\n",
      "[0, 11164, 0, 1523, 0, 0]\n",
      "[0, 0, 19207, 0, 10725, 0]\n",
      "[0, 0, 0, 543, 0]\n",
      "[0, 0, 28, 0]\n",
      "[2781, 0, 4737, 1400, 0, 0, 0, 0, 0]\n",
      "[25, 1400, 0, 17, 8, 17, 0, 0, 0]\n",
      "[834, 0, 0, 0, 1400, 0, 0]\n",
      "[0, 0, 0]\n",
      "[25, 5539, 0, 0, 0, 0, 27, 0, 30, 52, 2821, 0, 8, 1284, 0, 17, 0, 0, 0, 3, 0, 3, 0, 3, 5, 0, 0, 17267, 6833, 28, 2, 1661, 7, 5602, 5925, 0, 4]\n",
      "[2873, 8468, 0, 15296, 0, 4402, 159, 1523, 3062, 17171, 10, 0, 2232, 6, 16918, 4]\n",
      "[25, 14647, 0, 52, 7232, 6, 3965, 0, 102, 1475, 0, 32, 0, 2, 5925, 7, 0, 5, 109, 10360, 0, 4, 25, 10510, 9, 5990, 28, 12864, 0, 13, 73, 5958, 0, 235, 193, 20, 0, 3, 50, 0, 2, 5602, 21, 2244, 9991, 8, 8376, 109, 0, 102, 6162, 50, 9632, 4]\n",
      "[0, 0, 0, 3, 2, 0, 0, 15296, 10, 2873, 21259, 28, 0, 7, 0, 4]\n",
      "[538, 7, 2, 0, 0, 5075, 23208, 3, 0, 9, 51, 8, 1656, 1341, 127, 288, 449, 8, 9391, 21, 0, 10, 6, 6274, 7, 0, 20434, 8, 2, 5925, 7, 0, 4]\n",
      "[538, 7, 6544, 12136, 2268, 0, 0, 0, 52, 768, 51, 0, 0, 465, 60, 0, 3185, 0, 27, 1523, 749, 3185, 30, 3, 0, 1236, 8, 6, 0, 22044, 4, 0, 0, 8, 0, 21398, 47, 1709, 0, 4]\n",
      "[0, 23208, 12, 65, 0, 12187, 23, 0, 3, 2232, 0, 5, 0, 15, 0, 13, 0, 8, 6734, 0, 47, 0, 4]\n",
      "[0, 457, 12, 9, 0, 12654, 0, 0, 0, 5, 5014, 0, 0, 47, 11963, 4, 0, 12136, 0, 19984, 605, 21, 2, 1347, 7, 127, 0, 14, 108, 23180, 14, 15110, 3, 6, 1371, 7, 2, 1032, 7, 0, 3, 0, 5, 7155, 23180, 0, 0, 47, 127, 5866, 3635, 3, 5768, 5, 647, 9251, 4]\n",
      "[2128, 0, 5, 0, 0, 0, 13, 148, 12654, 0, 0, 23, 10360, 0, 184, 0, 21, 2, 17993, 20, 0, 4, 0, 6010, 0, 13459, 13, 0, 0, 307, 16964, 0, 4]\n",
      "[0, 52, 11060, 107, 2017, 47, 12187, 0, 5, 109, 0, 4, 0, 457, 12, 82, 376, 6, 1147, 1032, 7, 107, 1341, 2, 4837, 8, 0, 13754, 5, 4290, 2918, 4, 55, 457, 12, 65, 293, 0, 23180, 13, 32, 5468, 8, 0, 3, 5014, 0, 0, 3, 50, 0, 0, 4, 0, 7561, 13, 42, 7, 213, 275, 73, 36, 541, 0, 13144, 26, 13, 6, 0, 1972, 2317, 7, 23180, 12437, 123, 83, 238, 54, 0, 4]\n",
      "[538, 7, 4473, 12136, 0, 0, 15296, 3, 0, 52, 0, 42, 0, 23193, 0, 7, 6, 1972, 17, 5607, 16918, 4, 0, 465, 1523, 0, 3185, 19, 0, 47, 127, 0, 28, 5944, 0, 0, 637, 21, 6, 1174, 0, 7, 0, 3185, 0, 4]\n",
      "[7261, 7, 2, 1801, 0, 3, 28, 0, 6939, 3, 0, 3, 0, 0, 34, 99, 0, 5, 71, 12136, 77, 1742, 0, 480, 23, 0, 8, 0, 4]\n",
      "[0, 11901, 0, 47, 2873, 8468, 0, 47, 127, 0, 7, 0, 12909, 320, 128, 4988, 3, 13307, 10, 6, 0, 6210, 10, 42, 0, 4, 24443, 3, 21259, 12136, 10225, 17220, 28, 0, 2188, 0, 43, 10510, 102, 0, 17, 5468, 0, 5736, 40, 1288, 0, 0, 6657, 13, 2118, 2762, 0, 32, 433, 160, 3434, 28, 0, 2, 0, 4]\n",
      "[1488, 0, 15, 0, 0, 52, 2453, 7359, 7, 6070, 10, 0, 3, 25, 0, 4196, 0, 24209, 3, 0, 20031, 2018, 21, 2, 1650, 4, 4086, 0, 32, 465, 7486, 7, 7359, 7, 6070, 3, 2, 9736, 944, 4, 55, 19, 29, 1417, 1475, 0, 82, 7241, 128, 7, 127, 0, 3, 2, 15110, 944, 4]\n",
      "[0, 5925, 0, 157, 2873, 21259, 23208, 62, 0, 8, 0, 0, 0, 3, 969, 6, 1965, 0, 7, 0, 3, 0, 0, 2020, 10, 2, 305, 12136, 1713, 17, 0, 0, 5602, 4, 0, 0, 0, 52, 99, 0, 0, 10, 21259, 3, 0, 2, 2762, 457, 10, 6, 6010, 4, 0, 530, 73, 33, 1066, 2, 0, 1650, 7, 0, 128, 2313, 4, 0]\n",
      "[0, 4425, 6, 331, 4254, 518, 3, 26, 7497, 555, 7, 1523, 0]\n",
      "[0, 28, 2, 305, 12136, 116, 1958, 0, 0, 20, 98, 20, 0, 0, 47, 2, 1092, 5925, 10, 86, 4244, 22256, 28, 0, 0, 0, 0, 12136, 15296, 3, 0, 142, 0, 0, 0, 6302, 8, 14199, 2, 5602, 4]\n",
      "[0, 52, 826, 0, 2, 1497, 4189, 0, 7, 42, 3, 6123, 1523, 0, 4]\n",
      "[0, 19, 0, 8, 0, 270, 0, 8967, 2232, 6, 0, 721, 0, 3, 76, 65, 34, 7852, 2, 10360, 0, 10, 142, 4, 562, 3, 62, 5, 62, 1250, 0, 0, 8149, 86, 2983, 23, 2, 0, 10, 2, 362, 231, 4338, 4, 0, 869, 0, 23208, 45, 32, 6512, 166, 5349, 23, 2, 0, 584, 71, 9, 62, 0, 10, 2, 0, 3905, 4]\n",
      "[0, 0, 23208, 13, 12, 5349, 8, 12421, 0, 10, 0, 0, 40, 2, 178, 7, 2, 495, 3, 77, 6, 8002, 157, 0, 193, 6, 3149, 4, 16762, 0, 0, 0, 0, 0, 0, 0, 14214, 20, 6, 2651, 429, 23, 2, 1206, 7, 532, 4, 370, 6, 1741, 3, 2, 0, 5925, 1016, 6, 518, 7, 1523, 0, 54, 1093, 157, 5591, 199, 2, 1523, 0, 0, 3, 5, 6, 1583, 157, 1285, 796, 2, 1523, 0, 3833, 3, 5985, 8, 0, 47, 0, 4, 1667, 5602, 0, 3, 50, 2, 1801, 2240, 7, 0, 10, 0, 3, 1016, 1523, 0, 0, 4]\n",
      "[13633, 8, 2, 0, 17931, 12277, 3, 8699, 8, 595, 16687, 105, 1281, 6213, 6215, 0, 4, 3805, 0, 17931, 19, 0, 3, 127, 5925, 52, 0, 159, 0, 0, 1409, 2, 117, 620, 7, 1093, 4, 25, 5199, 17, 166, 19, 1236, 8, 0, 0, 2, 0, 3, 877, 0, 6, 966, 7, 4422, 10, 2, 11726, 17, 1944, 0, 4]\n",
      "[25, 5925, 7, 0, 52, 0, 199, 1523, 0, 8, 43, 42, 17, 72, 518, 4, 25, 0, 22852, 40, 62, 93, 2188, 2452, 8, 1523, 0, 433, 1111, 2, 495, 41, 1523, 0, 4]\n",
      "[3489, 17220, 34, 14798, 0, 17, 783, 0, 0, 8, 0, 0, 5, 2619, 0, 16687, 7, 86, 23262, 3, 0, 6, 0, 0, 40, 17220, 28, 2, 3500, 8, 7742, 10225, 0, 4, 0, 83, 121, 955, 8, 1011, 8227, 331, 10020, 0, 3, 5985, 8, 6, 2762, 3148, 12918, 40, 2, 0, 1546, 1005, 10, 6655, 7, 0, 9600, 0, 0, 13, 83, 0, 12654, 5, 0, 40, 6, 2762, 5609, 8, 0, 4]\n",
      "[0, 11308, 279, 0, 16762, 0, 0, 8467, 0, 457, 37, 65, 2162, 128, 22044, 0, 0, 23, 144, 0, 635, 4, 0, 25, 0, 0, 788, 0, 178, 106, 3, 0, 37, 955, 43, 0, 0, 10, 834, 1413, 3, 0, 12, 105, 1922, 6468, 66, 4, 0, 55, 12136, 6, 0, 0, 5, 0, 753, 93, 0, 0, 4, 0]\n",
      "[0, 1111, 8, 0, 7586, 15, 5014, 0, 0, 20, 23208, 40, 6, 1288, 0, 4, 0, 24209, 13, 6, 3148, 3, 0, 40, 6, 1398, 0, 13, 0, 6678, 10, 2, 1314, 15, 9600, 0, 0, 3, 457, 331, 9622, 19046, 5379, 50, 109, 20587, 0, 199, 0, 32, 11060, 4, 55, 2501, 13, 17220, 32, 15580, 274, 28, 5468, 0, 0, 4, 25, 20864, 12826, 5014, 0, 0, 27, 0, 30, 20, 43, 0, 0, 19120, 13, 307, 10511, 10225, 0, 3, 2, 0, 15110, 7561, 4, 25, 0, 5736, 6, 2050, 7, 4582, 1250, 0, 0, 23, 1288, 10225, 0, 5298, 8, 0, 4]\n",
      "[714, 217, 7, 0, 51, 125, 0, 184, 5607, 2, 22645, 1156, 102, 304, 4, 25, 0, 10208, 7852, 10, 142, 392, 16194, 4, 538, 813, 1268, 2, 0, 7, 0, 0, 199, 0, 3, 241, 2, 109, 813, 0, 4327, 0, 7, 66, 8, 0, 4, 25, 4327, 12809, 1005, 721, 86, 0, 0, 0, 5, 5769, 0, 2, 0, 7, 413, 44, 17747, 0, 240, 0, 7517, 4, 543, 748, 3, 80, 31, 34, 456, 0, 240, 0, 7517, 3, 31, 65, 293, 34, 456, 0, 5, 456, 0, 0, 4]\n"
     ]
    },
    {
     "name": "stdout",
     "output_type": "stream",
     "text": [
      "[4473, 0, 0, 20, 6, 15332, 13526, 7, 0, 4, 25, 1314, 15, 0, 4634, 0, 6, 3047, 3, 2232, 4338, 7, 15275, 3, 13, 1518, 0, 0, 791, 2696, 17, 449, 0, 202, 158, 17, 174, 17, 0, 5791, 3, 241, 121, 0, 0, 20, 6, 360, 7, 0, 0, 0, 4]\n",
      "[25, 5539, 0, 5, 0, 0, 28, 0, 0, 23, 2, 580, 72, 10, 6, 0, 8002, 6, 0, 8, 1281, 8, 5602, 6, 117, 17, 7, 17, 127, 17, 360, 4756, 14867, 0, 3, 2, 10360, 0, 4, 25, 0, 23208, 10, 6, 0, 127, 4831, 0, 0, 0, 0, 15, 0, 0, 15296, 2, 2273, 8, 2050, 5, 9391, 2, 0, 0, 16802, 3, 43, 15296, 17, 0, 4756, 27, 0, 30, 13, 65, 9391, 46, 6, 4599, 5, 2794, 2, 10360, 0, 15, 5925, 4]\n",
      "[2, 2128, 2762, 0, 2, 0, 7, 16450, 5, 9420, 0, 0, 2, 3307, 44, 520, 10356, 8, 36, 2121, 17, 0, 7, 0, 0, 8, 24156, 43, 15296, 17, 0, 0, 27, 0, 30, 8, 120, 12, 7747, 23, 0, 8, 1589, 0, 4]\n",
      "[714, 0, 23, 116, 7, 2, 580, 492, 7, 0, 0, 0, 2, 1523, 21214, 3833, 23, 2, 117, 72, 10, 749, 217, 4, 0, 3930, 0, 1738, 10, 43, 0, 7, 331, 16687, 13, 3521, 105, 7041, 2, 5925, 85, 4748, 4]\n",
      "[192, 6, 3448, 774, 7, 1262, 6244, 0, 0, 0, 0, 5, 650, 2, 0, 10675, 7, 2, 6107, 6022, 4, 25, 2128, 5602, 12396, 40, 159, 803, 2452, 5, 2, 5756, 0, 0, 52, 0, 4254, 0, 3, 5, 9, 293, 274, 456, 2452, 892, 41, 0, 0, 8, 2, 7991, 4, 4473, 15, 0, 0, 0, 0, 0, 2452, 241, 6286, 4771, 15, 0, 0, 0, 768, 0, 2452, 4, 25, 13896, 0, 0, 768, 0, 2452, 596, 0, 0, 83, 274, 0, 2452, 3, 0, 0, 0, 83, 0, 2452, 5640, 5, 0, 0, 768, 0, 2452, 41, 270, 0, 0, 0, 0, 0, 7232, 0, 5640, 240, 0, 127, 0, 4, 0, 5252, 12136, 0, 0, 0, 19, 166, 270, 803, 2452, 157, 1092, 274, 1420, 749, 2452, 4, 5251, 15, 0, 3062, 19, 10, 2136, 9271, 40, 0, 2452, 157, 43, 1716, 22655, 7, 0, 2452, 5, 7798, 15, 0, 2573, 8149, 0, 8701, 102, 0, 0, 3, 193, 20, 5010, 3, 76, 9, 66, 0, 1523, 0, 43, 0, 3, 50, 0, 2452, 3, 8, 1523, 0, 52, 138, 6, 6129, 0, 10, 2240, 531, 16, 622, 234, 66, 1158, 2452, 10, 54, 9079, 1093, 3, 652, 516, 857, 2, 423, 2, 5925, 0, 28, 6, 1801, 0, 7, 0, 2452, 4]\n",
      "[0, 3, 2, 0, 0, 15296, 40, 18668, 3, 23208, 13, 0, 0, 7, 0, 0, 82, 99, 6573, 6637, 6, 6320, 0, 3, 6, 2240, 24221, 12602, 8, 1523, 0, 3185, 0, 4, 0, 0, 19, 5420, 2, 0, 0, 10, 8498, 17, 0, 0, 10, 0, 21, 127, 6320, 4231, 0, 4, 0, 55, 9, 0, 13, 2, 0, 0, 12781, 8, 2, 5133, 20969, 23, 1420, 42, 0, 0, 19278, 3, 20, 106, 20, 12781, 8, 2, 0, 0, 23, 2, 0, 6061, 4, 55, 2767, 0, 80, 2, 0, 0, 83, 0, 40, 0, 5, 80, 21398, 105, 36, 2649, 0, 4, 25, 5925, 7, 0, 0, 1420, 1742, 2452, 8, 1523, 0, 0, 13, 423, 240, 736, 6, 0, 0, 4, 14655, 10, 2, 0, 3905, 15396, 13, 6570, 4052, 7, 2, 22966, 16918, 19, 541, 40, 4372, 0, 23, 0, 0, 20, 2, 5925, 82, 21355, 8, 6210, 0, 240, 0, 15, 0, 4]\n",
      "[25, 12809, 20005, 19, 0, 23, 2, 580, 72, 10, 0, 15, 839, 3, 13307, 10, 6, 331, 20005, 7, 0, 0, 7767, 0, 12809, 4, 0, 25, 24611, 2795, 2452, 6210, 9457, 0, 15, 280, 3242, 8, 9960, 0, 2, 1032, 7, 11726, 1944, 0, 584, 2, 12809, 20005, 1184, 526, 3, 76, 9, 0, 8, 10961, 10, 2, 495, 0, 12809, 20005, 0, 8691, 273, 0, 0, 5, 2, 667, 14, 0, 3507, 14, 9, 1602, 8, 10961, 10, 21257, 0, 4]\n",
      "[24480, 6, 1356, 8002, 9200, 47, 2, 2021, 1594, 3, 9920, 23157, 0, 23208, 37, 19, 0, 0, 40, 1531, 7, 6, 0, 2679, 4, 0, 25, 0, 2679, 5859, 6, 12394, 0, 7, 6, 5133, 2651, 0, 3, 76, 756, 8, 36, 43, 990, 8, 0, 23157, 19, 10, 22831, 7, 0, 15, 5133, 0, 20969, 4, 0, 68, 0, 19, 516, 0, 40, 2, 0, 3905, 4, 23157, 15, 4622, 19, 17609, 66, 40, 0, 0, 0, 0, 10, 35, 288, 0, 2679, 1716, 2, 243, 423, 4, 0, 0, 8015, 13, 37, 3732, 21, 23157, 10, 17, 636, 10, 2337, 3, 5, 0, 12713, 23157, 4255, 43, 0, 1396, 1341, 38, 7, 0, 15, 5133, 0, 20969, 4, 0, 516, 8015, 13, 37, 307, 34, 99, 0, 40, 23157, 4]\n",
      "[25, 1958, 0, 24175, 0, 3669, 19754, 0, 20, 0, 23, 647, 3696, 5, 109, 12654, 3930, 4, 0, 0, 3, 2, 2384, 13, 18564, 0, 3, 0, 0, 20, 2, 0, 0, 8, 0, 0, 0, 5, 534, 6230, 6519, 21398, 163, 2198, 7890, 0, 83, 29, 20, 0, 4]\n",
      "[25, 5014, 594, 469, 7, 2, 117, 0, 0, 0, 3, 0, 3, 19, 1138, 8, 2, 1844, 2021, 4, 0, 25, 8417, 7, 2, 2543, 19, 8, 0, 0, 17, 8, 17, 0, 9391, 320, 6, 0, 3, 0, 3, 50, 0, 28, 9391, 4, 0, 25, 0, 4306, 16687, 8, 1780, 20587, 16023, 163, 0, 73, 10809, 20914, 1341, 0, 4, 25, 0, 2543, 65, 516, 0, 12, 4232, 1523, 803, 3185, 10, 22703, 47, 14085, 12813, 0, 13903, 0, 0, 3, 0, 17, 0, 3, 5, 11054, 0, 1841, 0, 4]\n",
      "[0, 2033, 7, 2, 0, 3905, 3732, 10, 6286, 4771, 8, 11074, 6, 1878, 3149, 5, 0, 23, 0, 0, 4, 0, 25, 12591, 17, 2818, 4782, 4112, 159, 2080, 0, 3, 6680, 0, 3, 5, 0, 0, 0, 5, 19, 1695, 8, 17990, 0, 8, 2, 12809, 8705, 15275, 4, 25, 4782, 0, 21, 6, 2021, 6010, 0, 2, 1005, 15, 2983, 23, 2, 331, 0, 0, 0, 3, 5, 350, 6, 399, 0, 10, 2, 0, 0, 2849, 13, 65, 0, 2, 12809, 8705, 16964, 284, 472, 0, 5, 1254, 0, 40, 21257, 0, 10, 2, 0, 3905, 0, 2, 4782, 20, 144, 0, 20, 2, 14027, 958, 11109, 6, 639, 8897, 7, 0, 13457, 5, 487, 1019, 11217, 4]\n",
      "[192, 6, 2021, 0, 2679, 3, 4040, 0, 0, 13, 0, 82, 2483, 5, 13, 37, 105, 14, 88, 2313, 36, 1181, 254, 10, 0, 1878, 14, 4, 0, 0, 19, 43, 2529, 17, 0, 0, 44, 82, 99, 6259, 958, 10, 2, 0, 3905, 5, 5468, 9622, 384, 2, 677, 908, 7, 2, 0, 4, 0, 751, 116, 1958, 2543, 19, 0, 3, 6, 0, 0, 7, 2, 0, 0, 4, 0, 15, 2679, 19808, 0, 15, 20262, 5039, 28, 6, 1032, 7, 1893, 95, 0, 10, 2, 0, 3905, 3, 2, 0, 7, 0, 8, 6, 8897, 7, 3489, 0, 3, 5, 2, 0, 7, 0, 0, 0, 8, 0, 2, 16964, 28, 0, 15, 12809, 8705, 4, 0, 0, 9079, 1093, 7, 2, 2679, 144, 18183, 3, 0, 15, 5925, 8149, 159, 1523, 2795, 0, 10, 2, 0, 3905, 8864, 0, 7, 0, 18386, 0, 10, 1183, 8, 13775, 35, 331, 0, 3, 0, 0, 3, 6, 0, 5990, 28, 1341, 0, 4888, 8, 10943, 2, 0, 7, 2, 13057, 0, 3500, 4]\n",
      "[0, 0, 5, 987, 3, 0, 0, 3, 18183, 43, 23899, 10, 0, 9350, 15898, 13, 43, 5330, 194, 1370, 1997, 9920, 14408, 23157, 19, 587, 0, 0, 50, 6, 14, 948, 0, 14, 4, 0, 0, 0, 6, 1032, 7, 23157, 15, 15582, 0, 0, 3, 0, 0, 3, 5, 0, 13, 756, 8, 3071, 23157, 9, 0, 15, 14713, 4, 0, 192, 38, 0, 0, 23157, 463, 5816, 14, 11, 92, 89, 170, 8, 569, 5, 5597, 2, 278, 13, 11, 0, 99, 1127, 0, 384, 0, 14, 4, 2414, 20864, 10071, 13, 23157, 82, 12781, 8, 6, 0, 4578, 465, 0, 3185, 0, 4, 562, 3, 1421, 7, 2, 0, 0, 0, 10356, 8, 18573, 83, 18183, 4, 23157, 92, 33, 3557, 0, 21, 128, 0, 13, 37, 19, 1868, 0, 0, 4, 0, 0, 1093, 7, 2, 23899, 144, 18183, 3, 23157, 15, 22051, 12654, 2689, 19, 1203, 11901, 47, 2, 11135, 4]\n",
      "[25, 0, 0, 8648, 2, 0, 0, 18222, 27, 0, 1568, 21, 472, 0, 18854, 234, 199, 12, 3, 26, 77, 15430, 41, 2, 581, 5, 3494, 30, 8, 36, 10, 6, 1305, 469, 7, 2, 0, 2481, 4, 0, 25, 0, 105, 36, 577, 2, 0, 14, 0, 0, 0, 14, 5, 1922, 105, 0, 21, 2481, 3150, 0, 4]\n",
      "[25, 0, 3, 6, 0, 1958, 1223, 0, 5990, 28, 19859, 0, 3, 115, 12, 15, 23899, 14, 25, 16802, 15833, 14, 2, 5859, 2191, 78, 7, 12, 15, 0, 5570, 15588, 4, 0, 25, 23899, 5990, 2950, 28, 2, 0, 7, 0, 4888, 3, 0, 2, 511, 13, 0, 5, 2762, 0, 307, 0, 86, 288, 0, 8, 1780, 14, 1272, 3, 0, 17, 8590, 2021, 0, 14, 4]\n",
      "[25, 3784, 21830, 7, 14647, 0, 13, 2, 15296, 7, 0, 5, 14, 20587, 0, 14, 9, 33, 1661, 8, 2240, 17, 2501, 17, 20041, 27, 0, 30, 10, 2, 3784, 13903, 4, 0, 25, 0, 2830, 8, 0, 0, 5, 5468, 0, 17, 0, 20, 0, 3, 613, 7, 20914, 50, 13547, 4, 68, 0, 9, 10, 5446, 8, 2, 6107, 6022, 53, 0, 7, 0, 20, 325, 6, 0, 27, 5985, 8, 0, 30, 5, 0, 27, 5985, 8, 0, 202, 0, 30, 4]\n",
      "[9420, 5, 16450, 0, 1138, 86, 288, 2128, 783, 0, 15296, 5037, 14, 0, 14, 4, 0, 15522, 0, 3, 2, 15296, 19, 0, 8, 24156, 10, 0, 8367, 5, 19, 832, 8, 14, 6680, 325, 4749, 5, 0, 21398, 14, 1236, 8, 127, 0, 10917, 5353, 4, 0, 0, 19, 121, 832, 8, 3160, 0, 18954, 28, 0, 0, 3681, 8, 6, 0, 21, 6, 834, 1413, 783, 5075, 4, 25, 15296, 0, 8, 36, 2649, 0, 21, 2128, 3047, 21, 6, 19984, 8, 117, 14, 1743, 23, 0, 3, 33, 0, 14, 4]\n",
      "[25, 0, 0, 0, 0, 27, 0, 30, 3, 0, 23208, 12, 82, 0, 0, 5, 19062, 21377, 0, 686, 6, 0, 15296, 23, 0, 2, 0, 7, 15083, 0, 28, 127, 24175, 4, 306, 2616, 95, 0, 14, 192, 16, 1183, 3, 2, 0, 23, 2, 117, 72, 1168, 13, 0, 5, 109, 20587, 0, 32, 7114, 12826, 20, 0, 3, 14, 4]\n",
      "[0, 0, 0, 4040, 0, 5, 0, 0, 1138, 6, 7045, 469, 7, 2, 0, 0, 0, 3, 721, 0, 0, 4, 0, 25, 1347, 0, 43, 0, 22645, 10, 2, 0, 1878, 3905, 95, 67, 16964, 184, 36, 6318, 28, 2, 8705, 7, 0, 15, 0, 59, 0, 0, 0, 0, 0, 19190, 3, 76, 0, 14, 0, 2, 0, 38, 0, 21531, 12809, 8705, 21, 6, 21531, 8705, 13, 9231, 159, 72, 41, 6, 1393, 0, 1347, 7, 0, 0, 0, 9709, 13, 2, 0, 3905, 307, 33, 36, 832, 8, 4519, 6, 0, 28, 2, 4398, 3, 5, 2, 0, 307, 399, 0, 3, 13307, 10, 142, 7045, 4644, 7, 0, 15, 13057, 0, 4]\n"
     ]
    },
    {
     "name": "stdout",
     "output_type": "stream",
     "text": [
      "[3547, 0, 3, 2, 0, 7, 2, 2483, 0, 15296, 0, 0, 3, 19, 9568, 10, 4473, 28, 21377, 7, 0, 5, 0, 10, 10977, 8, 0, 7, 2, 15296, 4, 0, 0, 3612, 0, 7, 0, 0, 9391, 18668, 5, 2, 1709, 545, 7, 0, 0, 3, 7, 76, 307, 34, 3298, 8, 2, 15296, 15, 0, 4, 0, 0, 0, 9, 283, 8, 34, 2378, 768, 0, 0, 7, 0, 0, 4]\n",
      "[0, 0, 13674, 11470, 12546, 20703, 27, 0, 30, 5, 0, 19205, 27, 9674, 23804, 30, 0, 5862, 8, 8931, 0, 23, 86, 1709, 7829, 531, 86, 13672, 10510, 7, 2, 0, 17954, 0, 4, 12546, 19, 16870, 21, 14, 0, 0, 3, 20, 106, 20, 20602, 0, 3, 0, 7, 2762, 13547, 3, 449, 0, 3, 5, 4155, 7, 1019, 14, 10, 35, 316, 10, 0, 166, 1523, 0, 465, 7, 0, 47, 2, 0, 17954, 102, 35, 288, 1709, 19278, 4, 0, 19205, 9, 16870, 21, 449, 0, 5, 0, 7, 3127, 23, 8931, 1523, 0, 465, 7, 0, 10, 6, 1331, 2787, 4, 12546, 11985, 8, 1933, 1523, 0, 10, 0, 5, 19, 516, 0, 8, 2563, 217, 10, 2334, 10, 0, 0, 4, 0, 19205, 9, 23224, 0, 10, 0, 0, 4]\n",
      "[0, 7, 834, 1413, 15518, 0, 7, 0, 0, 3, 0, 0, 3, 1138, 6, 431, 7, 0, 5791, 1695, 8, 0, 0, 5, 10360, 0, 0, 13, 6128, 21398, 16581, 10, 834, 1413, 2616, 4, 0, 1691, 0, 32, 2, 117, 169, 5552, 0, 41, 10360, 0, 0, 4, 13633, 8, 2, 0, 3, 10360, 0, 13457, 13, 6128, 18778, 21398, 303, 20277, 23, 6, 14, 0, 14, 1409, 11025, 908, 50, 36, 2201, 10, 14, 0, 7, 2, 3047, 14, 4, 0, 176, 0, 0, 5674, 1523, 0, 5, 2, 0, 3093, 6, 1032, 1799, 0, 3, 193, 20, 0, 0, 23, 2, 6340, 3, 0, 658, 0, 7, 42, 331, 1799, 13214, 3, 5, 0, 14, 0, 5, 0, 7, 2, 2384, 73, 77, 36, 23369, 10, 2128, 0, 9047, 3, 834, 1413, 783, 21398, 83, 11060, 5, 0, 40, 6, 1032, 7, 0, 13457, 3, 969, 0, 3, 0, 3, 0, 3, 5, 0, 4]\n",
      "[714, 6, 8002, 17, 296, 22754, 8026, 13, 2031, 10, 0, 15, 15273, 3, 15498, 0, 0, 0, 0, 8, 156, 10, 2334, 320, 0, 4, 0, 0, 82, 99, 376, 5862, 28, 2295, 21377, 7, 449, 0, 3, 2471, 0, 3, 5, 11342, 8, 24319, 0, 10, 0, 1236, 8, 35, 316, 20, 0, 2, 0, 7, 2, 0, 17954, 0, 27, 0, 14, 0, 0, 7001, 14, 30, 4, 0, 192, 6, 9136, 8, 15498, 0, 0, 6570, 8, 35, 0, 3, 0, 23857, 8, 1127, 2, 0, 17954, 5, 115, 6, 0, 23, 0, 4, 0, 25, 4691, 15, 0, 6010, 22731, 13, 2, 0, 7, 2, 11906, 19, 8, 120, 43, 748, 7, 0, 95, 2033, 7, 2, 2021, 2553, 2232, 10, 35, 0, 184, 158, 14, 13, 80, 31, 1964, 2, 3047, 16, 124, 3, 71, 105, 36, 64, 1099, 0, 0, 65, 516, 2381, 2, 0, 28, 11963, 1158, 3, 0, 4]\n",
      "[25, 0, 17609, 0, 0, 0, 3, 6, 1958, 0, 0, 5, 0, 0, 3, 23208, 2, 1347, 7, 127, 288, 0, 0, 24175, 4, 0, 25, 2384, 0, 8015, 45, 82, 1730, 23, 4338, 8, 15352, 1874, 0, 47, 2616, 10225, 0, 3, 8227, 123, 8, 0, 4044, 21398, 47, 6150, 392, 2128, 8367, 4, 25, 331, 24175, 105, 24156, 46, 6, 4370, 15296, 95, 21398, 73, 0, 0, 3, 420, 3492, 5, 0, 28, 43, 1183, 432, 3, 5, 105, 36, 16870, 6, 639, 0, 0, 28, 4204, 0, 4, 25, 15296, 24175, 9, 8, 5690, 7045, 47, 86, 0, 0, 14279, 3, 76, 10, 5446, 3, 4306, 21398, 8, 1589, 5, 5199, 0, 5552, 47, 0, 4]\n",
      "[0, 0, 83, 832, 8, 4316, 0, 0, 47, 0, 15, 0, 1882, 0, 3, 465, 24221, 1523, 0, 3185, 6070, 4, 0, 25, 0, 541, 1894, 0, 686, 0, 3150, 0, 0, 0, 8, 7829, 12781, 8, 472, 7, 0, 15, 0, 5, 24255, 2, 1882, 0, 15, 5133, 20969, 4, 0, 25, 0, 19, 526, 0, 7, 42, 0, 11410, 0, 4, 15522, 12829, 7, 2, 0, 3, 0, 2619, 0, 2, 15296, 15, 0, 23, 2188, 908, 20, 12, 0, 127, 0, 5, 0, 127, 0, 24175, 4, 25, 0, 11109, 14, 6, 639, 0, 7, 0, 15, 1801, 0, 0, 14, 20, 2, 4430, 7, 2, 2384, 15, 0, 0, 14295, 0, 10, 0, 14, 2433, 14, 0, 4, 0, 675, 0, 6061, 0, 83, 9101, 4, 0, 562, 3, 5985, 8, 6, 0, 20412, 0, 15110, 28, 2, 9863, 3, 2, 11197, 8, 2, 2384, 15, 5826, 5, 0, 12215, 348, 0, 127, 0, 0, 4365, 4]\n",
      "[0, 0, 15, 14, 1400, 0, 14, 3, 2716, 0, 3, 2, 0, 7, 0, 15296, 0, 3, 19, 0, 8, 472, 217, 10, 2334, 23, 35, 316, 10, 0, 449, 23, 16687, 7, 2, 0, 17954, 3, 43, 12654, 0, 13, 0, 8, 0, 20914, 5, 0, 4, 0, 82, 18899, 6, 0, 13932, 76, 958, 0, 1523, 0, 8, 2, 2128, 2762, 0, 5, 0, 5862, 8, 0, 5, 0, 2, 14279, 7, 43, 0, 449, 0, 1799, 4]\n",
      "[0, 4434, 12, 105, 4044, 0, 47, 2128, 21398, 23, 14, 0, 3, 3696, 5, 109, 10360, 3254, 14, 6003, 28, 2, 0, 5, 0, 12654, 16023, 4, 25, 0, 19, 115, 6637, 6, 2679, 28, 2, 14324, 3109, 15, 0, 5, 8015, 13, 0, 82, 0, 21, 0, 23, 0, 0, 0, 4]\n",
      "[1836, 4372, 0, 2855, 1420, 0, 0, 23, 21625, 28, 2, 0, 15296, 41, 6, 16964, 5925, 7, 1523, 20165, 7767, 0, 3, 465, 24221, 1523, 2694, 3185, 0, 4, 25, 1183, 19, 5037, 2, 14, 0, 14, 40, 2, 0, 3905, 1236, 8, 127, 0, 8705, 4, 6945, 2, 667, 9079, 1093, 3, 2, 691, 0, 1183, 9, 0, 28, 2, 15296, 6637, 1589, 9991, 4]\n",
      "[0, 3, 6, 0, 7, 0, 3, 0, 13, 12, 9, 0, 21, 0, 8, 4044, 0, 0, 28, 86, 24175, 4, 0, 6945, 2, 667, 490, 4338, 3, 2, 142, 13457, 105, 215, 28, 0, 0, 0, 0, 23, 0, 0, 4, 0, 25, 0, 0, 15083, 105, 36, 0, 0, 23, 42, 0, 28, 2, 24175, 4, 0, 0, 0, 554, 77, 4255, 66, 23, 6, 0, 6061, 5, 11099, 12, 8, 86, 0, 6061, 4, 25, 3797, 3156, 8, 0, 13, 0, 9, 3056, 62, 0, 1829, 0, 3, 5, 307, 1922, 0, 12, 102, 86, 288, 0, 0, 3150, 4]\n",
      "[0, 810, 0, 0, 28, 0, 13, 0, 293, 15239, 0, 4, 0, 0, 10, 2, 6107, 6022, 27, 77, 30, 73, 10809, 128, 4756, 10385, 28, 0, 15, 12654, 0, 1341, 0, 4, 608, 0, 0, 32, 8, 36, 5504, 40, 0, 3, 6, 0, 0, 0, 4, 0, 698, 6, 0, 0, 7, 1523, 0, 0, 3, 0, 731, 2, 0, 2384, 8, 4044, 0, 4, 68, 0, 2285, 6, 1032, 7, 109, 1250, 12654, 0, 53, 15537, 7, 0, 0, 10, 0, 27, 0, 28, 0, 17, 0, 17, 0, 6637, 0, 0, 3, 19727, 0, 28, 0, 17, 0, 17, 24435, 3, 5, 0, 28, 0, 17, 0, 17, 0, 6637, 0, 0, 30, 4]\n",
      "[0, 0, 0, 3, 0, 7, 834, 1413, 15, 0, 7, 0, 0, 3, 0, 6, 0, 431, 7, 0, 23, 0, 13, 18120, 21, 0, 5, 0, 4, 25, 8417, 7, 2, 331, 0, 3, 5985, 8, 0, 3, 32, 8, 534, 14, 6734, 0, 5, 11743, 56, 12864, 18371, 13144, 320, 0, 0, 0, 14, 4, 0, 25, 0, 65, 14296, 0, 13, 1590, 10, 0, 8, 915, 1759, 0, 202, 0, 23, 42, 0, 3, 101, 658, 0, 23, 331, 1799, 13214, 40, 2, 2616, 3, 5, 8, 2619, 0, 128, 0, 0, 8, 2128, 6070, 4, 0, 0, 0, 65, 36, 0, 3, 0, 0, 3, 20297, 0, 0, 3, 5, 0, 0, 9212, 783, 10, 834, 1413, 2616, 3, 50, 13, 34, 21398, 10, 834, 1413, 2616, 4, 0, 0, 7, 203, 0, 32, 2411, 0, 40, 2, 0, 3905, 4]\n",
      "[0, 0, 2762, 0, 0, 3, 0, 40, 2, 2128, 0, 23804, 531, 2, 0, 0, 24641, 7, 2, 0, 17954, 11595, 3, 32, 0, 166, 10, 0, 7, 0, 0, 4, 0, 0, 32, 5827, 8, 0, 1523, 0, 0, 6637, 5075, 20602, 10, 1183, 8, 24950, 23, 2, 0, 4, 0, 176, 1174, 0, 27, 14085, 0, 3885, 0, 30, 2260, 273, 0, 3, 0, 13, 35, 3375, 0, 0, 83, 348, 4748, 93, 2, 4221, 5602, 5925, 4]\n",
      "[0, 8, 0, 15, 13091, 5, 0, 21, 0, 8, 5199, 0, 16015, 7, 86, 288, 0, 0, 3, 2, 0, 8266, 3109, 0, 6, 9373, 4430, 7, 2, 0, 9251, 0, 1405, 3, 5, 2, 2273, 8, 0, 6, 2130, 0, 2452, 3015, 28, 2, 0, 9251, 4, 0, 1051, 6, 4430, 7, 2, 0, 9251, 0, 1405, 3, 0, 100, 0, 21060, 0, 13, 45, 4790, 27, 3383, 8804, 30, 5, 9259, 109, 0, 47, 144, 23958, 4, 0, 0, 40, 22279, 45, 14, 34, 5, 154, 105, 22820, 10, 128, 0, 2452, 3015, 14, 4, 25, 8266, 121, 2820, 6, 9493, 6010, 0, 13, 12, 105, 990, 8, 16964, 127, 0, 1405, 8, 0, 2452, 40, 14, 0, 5187, 0, 8, 286, 86, 0, 372, 47, 0, 4, 0, 5, 4228, 28, 109, 0, 14, 3, 20, 106, 20, 1492, 6, 0, 8, 0, 0, 4592, 0, 10, 0, 2, 0, 2452, 3015, 722, 4]\n",
      "[25, 2526, 15, 0, 7, 7586, 15, 7353, 0, 0, 686, 0, 826, 15690, 60, 3489, 0, 8, 4398, 6, 0, 686, 764, 0, 0, 3, 0, 123, 8, 818, 86, 19278, 40, 10455, 2141, 4, 1317, 60, 32, 0, 2, 0, 3, 2, 0, 0, 6606, 3553, 60, 15691, 0, 13, 5579, 42, 3489, 0, 1805, 0, 4, 0, 0, 0, 3, 1078, 0, 0, 0, 5, 109, 0, 3, 203, 0, 0, 3673, 8, 24156, 3, 26, 41, 7354, 8923, 0, 47, 86, 0, 10, 0, 4]\n",
      "[25, 0, 19984, 20864, 0, 0, 8, 36, 13547, 3, 33, 0, 3, 1661, 8, 12813, 0, 20041, 13144, 21, 13, 20041, 0, 686, 273, 1206, 10, 6162, 1405, 23, 6, 577, 2317, 7, 0, 3, 47, 2, 72, 12, 15, 22549, 8, 2, 72, 12, 15, 2041, 4, 25, 4831, 9, 10438, 0, 20, 0, 5, 4811, 2729, 3, 0, 16687, 7, 2, 0, 8, 4254, 0, 15, 5602, 5925, 21, 273, 0, 3, 1661, 8, 43, 24610, 7, 5306, 21139, 0, 4, 14655, 3, 652, 3, 24206, 13, 2, 19473, 20041, 3060, 307, 645, 36, 513, 93, 80, 0, 83, 3858, 20, 0, 4981, 17, 26, 8, 6, 5602, 13, 0, 10, 20041, 17, 1658, 7679, 3, 12, 9, 6, 1630, 6468, 8, 0, 4]\n",
      "[192, 43, 23899, 9773, 14, 25, 12995, 16753, 0, 14, 3, 11094, 0, 0, 19692, 12132, 13, 43, 0, 0, 10, 21281, 2441, 3, 6018, 9, 10, 278, 0, 15, 14713, 4, 0, 13390, 28, 0, 5, 8164, 21, 0, 15, 337, 3, 19692, 15, 23899, 2378, 10073, 43, 0, 2317, 7, 0, 1186, 8, 0, 0, 3, 44, 0, 128, 9972, 10, 0, 5, 3492, 23, 0, 47, 2, 3930, 4, 25, 0, 3905, 65, 516, 200, 28, 8, 7041, 51, 1523, 0, 23, 0, 0, 4]\n"
     ]
    },
    {
     "name": "stdout",
     "output_type": "stream",
     "text": [
      "[714, 3334, 43, 16468, 0, 8, 0, 28, 0, 2563, 3, 15898, 13, 6, 0, 82, 21434, 86, 288, 1566, 17, 0, 0, 199, 2, 545, 7, 0, 0, 7150, 3, 0, 0, 15296, 0, 0, 15, 11595, 5, 0, 24712, 200, 11497, 320, 10123, 1641, 4, 3439, 0, 5, 0, 0, 4398, 6, 0, 6010, 0, 2, 0, 3, 0, 3, 5, 22049, 0, 0, 40, 2, 23304, 7, 2, 4473, 17, 783, 15296, 3, 157, 43, 20262, 0, 20412, 20864, 2195, 13, 159, 0, 0, 83, 768, 40, 2, 2384, 4]\n",
      "[0, 0, 3, 0, 3, 5, 0, 17, 15005, 42, 5338, 6, 0, 7, 0, 1236, 8, 5866, 0, 7150, 13, 83, 1498, 10333, 41, 0, 0, 0, 10, 2, 0, 53, 0, 4, 0, 0, 0, 0, 117, 3, 28, 0, 2563, 3, 19863, 0, 8, 6, 6129, 6210, 10, 0, 5925, 141, 2, 0, 3015, 19, 0, 28, 0, 4875, 3, 0, 8, 6, 8419, 7, 1302, 41, 0, 0, 3, 12, 307, 33, 36, 1417, 13, 2, 0, 3015, 19, 10261, 4209, 23, 2, 1302, 45, 5338, 28, 0, 0, 4, 13907, 803, 14164]\n",
      "[0, 127, 117, 0, 28, 0, 15, 0, 13091, 3, 2, 2526, 15, 0, 7, 7586, 0, 0, 0, 15, 1078, 0, 33, 8, 36, 6, 0, 4, 25, 19984, 1206, 0, 128, 10225, 20409, 8, 9391, 3, 0, 3, 50, 2322, 3160, 0, 5468, 8, 0, 4, 6945, 2, 2232, 5977, 3, 2061, 0, 2569, 0, 2, 3489, 0, 0, 3, 20, 0, 10138, 569, 8, 226, 9864, 3, 18973, 1424, 8, 1516, 10, 14279, 3, 5, 0, 270, 2, 0, 13319, 21416, 4]\n",
      "[0, 4397, 0, 0, 47, 7586, 0, 7348, 0, 4748, 5, 4748, 3, 12282, 6, 15362, 28, 0, 0, 4, 0, 8, 19553, 21390, 8761, 2, 5565, 7, 449, 1159, 2, 1314, 15, 23240, 3, 3489, 14987, 22675, 2, 6034, 5736, 40, 0, 21, 1792, 7471, 3, 7119, 43, 16157, 8, 2, 2616, 15, 0, 10123, 0, 3, 2, 0, 4, 25, 18561, 7, 6482, 3489, 1019, 10, 0, 9, 5306, 16189, 8, 14646, 10319, 15, 538, 0, 3, 76, 0, 6, 0, 17990, 23, 0, 10, 2, 8954, 7, 2, 10455, 10569, 3, 0, 0, 0, 5, 4232, 159, 0, 0, 10, 54, 142, 908, 3, 6067, 10438, 10, 2, 10114, 3930, 4]\n",
      "[19724, 10, 3489, 41, 43, 19859, 0, 3, 985, 0, 944, 13, 0, 107, 32, 1658, 8, 22820, 10, 2, 0, 5602, 3, 0, 5, 13, 37, 65, 0, 3479, 0, 6, 296, 17, 6683, 4253, 28, 2, 0, 4, 0, 0, 7, 35, 23523, 0, 2, 730, 13672, 3489, 0, 0, 3, 21, 2, 0, 3, 0, 7586, 3, 501, 9391, 0, 62, 93, 3562, 213, 7, 2, 305, 15, 580, 17, 0, 15296, 3, 0, 0, 4]\n",
      "[0, 791, 2, 701, 14, 14130, 0, 17954, 95, 0, 0, 3, 0, 3, 5, 0, 7, 0, 0, 3, 14, 772, 23, 2, 5539, 0, 0, 15, 9577, 9, 17651, 1538, 2, 0, 3905, 1804, 66, 8, 2, 5234, 4, 370, 2, 10971, 0, 3, 652, 3, 148, 7, 2, 0, 5, 0, 1993, 13, 0, 3553, 113, 5466, 4, 25, 1844, 0, 9, 23530, 66, 40, 3941, 0, 0, 3, 2618, 7, 2, 5539, 0, 15, 0, 0, 0, 23790, 27, 0, 30, 3, 44, 0, 3, 0, 530, 264, 8, 24156, 10, 6, 124, 13, 90, 33, 0, 0, 4, 0]\n",
      "[24480, 6, 13828, 7, 9948, 480, 0, 1159, 2, 9600, 3, 2, 5539, 0, 0, 7, 0, 27, 10, 0, 21, 109, 0, 30, 1938, 8, 8679, 2, 20262, 0, 7, 2, 934, 11135, 0, 3, 76, 319, 116, 7, 127, 0, 10, 0, 3762, 4, 15224, 0, 3, 10356, 40, 2, 6340, 8, 36, 2, 4837, 15, 0, 3, 0, 0, 7001, 3, 9, 9568, 10, 6, 6823, 10315, 0, 0, 5, 16870, 21, 0, 0, 3, 2471, 0, 3, 449, 0, 5, 3497, 10, 6, 0, 20321, 3965, 0, 4, 0, 5896, 0, 0, 7, 2, 0, 17954, 15, 20262, 0, 0, 32, 0, 41, 2, 72, 3, 5, 43, 15868, 0, 0, 47, 0, 15, 5133, 0, 32, 22290, 66, 490, 5977, 516, 4]\n",
      "[25, 1799, 17, 8, 17, 1799, 0, 15296, 82, 99, 0, 28, 2, 5571, 331, 0, 0, 0, 0, 13903, 8, 2019, 127, 0, 53, 0, 10, 0, 17, 0, 3, 0, 19278, 4, 451, 2, 0, 0, 13, 12, 73, 33, 9152, 6361, 2, 0, 0, 2820, 8089, 0, 3, 0, 9, 1726, 8, 0, 0, 5, 2328, 21398, 53, 0, 4]\n",
      "[451, 0, 0, 7232, 43, 464, 5075, 6061, 21, 8394, 0, 3, 7881, 5, 0, 3547, 0, 19782, 0, 88, 0, 8, 2, 2386, 3, 0, 743, 31, 1590, 10, 50, 15296, 0, 23, 174, 0, 59, 0, 5, 0, 5437, 174, 1799, 4044, 0, 47, 21398, 5, 4790, 2, 0, 783, 28, 0, 0, 27, 20715, 0, 30, 59, 0, 25, 5539, 0, 2644, 2322, 4, 1051, 2, 0, 12918, 3, 0, 0, 0, 0, 1523, 0, 47, 43, 6061, 17747, 40, 6, 0, 0, 0, 13, 19, 541, 8, 3874, 0, 8, 5, 47, 5539, 21398, 3, 5, 2, 1305, 7, 0, 15, 15332, 6227, 731, 169, 62, 0, 4]\n",
      "[0, 283, 8, 36, 6, 0, 0, 17, 7, 17, 23804, 27, 0, 30, 3015, 28, 2, 0, 0, 15296, 3, 2, 113, 0, 7, 0, 28, 2, 17682, 7, 0, 15, 0, 0, 0, 0, 0, 15, 0, 3, 10478, 0, 8, 0, 5, 4310, 4, 0, 8762, 51, 2, 15296, 15, 0, 16901, 6, 1889, 19502, 17, 5199, 13, 0, 2, 5602, 5, 7348, 0, 274, 8, 4275, 17, 0, 4429, 3, 240, 14540, 259, 6, 231, 908, 516, 4]\n",
      "[0, 40, 0, 7881, 0, 0, 3, 2, 0, 3, 2, 3784, 0, 3, 2, 3784, 16109, 0, 5, 2, 11039, 0, 0, 3, 2, 0, 456, 0, 0, 9, 8345, 8, 0, 2, 0, 0, 0, 4, 20172, 127, 13230, 3, 652, 3, 9, 6, 0, 0, 0, 47, 116, 5075, 19278, 21, 0, 159, 2, 0, 0, 0, 17, 6, 1099, 13459, 33, 54, 23, 7447, 0, 26, 148, 0, 3, 20, 2, 8910, 15, 0, 0, 82, 115, 12, 6, 1958, 13057, 20041, 0, 3, 998, 10, 15841, 4, 0, 0, 8, 0, 86, 0, 240, 2, 0, 15, 13230, 286, 1772, 3, 148, 7, 203, 6061, 0, 1656, 6162, 0, 20344, 0, 3, 4419, 6, 5925, 0, 199, 677, 10455, 13, 1518, 2, 2240, 7, 38, 0, 47, 51, 1523, 1996, 8, 159, 1523, 0, 4]\n",
      "[0, 12215, 10, 0, 5, 2, 0, 7, 60, 0, 3, 2, 5925, 8655, 0, 5, 2, 0, 0, 15296, 0, 0, 0, 0, 4, 9196, 8, 6, 0, 5, 0, 9047, 40, 0, 0, 3, 0, 3, 5, 3905, 2033, 3, 2, 0, 9, 21059, 1409, 1093, 157, 2, 0, 7, 142, 1972, 0, 0, 3, 810, 0, 27, 7, 0, 0, 30, 5, 0, 0, 27, 7, 0, 15, 8266, 30, 3, 0, 0, 60, 7, 86, 0, 0, 0, 10, 1183, 8, 0, 8, 2, 1721, 3, 0, 469, 4, 1836, 0, 469, 3, 0, 3, 9, 1138, 11410, 157, 3, 20320, 0, 8, 9259, 2, 280, 722, 4]\n",
      "[192, 590, 21, 2, 280, 3242, 23, 0, 15, 0, 3, 2, 1032, 7, 0, 1944, 8, 20005, 0, 0, 127, 117, 0, 3, 736, 2, 296, 5, 0, 3874, 7, 0, 2, 2317, 7, 331, 0, 16886, 2, 0, 4, 1691, 0, 0, 11309, 0, 32, 0, 8, 10961, 273, 1284, 217, 3, 0, 274, 2, 1032, 7, 331, 0, 13721, 584, 2, 20005, 10533, 10717, 10, 2, 495, 0, 3, 8, 0, 6, 0, 449, 17411, 7, 0, 0, 4, 68, 4275, 17, 0, 16964, 8, 0, 9, 6, 1250, 6470, 7, 2, 0, 15, 19859, 22645, 3, 2240, 12576, 5, 0, 4]\n",
      "[192, 6, 3098, 5, 0, 1347, 3, 0, 6303, 2, 4831, 95, 0, 0, 1079, 0, 12781, 47, 159, 4582, 6769, 3, 5, 148, 2198, 7890, 13457, 34, 1331, 0, 94, 103, 58, 0, 132, 43, 4749, 0, 47, 0, 3, 0, 3, 50, 0, 184, 34, 0, 12781, 8, 2, 0, 111, 7, 0, 2820, 45, 261, 0, 2290, 4, 7000, 8417, 9, 8, 0, 107, 3, 33, 12809, 123, 4, 0, 370, 38, 7, 2, 6150, 116, 1958, 0, 28, 2, 11135, 3, 0, 15, 1551, 0, 2, 124, 23, 516, 0, 0, 10, 0, 4]\n",
      "[0, 11840, 0, 0, 1019, 0, 3917, 7, 2295, 2452, 8, 127, 0, 3, 0, 0, 0, 27, 940, 28, 0, 20, 0, 30, 1938, 2, 0, 14279, 23, 51, 6959, 4338, 3, 19754, 77, 1972, 0, 7, 0, 27, 2795, 6499, 0, 30, 5, 6178, 56, 0, 1019, 0, 0, 4, 1364, 0, 8734, 3, 0, 3, 0, 0, 6, 0, 8, 2, 14279, 3, 5, 0, 21, 0, 0, 284, 0, 5, 0, 0, 4, 1364, 21257, 24435, 3, 0, 3, 2, 5539, 0, 5, 0, 0, 0, 21377, 686, 0, 23, 0, 0, 10, 6, 0, 10813, 4]\n",
      "[1836, 4372, 0, 0, 0, 15, 0, 9251, 5, 2619, 14302, 56, 19278, 5468, 8, 0, 3, 1805, 0, 2, 0, 7, 6959, 21398, 4, 0, 3, 6, 1972, 12654, 0, 15296, 3, 9, 0, 1016, 3, 5307, 62, 93, 0, 0, 3, 241, 109, 15691, 2986, 3093, 0, 15, 798, 0, 0, 0, 20, 106, 20, 0, 0, 27, 121, 940, 20, 0, 30, 3, 2, 0, 7, 6, 1972, 0, 8266, 4, 3319, 0, 5, 0, 15, 8266, 5260, 2, 0, 15, 0, 28, 0, 7, 86, 21398, 4]\n",
      "[1364, 0, 4875, 3, 0, 3, 0, 3, 43, 12654, 0, 6680, 5, 1958, 1531, 23, 0, 0, 0, 12, 105, 0, 42, 0, 5468, 8, 2, 0, 1236, 8, 8762, 7, 127, 0, 4, 2781, 908, 516, 3, 0, 2820, 8089, 449, 0, 0, 2, 1958, 0, 15296, 5, 0, 15016, 0, 8, 0, 127, 1799, 5, 2619, 1656, 9632, 127, 0, 0, 8, 0, 127, 21398, 5, 0, 4, 25, 2232, 423, 3, 5439, 0, 3, 940, 28, 0, 20, 0, 3, 0, 0, 6, 19353, 23935, 10, 125, 0, 17, 20186, 3, 256, 12654, 15296, 3, 0, 127, 0, 53, 19278, 5, 0, 4]\n",
      "[714, 2, 5014, 0, 7, 16, 22966, 3, 0, 17, 19105, 644, 3, 0, 4829, 339, 28, 2, 162, 8, 0, 0, 8, 331, 0, 4, 5896, 0, 3185, 1440, 9283, 10, 8, 146, 14, 0, 23, 0, 14, 28, 0, 2141, 3, 0, 141, 2, 78, 5088, 6, 2762, 0, 23, 2, 14713, 7, 0, 3, 44, 9, 16870, 21, 4156, 6, 0, 10, 9113, 21, 2, 5539, 0, 4, 3627, 2, 5866, 12841, 3, 0, 5690, 0, 2232, 2, 162, 15, 0, 4]\n",
      "[1885, 0, 12781, 8, 2, 0, 7, 43, 10123, 0, 1398, 23, 2, 0, 0, 0, 15296, 3, 6, 0, 0, 6, 1983, 56, 17, 7, 17, 2828, 1955, 7, 2, 11595, 15, 10020, 0, 3, 969, 0, 0, 5, 0, 0, 0, 4, 0, 86, 0, 0, 17, 1170, 12781, 8, 2, 4837, 3, 45, 420, 7820, 2918, 8, 5199, 0, 13, 58, 29, 3764, 3, 0, 0, 0, 584, 2, 234, 1736, 10533, 54, 1523, 0, 7767, 0, 4, 0, 0, 0, 2, 0, 0, 5, 0, 0, 23, 4574, 908, 8, 1491, 17, 24982, 86, 0, 3, 5, 142, 109, 1972, 0, 4398, 0, 0, 241, 86, 288, 6320, 9, 19525, 4, 7724, 157, 3, 6, 1955, 7, 2, 0, 9, 0, 5, 9, 541, 8, 0, 7150, 686, 19278, 2707, 40, 16687, 7, 2, 0, 12654, 0, 6680, 44, 3133, 2, 243, 0, 28, 325, 0, 3, 13307, 10, 0, 7, 159, 0, 0, 47, 24221, 0, 0, 4]\n"
     ]
    },
    {
     "name": "stdout",
     "output_type": "stream",
     "text": [
      "[0, 0, 25, 0, 0, 2798, 321, 4287, 22449, 5941, 0, 0, 3, 0, 19195, 23069, 15, 668, 28, 0, 9, 20, 13776, 20, 12, 9, 1958, 4, 750, 148, 107, 1607, 12, 3, 2, 5649, 17764, 13, 0, 52, 6, 11003, 2240, 13144, 38, 13, 15, 2017, 1834, 17, 4425, 595, 4, 1051, 6, 11099, 8, 0, 0, 10, 2, 6574, 3, 2, 23899, 844, 43, 11205, 0, 10, 5925, 13, 10617, 42, 1721, 20503, 3, 12282, 159, 1523, 0, 7767, 0, 54, 38, 2591, 157, 0, 4]\n",
      "[1364, 15834, 0, 3, 0, 3, 0, 0, 2, 117, 15296, 8, 9391, 0, 5, 1223, 0, 0, 27, 0, 30, 4, 971, 908, 516, 3, 28, 15834, 0, 3, 0, 10575, 4727, 6, 6680, 23, 660, 17, 8, 17, 660, 15296, 10, 22447, 0, 27, 0, 30, 5, 5539, 0, 4, 1364, 10455, 1158, 3, 0, 1457, 0, 0, 10, 0, 27, 0, 30, 5, 109, 0, 4, 22527, 3, 45, 0, 0, 0, 5, 0, 23, 7486, 7, 7359, 7, 331, 16687, 5, 2, 5602, 9, 0, 0, 4]\n",
      "[971, 142, 217, 220, 3, 0, 17985, 0, 21, 2, 5539, 0, 28, 2, 0, 0, 15296, 4, 25, 2232, 423, 3, 60, 1958, 3797, 0, 1419, 889, 28, 2, 17414, 0, 3, 10478, 193, 6, 0, 7, 1019, 10, 2, 4397, 0, 13, 2, 10123, 0, 11595, 9, 0, 0, 4]\n",
      "[0, 6, 17010, 0, 7, 2, 124, 18035, 3874, 2881, 3, 43, 4372, 636, 4480, 6, 0, 0, 13, 0, 0, 0, 13144, 1420, 10391, 17, 8614, 333, 20, 148, 20, 73, 0, 3764, 10, 2, 691, 3150, 4, 25, 0, 9, 1805, 0, 40, 0, 0, 5, 3905, 2033, 3, 5, 6, 0, 469, 7, 2, 0, 0, 9, 1138, 1409, 1093, 4, 1885, 2, 667, 423, 3, 2, 0, 0, 0, 2, 21434, 38, 3, 5, 0, 9, 204, 10, 2554, 14279, 13144, 26, 33, 240, 2, 5602, 9, 1770, 0, 4]\n",
      "[0, 0, 3, 6, 0, 170, 940, 23, 4156, 2, 2130, 0, 0, 17, 8, 17, 0, 9251, 10, 7796, 3, 0, 2, 0, 7, 0, 0, 3, 6, 331, 614, 17, 72, 0, 15296, 4, 13390, 28, 6, 6570, 3, 6294, 2543, 7, 0, 15, 8, 1780, 43, 12654, 15296, 23, 0, 95, 25, 0, 11501, 3, 37, 1053, 8270, 8, 653, 66, 21, 2, 9214, 7, 2, 1799, 5, 21633, 0, 8, 3547, 0, 28, 15834, 2563, 3, 0, 4, 0, 0, 65, 2569, 5557, 8, 0, 2, 305, 7, 0, 0, 159, 2, 667, 490, 217, 4]\n",
      "[25, 1347, 7, 0, 469, 0, 9, 5859, 28, 0, 3, 6, 1958, 3797, 5, 4888, 11595, 4, 0, 6, 1972, 477, 7, 0, 3, 2, 23899, 1738, 148, 11726, 17, 1669, 107, 28, 4999, 3, 4419, 2, 15296, 2240, 7, 6, 1174, 0, 66, 1420, 0, 3, 47, 0, 1523, 0, 8, 1523, 0, 10, 54, 1356, 908, 4]\n",
      "[0, 10020, 0, 27, 0, 0, 30, 10529, 0, 0, 23, 142, 0, 4851, 8, 86, 609, 27, 0, 41, 51, 1523, 6150, 30, 3, 14798, 5, 3060, 23, 40, 256, 10020, 3, 0, 4, 68, 0, 2, 117, 0, 0, 8, 0, 17, 51, 1523, 0, 7767, 0, 4]\n",
      "[0, 0, 3, 0, 20826, 0, 0, 47, 0, 23, 1523, 0, 3, 0, 8, 24221, 38, 0, 7, 6, 0, 7767, 0, 4]\n",
      "[834, 0, 0, 4727, 6, 6680, 8, 1589, 5, 5199, 0, 3, 21, 43, 5014, 15296, 1736, 7, 0, 0, 8, 38, 5539, 0, 3, 50, 51, 6959, 0, 7, 6, 0, 7767, 0, 4, 25, 1736, 9, 0, 47, 2, 5448, 7, 0, 541, 40, 6, 2471, 8, 21466, 3, 50, 0, 4228, 0, 2, 0, 4]\n",
      "[25, 117, 0, 0, 4254, 3, 50, 0, 12809, 3, 8905, 166, 2, 0, 0, 5, 3349, 6, 6976, 8, 6, 0, 0, 9736, 0, 7, 13, 423, 95, 25, 12556, 0, 0, 28, 0, 7, 580, 0, 23, 0, 4, 25, 5014, 0, 5134, 5, 127, 5609, 10208, 32, 1138, 40, 0, 0, 3353, 908, 516, 4]\n"
     ]
    },
    {
     "data": {
      "text/html": [
       "<div>\n",
       "<style scoped>\n",
       "    .dataframe tbody tr th:only-of-type {\n",
       "        vertical-align: middle;\n",
       "    }\n",
       "\n",
       "    .dataframe tbody tr th {\n",
       "        vertical-align: top;\n",
       "    }\n",
       "\n",
       "    .dataframe thead th {\n",
       "        text-align: right;\n",
       "    }\n",
       "</style>\n",
       "<table border=\"1\" class=\"dataframe\">\n",
       "  <thead>\n",
       "    <tr style=\"text-align: right;\">\n",
       "      <th></th>\n",
       "      <th>event_id</th>\n",
       "      <th>event_title</th>\n",
       "      <th>event_date</th>\n",
       "      <th>bitcoin_value</th>\n",
       "      <th>bitcoin_value_10_days_later</th>\n",
       "      <th>event_maintext</th>\n",
       "      <th>title_label</th>\n",
       "      <th>maintext_label</th>\n",
       "      <th>title_pred</th>\n",
       "      <th>maintext_pred</th>\n",
       "    </tr>\n",
       "  </thead>\n",
       "  <tbody>\n",
       "    <tr>\n",
       "      <th>0</th>\n",
       "      <td>91</td>\n",
       "      <td>U.S. regulator demands trading data from Bitco...</td>\n",
       "      <td>11/6/2018</td>\n",
       "      <td>7158.95</td>\n",
       "      <td>6709.39</td>\n",
       "      <td>The U.S. Commodity Futures Trading Commission ...</td>\n",
       "      <td>0</td>\n",
       "      <td>0</td>\n",
       "      <td>1</td>\n",
       "      <td>1</td>\n",
       "    </tr>\n",
       "    <tr>\n",
       "      <th>1</th>\n",
       "      <td>90</td>\n",
       "      <td>South Korean crypto exchange, CoinRail has bee...</td>\n",
       "      <td>10/6/2018</td>\n",
       "      <td>7638.44</td>\n",
       "      <td>6747.77</td>\n",
       "      <td>South Korean crypto exchange Coinrail loses ov...</td>\n",
       "      <td>0</td>\n",
       "      <td>0</td>\n",
       "      <td>1</td>\n",
       "      <td>0</td>\n",
       "    </tr>\n",
       "    <tr>\n",
       "      <th>2</th>\n",
       "      <td>89</td>\n",
       "      <td>U.S.Justice Department launches criminal probe...</td>\n",
       "      <td>24/5/2018</td>\n",
       "      <td>7818.21</td>\n",
       "      <td>7608.50</td>\n",
       "      <td>The Justice Department has opened a criminal p...</td>\n",
       "      <td>0</td>\n",
       "      <td>0</td>\n",
       "      <td>0</td>\n",
       "      <td>0</td>\n",
       "    </tr>\n",
       "    <tr>\n",
       "      <th>3</th>\n",
       "      <td>88</td>\n",
       "      <td>Prosecutors raid largest South Korean exchange</td>\n",
       "      <td>11/5/2018</td>\n",
       "      <td>9289.09</td>\n",
       "      <td>8371.90</td>\n",
       "      <td>Prosecutors raided UpBit, the largest cryptocu...</td>\n",
       "      <td>0</td>\n",
       "      <td>0</td>\n",
       "      <td>1</td>\n",
       "      <td>1</td>\n",
       "    </tr>\n",
       "    <tr>\n",
       "      <th>4</th>\n",
       "      <td>87</td>\n",
       "      <td>Goldman Sachs announces to open a Bitcoin trad...</td>\n",
       "      <td>2/5/2018</td>\n",
       "      <td>9021.75</td>\n",
       "      <td>8728.95</td>\n",
       "      <td>One of the largest investment bank announced, ...</td>\n",
       "      <td>1</td>\n",
       "      <td>1</td>\n",
       "      <td>0</td>\n",
       "      <td>1</td>\n",
       "    </tr>\n",
       "  </tbody>\n",
       "</table>\n",
       "</div>"
      ],
      "text/plain": [
       "   event_id                                        event_title event_date  \\\n",
       "0        91  U.S. regulator demands trading data from Bitco...  11/6/2018   \n",
       "1        90  South Korean crypto exchange, CoinRail has bee...  10/6/2018   \n",
       "2        89  U.S.Justice Department launches criminal probe...  24/5/2018   \n",
       "3        88     Prosecutors raid largest South Korean exchange  11/5/2018   \n",
       "4        87  Goldman Sachs announces to open a Bitcoin trad...   2/5/2018   \n",
       "\n",
       "   bitcoin_value  bitcoin_value_10_days_later  \\\n",
       "0        7158.95                      6709.39   \n",
       "1        7638.44                      6747.77   \n",
       "2        7818.21                      7608.50   \n",
       "3        9289.09                      8371.90   \n",
       "4        9021.75                      8728.95   \n",
       "\n",
       "                                      event_maintext  title_label  \\\n",
       "0  The U.S. Commodity Futures Trading Commission ...            0   \n",
       "1  South Korean crypto exchange Coinrail loses ov...            0   \n",
       "2  The Justice Department has opened a criminal p...            0   \n",
       "3  Prosecutors raided UpBit, the largest cryptocu...            0   \n",
       "4  One of the largest investment bank announced, ...            1   \n",
       "\n",
       "   maintext_label  title_pred  maintext_pred  \n",
       "0               0           1              1  \n",
       "1               0           1              0  \n",
       "2               0           0              0  \n",
       "3               0           1              1  \n",
       "4               1           0              1  "
      ]
     },
     "execution_count": 18,
     "metadata": {},
     "output_type": "execute_result"
    }
   ],
   "source": [
    "# Predict, and round predictions\n",
    "_99bitcoin_df['title_pred'] = _99bitcoin_df['event_title'].apply(lambda x: int(round(predict_sentiment(x))))\n",
    "_99bitcoin_df['maintext_pred'] = _99bitcoin_df['event_maintext'].apply(lambda x: int(round(predict_sentiment(x))))\n",
    "_99bitcoin_df.head()"
   ]
  },
  {
   "cell_type": "code",
   "execution_count": 19,
   "metadata": {},
   "outputs": [
    {
     "name": "stdout",
     "output_type": "stream",
     "text": [
      "Title Confusion Matrix\n",
      "    0   1\n",
      "0  25  20\n",
      "1  34  12\n",
      "\n",
      " title precision = 0.38, title recall = 0.26, title F1 = 0.31, title accuracy = 0.41\n",
      "\n",
      "Maintext Confusion Matrix\n",
      "    0   1\n",
      "0  16  35\n",
      "1   8  32\n",
      "\n",
      " maintext precision = 0.48, maintext recall = 0.80, maintext F1 = 0.60, maintext accuracy = 0.53\n",
      "\n"
     ]
    }
   ],
   "source": [
    "from sklearn import metrics\n",
    "\n",
    "# Calculate precision and recall\n",
    "title_cm = metrics.confusion_matrix(_99bitcoin_df['title_label'], _99bitcoin_df['title_pred'])\n",
    "print('Title Confusion Matrix')\n",
    "print(pd.DataFrame(title_cm))\n",
    "title_report = metrics.precision_recall_fscore_support(_99bitcoin_df['title_label'], _99bitcoin_df['title_pred'], average='binary')\n",
    "print (\"\\n title precision = %0.2f, title recall = %0.2f, title F1 = %0.2f, title accuracy = %0.2f\\n\" % \n",
    "           (title_report[0], title_report[1], title_report[2], \n",
    "            metrics.accuracy_score(_99bitcoin_df['title_label'], _99bitcoin_df['title_pred'])))\n",
    "\n",
    "maintext_cm = metrics.confusion_matrix(_99bitcoin_df['maintext_label'], _99bitcoin_df['maintext_pred'])\n",
    "print('Maintext Confusion Matrix')\n",
    "print(pd.DataFrame(maintext_cm))\n",
    "title_report = metrics.precision_recall_fscore_support(_99bitcoin_df['maintext_label'], _99bitcoin_df['maintext_pred'], average='binary')\n",
    "print (\"\\n maintext precision = %0.2f, maintext recall = %0.2f, maintext F1 = %0.2f, maintext accuracy = %0.2f\\n\" % \n",
    "           (title_report[0], title_report[1], title_report[2], \n",
    "            metrics.accuracy_score(_99bitcoin_df['maintext_label'], _99bitcoin_df['maintext_pred'])))"
   ]
  }
 ],
 "metadata": {
  "kernelspec": {
   "display_name": "Python 3",
   "language": "python",
   "name": "python3"
  },
  "language_info": {
   "codemirror_mode": {
    "name": "ipython",
    "version": 3
   },
   "file_extension": ".py",
   "mimetype": "text/x-python",
   "name": "python",
   "nbconvert_exporter": "python",
   "pygments_lexer": "ipython3",
   "version": "3.6.5"
  }
 },
 "nbformat": 4,
 "nbformat_minor": 2
}
